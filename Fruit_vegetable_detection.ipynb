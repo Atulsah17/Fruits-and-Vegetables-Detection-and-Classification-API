{
  "nbformat": 4,
  "nbformat_minor": 0,
  "metadata": {
    "colab": {
      "provenance": [],
      "gpuType": "T4"
    },
    "kernelspec": {
      "name": "python3",
      "display_name": "Python 3"
    },
    "language_info": {
      "name": "python"
    },
    "accelerator": "GPU"
  },
  "cells": [
    {
      "cell_type": "code",
      "execution_count": null,
      "metadata": {
        "colab": {
          "base_uri": "https://localhost:8080/"
        },
        "id": "R1iIvQaTLE4P",
        "outputId": "f1a01092-af87-496d-ccce-c127da46f372"
      },
      "outputs": [
        {
          "output_type": "stream",
          "name": "stdout",
          "text": [
            "Tue Sep 24 09:07:37 2024       \n",
            "+---------------------------------------------------------------------------------------+\n",
            "| NVIDIA-SMI 535.104.05             Driver Version: 535.104.05   CUDA Version: 12.2     |\n",
            "|-----------------------------------------+----------------------+----------------------+\n",
            "| GPU  Name                 Persistence-M | Bus-Id        Disp.A | Volatile Uncorr. ECC |\n",
            "| Fan  Temp   Perf          Pwr:Usage/Cap |         Memory-Usage | GPU-Util  Compute M. |\n",
            "|                                         |                      |               MIG M. |\n",
            "|=========================================+======================+======================|\n",
            "|   0  Tesla T4                       Off | 00000000:00:04.0 Off |                    0 |\n",
            "| N/A   50C    P8              10W /  70W |      0MiB / 15360MiB |      0%      Default |\n",
            "|                                         |                      |                  N/A |\n",
            "+-----------------------------------------+----------------------+----------------------+\n",
            "                                                                                         \n",
            "+---------------------------------------------------------------------------------------+\n",
            "| Processes:                                                                            |\n",
            "|  GPU   GI   CI        PID   Type   Process name                            GPU Memory |\n",
            "|        ID   ID                                                             Usage      |\n",
            "|=======================================================================================|\n",
            "|  No running processes found                                                           |\n",
            "+---------------------------------------------------------------------------------------+\n"
          ]
        }
      ],
      "source": [
        "!nvidia-smi"
      ]
    },
    {
      "cell_type": "code",
      "source": [
        "!pip install ultralytics\n",
        "!pip install torch torchvision\n",
        "!pip install albumentations\n"
      ],
      "metadata": {
        "colab": {
          "base_uri": "https://localhost:8080/"
        },
        "id": "pHZiXrNITrLw",
        "outputId": "819cb41a-3576-4abc-e1f0-e661ba770c45"
      },
      "execution_count": null,
      "outputs": [
        {
          "output_type": "stream",
          "name": "stdout",
          "text": [
            "Collecting ultralytics\n",
            "  Downloading ultralytics-8.2.100-py3-none-any.whl.metadata (39 kB)\n",
            "Requirement already satisfied: numpy<2.0.0,>=1.23.0 in /usr/local/lib/python3.10/dist-packages (from ultralytics) (1.25.2)\n",
            "Requirement already satisfied: matplotlib>=3.3.0 in /usr/local/lib/python3.10/dist-packages (from ultralytics) (3.7.1)\n",
            "Requirement already satisfied: opencv-python>=4.6.0 in /usr/local/lib/python3.10/dist-packages (from ultralytics) (4.8.0.76)\n",
            "Requirement already satisfied: pillow>=7.1.2 in /usr/local/lib/python3.10/dist-packages (from ultralytics) (9.4.0)\n",
            "Requirement already satisfied: pyyaml>=5.3.1 in /usr/local/lib/python3.10/dist-packages (from ultralytics) (6.0.1)\n",
            "Requirement already satisfied: requests>=2.23.0 in /usr/local/lib/python3.10/dist-packages (from ultralytics) (2.31.0)\n",
            "Requirement already satisfied: scipy>=1.4.1 in /usr/local/lib/python3.10/dist-packages (from ultralytics) (1.11.4)\n",
            "Requirement already satisfied: torch>=1.8.0 in /usr/local/lib/python3.10/dist-packages (from ultralytics) (2.3.1+cu121)\n",
            "Requirement already satisfied: torchvision>=0.9.0 in /usr/local/lib/python3.10/dist-packages (from ultralytics) (0.18.1+cu121)\n",
            "Requirement already satisfied: tqdm>=4.64.0 in /usr/local/lib/python3.10/dist-packages (from ultralytics) (4.66.4)\n",
            "Requirement already satisfied: psutil in /usr/local/lib/python3.10/dist-packages (from ultralytics) (5.9.5)\n",
            "Requirement already satisfied: py-cpuinfo in /usr/local/lib/python3.10/dist-packages (from ultralytics) (9.0.0)\n",
            "Requirement already satisfied: pandas>=1.1.4 in /usr/local/lib/python3.10/dist-packages (from ultralytics) (2.0.3)\n",
            "Requirement already satisfied: seaborn>=0.11.0 in /usr/local/lib/python3.10/dist-packages (from ultralytics) (0.13.1)\n",
            "Collecting ultralytics-thop>=2.0.0 (from ultralytics)\n",
            "  Downloading ultralytics_thop-2.0.8-py3-none-any.whl.metadata (9.3 kB)\n",
            "Requirement already satisfied: contourpy>=1.0.1 in /usr/local/lib/python3.10/dist-packages (from matplotlib>=3.3.0->ultralytics) (1.2.1)\n",
            "Requirement already satisfied: cycler>=0.10 in /usr/local/lib/python3.10/dist-packages (from matplotlib>=3.3.0->ultralytics) (0.12.1)\n",
            "Requirement already satisfied: fonttools>=4.22.0 in /usr/local/lib/python3.10/dist-packages (from matplotlib>=3.3.0->ultralytics) (4.53.1)\n",
            "Requirement already satisfied: kiwisolver>=1.0.1 in /usr/local/lib/python3.10/dist-packages (from matplotlib>=3.3.0->ultralytics) (1.4.5)\n",
            "Requirement already satisfied: packaging>=20.0 in /usr/local/lib/python3.10/dist-packages (from matplotlib>=3.3.0->ultralytics) (24.1)\n",
            "Requirement already satisfied: pyparsing>=2.3.1 in /usr/local/lib/python3.10/dist-packages (from matplotlib>=3.3.0->ultralytics) (3.1.2)\n",
            "Requirement already satisfied: python-dateutil>=2.7 in /usr/local/lib/python3.10/dist-packages (from matplotlib>=3.3.0->ultralytics) (2.8.2)\n",
            "Requirement already satisfied: pytz>=2020.1 in /usr/local/lib/python3.10/dist-packages (from pandas>=1.1.4->ultralytics) (2023.4)\n",
            "Requirement already satisfied: tzdata>=2022.1 in /usr/local/lib/python3.10/dist-packages (from pandas>=1.1.4->ultralytics) (2024.1)\n",
            "Requirement already satisfied: charset-normalizer<4,>=2 in /usr/local/lib/python3.10/dist-packages (from requests>=2.23.0->ultralytics) (3.3.2)\n",
            "Requirement already satisfied: idna<4,>=2.5 in /usr/local/lib/python3.10/dist-packages (from requests>=2.23.0->ultralytics) (3.7)\n",
            "Requirement already satisfied: urllib3<3,>=1.21.1 in /usr/local/lib/python3.10/dist-packages (from requests>=2.23.0->ultralytics) (2.0.7)\n",
            "Requirement already satisfied: certifi>=2017.4.17 in /usr/local/lib/python3.10/dist-packages (from requests>=2.23.0->ultralytics) (2024.7.4)\n",
            "Requirement already satisfied: filelock in /usr/local/lib/python3.10/dist-packages (from torch>=1.8.0->ultralytics) (3.15.4)\n",
            "Requirement already satisfied: typing-extensions>=4.8.0 in /usr/local/lib/python3.10/dist-packages (from torch>=1.8.0->ultralytics) (4.12.2)\n",
            "Requirement already satisfied: sympy in /usr/local/lib/python3.10/dist-packages (from torch>=1.8.0->ultralytics) (1.13.1)\n",
            "Requirement already satisfied: networkx in /usr/local/lib/python3.10/dist-packages (from torch>=1.8.0->ultralytics) (3.3)\n",
            "Requirement already satisfied: jinja2 in /usr/local/lib/python3.10/dist-packages (from torch>=1.8.0->ultralytics) (3.1.4)\n",
            "Requirement already satisfied: fsspec in /usr/local/lib/python3.10/dist-packages (from torch>=1.8.0->ultralytics) (2023.6.0)\n",
            "Collecting nvidia-cuda-nvrtc-cu12==12.1.105 (from torch>=1.8.0->ultralytics)\n",
            "  Using cached nvidia_cuda_nvrtc_cu12-12.1.105-py3-none-manylinux1_x86_64.whl.metadata (1.5 kB)\n",
            "Collecting nvidia-cuda-runtime-cu12==12.1.105 (from torch>=1.8.0->ultralytics)\n",
            "  Using cached nvidia_cuda_runtime_cu12-12.1.105-py3-none-manylinux1_x86_64.whl.metadata (1.5 kB)\n",
            "Collecting nvidia-cuda-cupti-cu12==12.1.105 (from torch>=1.8.0->ultralytics)\n",
            "  Using cached nvidia_cuda_cupti_cu12-12.1.105-py3-none-manylinux1_x86_64.whl.metadata (1.6 kB)\n",
            "Collecting nvidia-cudnn-cu12==8.9.2.26 (from torch>=1.8.0->ultralytics)\n",
            "  Using cached nvidia_cudnn_cu12-8.9.2.26-py3-none-manylinux1_x86_64.whl.metadata (1.6 kB)\n",
            "Collecting nvidia-cublas-cu12==12.1.3.1 (from torch>=1.8.0->ultralytics)\n",
            "  Using cached nvidia_cublas_cu12-12.1.3.1-py3-none-manylinux1_x86_64.whl.metadata (1.5 kB)\n",
            "Collecting nvidia-cufft-cu12==11.0.2.54 (from torch>=1.8.0->ultralytics)\n",
            "  Using cached nvidia_cufft_cu12-11.0.2.54-py3-none-manylinux1_x86_64.whl.metadata (1.5 kB)\n",
            "Collecting nvidia-curand-cu12==10.3.2.106 (from torch>=1.8.0->ultralytics)\n",
            "  Using cached nvidia_curand_cu12-10.3.2.106-py3-none-manylinux1_x86_64.whl.metadata (1.5 kB)\n",
            "Collecting nvidia-cusolver-cu12==11.4.5.107 (from torch>=1.8.0->ultralytics)\n",
            "  Using cached nvidia_cusolver_cu12-11.4.5.107-py3-none-manylinux1_x86_64.whl.metadata (1.6 kB)\n",
            "Collecting nvidia-cusparse-cu12==12.1.0.106 (from torch>=1.8.0->ultralytics)\n",
            "  Using cached nvidia_cusparse_cu12-12.1.0.106-py3-none-manylinux1_x86_64.whl.metadata (1.6 kB)\n",
            "Collecting nvidia-nccl-cu12==2.20.5 (from torch>=1.8.0->ultralytics)\n",
            "  Using cached nvidia_nccl_cu12-2.20.5-py3-none-manylinux2014_x86_64.whl.metadata (1.8 kB)\n",
            "Collecting nvidia-nvtx-cu12==12.1.105 (from torch>=1.8.0->ultralytics)\n",
            "  Using cached nvidia_nvtx_cu12-12.1.105-py3-none-manylinux1_x86_64.whl.metadata (1.7 kB)\n",
            "Requirement already satisfied: triton==2.3.1 in /usr/local/lib/python3.10/dist-packages (from torch>=1.8.0->ultralytics) (2.3.1)\n",
            "Collecting nvidia-nvjitlink-cu12 (from nvidia-cusolver-cu12==11.4.5.107->torch>=1.8.0->ultralytics)\n",
            "  Downloading nvidia_nvjitlink_cu12-12.6.68-py3-none-manylinux2014_x86_64.whl.metadata (1.5 kB)\n",
            "Requirement already satisfied: six>=1.5 in /usr/local/lib/python3.10/dist-packages (from python-dateutil>=2.7->matplotlib>=3.3.0->ultralytics) (1.16.0)\n",
            "Requirement already satisfied: MarkupSafe>=2.0 in /usr/local/lib/python3.10/dist-packages (from jinja2->torch>=1.8.0->ultralytics) (2.1.5)\n",
            "Requirement already satisfied: mpmath<1.4,>=1.1.0 in /usr/local/lib/python3.10/dist-packages (from sympy->torch>=1.8.0->ultralytics) (1.3.0)\n",
            "Downloading ultralytics-8.2.100-py3-none-any.whl (874 kB)\n",
            "\u001b[2K   \u001b[90m━━━━━━━━━━━━━━━━━━━━━━━━━━━━━━━━━━━━━━━━\u001b[0m \u001b[32m874.1/874.1 kB\u001b[0m \u001b[31m22.7 MB/s\u001b[0m eta \u001b[36m0:00:00\u001b[0m\n",
            "\u001b[?25hUsing cached nvidia_cublas_cu12-12.1.3.1-py3-none-manylinux1_x86_64.whl (410.6 MB)\n",
            "Using cached nvidia_cuda_cupti_cu12-12.1.105-py3-none-manylinux1_x86_64.whl (14.1 MB)\n",
            "Using cached nvidia_cuda_nvrtc_cu12-12.1.105-py3-none-manylinux1_x86_64.whl (23.7 MB)\n",
            "Using cached nvidia_cuda_runtime_cu12-12.1.105-py3-none-manylinux1_x86_64.whl (823 kB)\n",
            "Using cached nvidia_cudnn_cu12-8.9.2.26-py3-none-manylinux1_x86_64.whl (731.7 MB)\n",
            "Using cached nvidia_cufft_cu12-11.0.2.54-py3-none-manylinux1_x86_64.whl (121.6 MB)\n",
            "Using cached nvidia_curand_cu12-10.3.2.106-py3-none-manylinux1_x86_64.whl (56.5 MB)\n",
            "Using cached nvidia_cusolver_cu12-11.4.5.107-py3-none-manylinux1_x86_64.whl (124.2 MB)\n",
            "Using cached nvidia_cusparse_cu12-12.1.0.106-py3-none-manylinux1_x86_64.whl (196.0 MB)\n",
            "Using cached nvidia_nccl_cu12-2.20.5-py3-none-manylinux2014_x86_64.whl (176.2 MB)\n",
            "Using cached nvidia_nvtx_cu12-12.1.105-py3-none-manylinux1_x86_64.whl (99 kB)\n",
            "Downloading ultralytics_thop-2.0.8-py3-none-any.whl (26 kB)\n",
            "Downloading nvidia_nvjitlink_cu12-12.6.68-py3-none-manylinux2014_x86_64.whl (19.7 MB)\n",
            "\u001b[2K   \u001b[90m━━━━━━━━━━━━━━━━━━━━━━━━━━━━━━━━━━━━━━━━\u001b[0m \u001b[32m19.7/19.7 MB\u001b[0m \u001b[31m63.3 MB/s\u001b[0m eta \u001b[36m0:00:00\u001b[0m\n",
            "\u001b[?25hInstalling collected packages: nvidia-nvtx-cu12, nvidia-nvjitlink-cu12, nvidia-nccl-cu12, nvidia-curand-cu12, nvidia-cufft-cu12, nvidia-cuda-runtime-cu12, nvidia-cuda-nvrtc-cu12, nvidia-cuda-cupti-cu12, nvidia-cublas-cu12, nvidia-cusparse-cu12, nvidia-cudnn-cu12, nvidia-cusolver-cu12, ultralytics-thop, ultralytics\n",
            "Successfully installed nvidia-cublas-cu12-12.1.3.1 nvidia-cuda-cupti-cu12-12.1.105 nvidia-cuda-nvrtc-cu12-12.1.105 nvidia-cuda-runtime-cu12-12.1.105 nvidia-cudnn-cu12-8.9.2.26 nvidia-cufft-cu12-11.0.2.54 nvidia-curand-cu12-10.3.2.106 nvidia-cusolver-cu12-11.4.5.107 nvidia-cusparse-cu12-12.1.0.106 nvidia-nccl-cu12-2.20.5 nvidia-nvjitlink-cu12-12.6.68 nvidia-nvtx-cu12-12.1.105 ultralytics-8.2.100 ultralytics-thop-2.0.8\n",
            "Requirement already satisfied: torch in /usr/local/lib/python3.10/dist-packages (2.3.1+cu121)\n",
            "Requirement already satisfied: torchvision in /usr/local/lib/python3.10/dist-packages (0.18.1+cu121)\n",
            "Requirement already satisfied: filelock in /usr/local/lib/python3.10/dist-packages (from torch) (3.15.4)\n",
            "Requirement already satisfied: typing-extensions>=4.8.0 in /usr/local/lib/python3.10/dist-packages (from torch) (4.12.2)\n",
            "Requirement already satisfied: sympy in /usr/local/lib/python3.10/dist-packages (from torch) (1.13.1)\n",
            "Requirement already satisfied: networkx in /usr/local/lib/python3.10/dist-packages (from torch) (3.3)\n",
            "Requirement already satisfied: jinja2 in /usr/local/lib/python3.10/dist-packages (from torch) (3.1.4)\n",
            "Requirement already satisfied: fsspec in /usr/local/lib/python3.10/dist-packages (from torch) (2023.6.0)\n",
            "Requirement already satisfied: nvidia-cuda-nvrtc-cu12==12.1.105 in /usr/local/lib/python3.10/dist-packages (from torch) (12.1.105)\n",
            "Requirement already satisfied: nvidia-cuda-runtime-cu12==12.1.105 in /usr/local/lib/python3.10/dist-packages (from torch) (12.1.105)\n",
            "Requirement already satisfied: nvidia-cuda-cupti-cu12==12.1.105 in /usr/local/lib/python3.10/dist-packages (from torch) (12.1.105)\n",
            "Requirement already satisfied: nvidia-cudnn-cu12==8.9.2.26 in /usr/local/lib/python3.10/dist-packages (from torch) (8.9.2.26)\n",
            "Requirement already satisfied: nvidia-cublas-cu12==12.1.3.1 in /usr/local/lib/python3.10/dist-packages (from torch) (12.1.3.1)\n",
            "Requirement already satisfied: nvidia-cufft-cu12==11.0.2.54 in /usr/local/lib/python3.10/dist-packages (from torch) (11.0.2.54)\n",
            "Requirement already satisfied: nvidia-curand-cu12==10.3.2.106 in /usr/local/lib/python3.10/dist-packages (from torch) (10.3.2.106)\n",
            "Requirement already satisfied: nvidia-cusolver-cu12==11.4.5.107 in /usr/local/lib/python3.10/dist-packages (from torch) (11.4.5.107)\n",
            "Requirement already satisfied: nvidia-cusparse-cu12==12.1.0.106 in /usr/local/lib/python3.10/dist-packages (from torch) (12.1.0.106)\n",
            "Requirement already satisfied: nvidia-nccl-cu12==2.20.5 in /usr/local/lib/python3.10/dist-packages (from torch) (2.20.5)\n",
            "Requirement already satisfied: nvidia-nvtx-cu12==12.1.105 in /usr/local/lib/python3.10/dist-packages (from torch) (12.1.105)\n",
            "Requirement already satisfied: triton==2.3.1 in /usr/local/lib/python3.10/dist-packages (from torch) (2.3.1)\n",
            "Requirement already satisfied: nvidia-nvjitlink-cu12 in /usr/local/lib/python3.10/dist-packages (from nvidia-cusolver-cu12==11.4.5.107->torch) (12.6.68)\n",
            "Requirement already satisfied: numpy in /usr/local/lib/python3.10/dist-packages (from torchvision) (1.25.2)\n",
            "Requirement already satisfied: pillow!=8.3.*,>=5.3.0 in /usr/local/lib/python3.10/dist-packages (from torchvision) (9.4.0)\n",
            "Requirement already satisfied: MarkupSafe>=2.0 in /usr/local/lib/python3.10/dist-packages (from jinja2->torch) (2.1.5)\n",
            "Requirement already satisfied: mpmath<1.4,>=1.1.0 in /usr/local/lib/python3.10/dist-packages (from sympy->torch) (1.3.0)\n",
            "Requirement already satisfied: albumentations in /usr/local/lib/python3.10/dist-packages (1.3.1)\n",
            "Requirement already satisfied: numpy>=1.11.1 in /usr/local/lib/python3.10/dist-packages (from albumentations) (1.25.2)\n",
            "Requirement already satisfied: scipy>=1.1.0 in /usr/local/lib/python3.10/dist-packages (from albumentations) (1.11.4)\n",
            "Requirement already satisfied: scikit-image>=0.16.1 in /usr/local/lib/python3.10/dist-packages (from albumentations) (0.19.3)\n",
            "Requirement already satisfied: PyYAML in /usr/local/lib/python3.10/dist-packages (from albumentations) (6.0.1)\n",
            "Requirement already satisfied: qudida>=0.0.4 in /usr/local/lib/python3.10/dist-packages (from albumentations) (0.0.4)\n",
            "Requirement already satisfied: opencv-python-headless>=4.1.1 in /usr/local/lib/python3.10/dist-packages (from albumentations) (4.10.0.84)\n",
            "Requirement already satisfied: scikit-learn>=0.19.1 in /usr/local/lib/python3.10/dist-packages (from qudida>=0.0.4->albumentations) (1.2.2)\n",
            "Requirement already satisfied: typing-extensions in /usr/local/lib/python3.10/dist-packages (from qudida>=0.0.4->albumentations) (4.12.2)\n",
            "Requirement already satisfied: networkx>=2.2 in /usr/local/lib/python3.10/dist-packages (from scikit-image>=0.16.1->albumentations) (3.3)\n",
            "Requirement already satisfied: pillow!=7.1.0,!=7.1.1,!=8.3.0,>=6.1.0 in /usr/local/lib/python3.10/dist-packages (from scikit-image>=0.16.1->albumentations) (9.4.0)\n",
            "Requirement already satisfied: imageio>=2.4.1 in /usr/local/lib/python3.10/dist-packages (from scikit-image>=0.16.1->albumentations) (2.31.6)\n",
            "Requirement already satisfied: tifffile>=2019.7.26 in /usr/local/lib/python3.10/dist-packages (from scikit-image>=0.16.1->albumentations) (2024.7.21)\n",
            "Requirement already satisfied: PyWavelets>=1.1.1 in /usr/local/lib/python3.10/dist-packages (from scikit-image>=0.16.1->albumentations) (1.6.0)\n",
            "Requirement already satisfied: packaging>=20.0 in /usr/local/lib/python3.10/dist-packages (from scikit-image>=0.16.1->albumentations) (24.1)\n",
            "Requirement already satisfied: joblib>=1.1.1 in /usr/local/lib/python3.10/dist-packages (from scikit-learn>=0.19.1->qudida>=0.0.4->albumentations) (1.4.2)\n",
            "Requirement already satisfied: threadpoolctl>=2.0.0 in /usr/local/lib/python3.10/dist-packages (from scikit-learn>=0.19.1->qudida>=0.0.4->albumentations) (3.5.0)\n"
          ]
        }
      ]
    },
    {
      "cell_type": "code",
      "source": [
        "!pip install roboflow\n",
        "\n",
        "from roboflow import Roboflow\n",
        "rf = Roboflow(api_key=\"b33XFWLcuAi4lMDTF5HC\")\n",
        "project = rf.workspace(\"cairo-university-evqqa\").project(\"food-azc1s\")\n",
        "version = project.version(1)\n",
        "dataset = version.download(\"yolov5\")\n"
      ],
      "metadata": {
        "colab": {
          "base_uri": "https://localhost:8080/"
        },
        "id": "2fkHfgMnV1PX",
        "outputId": "92e3bb30-8be8-4094-982e-7c1f6dc1971a"
      },
      "execution_count": null,
      "outputs": [
        {
          "output_type": "stream",
          "name": "stdout",
          "text": [
            "Collecting roboflow\n",
            "  Downloading roboflow-1.1.45-py3-none-any.whl.metadata (9.7 kB)\n",
            "Requirement already satisfied: certifi in /usr/local/lib/python3.10/dist-packages (from roboflow) (2024.7.4)\n",
            "Requirement already satisfied: idna==3.7 in /usr/local/lib/python3.10/dist-packages (from roboflow) (3.7)\n",
            "Requirement already satisfied: cycler in /usr/local/lib/python3.10/dist-packages (from roboflow) (0.12.1)\n",
            "Requirement already satisfied: kiwisolver>=1.3.1 in /usr/local/lib/python3.10/dist-packages (from roboflow) (1.4.5)\n",
            "Requirement already satisfied: matplotlib in /usr/local/lib/python3.10/dist-packages (from roboflow) (3.7.1)\n",
            "Requirement already satisfied: numpy>=1.18.5 in /usr/local/lib/python3.10/dist-packages (from roboflow) (1.25.2)\n",
            "Requirement already satisfied: opencv-python-headless==4.10.0.84 in /usr/local/lib/python3.10/dist-packages (from roboflow) (4.10.0.84)\n",
            "Requirement already satisfied: Pillow>=7.1.2 in /usr/local/lib/python3.10/dist-packages (from roboflow) (9.4.0)\n",
            "Requirement already satisfied: python-dateutil in /usr/local/lib/python3.10/dist-packages (from roboflow) (2.8.2)\n",
            "Collecting python-dotenv (from roboflow)\n",
            "  Downloading python_dotenv-1.0.1-py3-none-any.whl.metadata (23 kB)\n",
            "Requirement already satisfied: requests in /usr/local/lib/python3.10/dist-packages (from roboflow) (2.31.0)\n",
            "Requirement already satisfied: six in /usr/local/lib/python3.10/dist-packages (from roboflow) (1.16.0)\n",
            "Requirement already satisfied: urllib3>=1.26.6 in /usr/local/lib/python3.10/dist-packages (from roboflow) (2.0.7)\n",
            "Requirement already satisfied: tqdm>=4.41.0 in /usr/local/lib/python3.10/dist-packages (from roboflow) (4.66.4)\n",
            "Requirement already satisfied: PyYAML>=5.3.1 in /usr/local/lib/python3.10/dist-packages (from roboflow) (6.0.1)\n",
            "Collecting requests-toolbelt (from roboflow)\n",
            "  Downloading requests_toolbelt-1.0.0-py2.py3-none-any.whl.metadata (14 kB)\n",
            "Collecting filetype (from roboflow)\n",
            "  Downloading filetype-1.2.0-py2.py3-none-any.whl.metadata (6.5 kB)\n",
            "Requirement already satisfied: contourpy>=1.0.1 in /usr/local/lib/python3.10/dist-packages (from matplotlib->roboflow) (1.2.1)\n",
            "Requirement already satisfied: fonttools>=4.22.0 in /usr/local/lib/python3.10/dist-packages (from matplotlib->roboflow) (4.53.1)\n",
            "Requirement already satisfied: packaging>=20.0 in /usr/local/lib/python3.10/dist-packages (from matplotlib->roboflow) (24.1)\n",
            "Requirement already satisfied: pyparsing>=2.3.1 in /usr/local/lib/python3.10/dist-packages (from matplotlib->roboflow) (3.1.2)\n",
            "Requirement already satisfied: charset-normalizer<4,>=2 in /usr/local/lib/python3.10/dist-packages (from requests->roboflow) (3.3.2)\n",
            "Downloading roboflow-1.1.45-py3-none-any.whl (80 kB)\n",
            "\u001b[2K   \u001b[90m━━━━━━━━━━━━━━━━━━━━━━━━━━━━━━━━━━━━━━━━\u001b[0m \u001b[32m80.3/80.3 kB\u001b[0m \u001b[31m5.6 MB/s\u001b[0m eta \u001b[36m0:00:00\u001b[0m\n",
            "\u001b[?25hDownloading filetype-1.2.0-py2.py3-none-any.whl (19 kB)\n",
            "Downloading python_dotenv-1.0.1-py3-none-any.whl (19 kB)\n",
            "Downloading requests_toolbelt-1.0.0-py2.py3-none-any.whl (54 kB)\n",
            "\u001b[2K   \u001b[90m━━━━━━━━━━━━━━━━━━━━━━━━━━━━━━━━━━━━━━━━\u001b[0m \u001b[32m54.5/54.5 kB\u001b[0m \u001b[31m4.7 MB/s\u001b[0m eta \u001b[36m0:00:00\u001b[0m\n",
            "\u001b[?25hInstalling collected packages: filetype, python-dotenv, requests-toolbelt, roboflow\n",
            "Successfully installed filetype-1.2.0 python-dotenv-1.0.1 requests-toolbelt-1.0.0 roboflow-1.1.45\n",
            "loading Roboflow workspace...\n",
            "loading Roboflow project...\n"
          ]
        },
        {
          "output_type": "stream",
          "name": "stderr",
          "text": [
            "Downloading Dataset Version Zip in food-1 to yolov5pytorch:: 100%|██████████| 129880/129880 [00:05<00:00, 21833.49it/s]"
          ]
        },
        {
          "output_type": "stream",
          "name": "stdout",
          "text": [
            "\n"
          ]
        },
        {
          "output_type": "stream",
          "name": "stderr",
          "text": [
            "\n",
            "Extracting Dataset Version Zip to food-1 in yolov5pytorch:: 100%|██████████| 6672/6672 [00:01<00:00, 4279.19it/s]\n"
          ]
        }
      ]
    },
    {
      "cell_type": "code",
      "source": [
        "from ultralytics import YOLO\n",
        "\n",
        "\n",
        "dataset_path = '/content/food-1/data.yaml'\n",
        "\n",
        "\n",
        "model = YOLO('yolov8n.pt')\n",
        "\n",
        "# Train the model\n",
        "model.train(data=dataset_path, epochs=25, batch=16, imgsz=640, device=0)\n"
      ],
      "metadata": {
        "colab": {
          "base_uri": "https://localhost:8080/"
        },
        "id": "U-WPEBm_WxJL",
        "outputId": "48867efa-d18a-41dc-9234-f6da478b0418"
      },
      "execution_count": null,
      "outputs": [
        {
          "output_type": "stream",
          "name": "stdout",
          "text": [
            "Ultralytics YOLOv8.2.99 🚀 Python-3.10.12 torch-2.4.1+cu121 CUDA:0 (Tesla T4, 15102MiB)\n",
            "\u001b[34m\u001b[1mengine/trainer: \u001b[0mtask=detect, mode=train, model=yolov8n.pt, data=/content/food-1/data.yaml, epochs=25, time=None, patience=100, batch=16, imgsz=640, save=True, save_period=-1, cache=False, device=0, workers=8, project=None, name=train3, exist_ok=False, pretrained=True, optimizer=auto, verbose=True, seed=0, deterministic=True, single_cls=False, rect=False, cos_lr=False, close_mosaic=10, resume=False, amp=True, fraction=1.0, profile=False, freeze=None, multi_scale=False, overlap_mask=True, mask_ratio=4, dropout=0.0, val=True, split=val, save_json=False, save_hybrid=False, conf=None, iou=0.7, max_det=300, half=False, dnn=False, plots=True, source=None, vid_stride=1, stream_buffer=False, visualize=False, augment=False, agnostic_nms=False, classes=None, retina_masks=False, embed=None, show=False, save_frames=False, save_txt=False, save_conf=False, save_crop=False, show_labels=True, show_conf=True, show_boxes=True, line_width=None, format=torchscript, keras=False, optimize=False, int8=False, dynamic=False, simplify=False, opset=None, workspace=4, nms=False, lr0=0.01, lrf=0.01, momentum=0.937, weight_decay=0.0005, warmup_epochs=3.0, warmup_momentum=0.8, warmup_bias_lr=0.1, box=7.5, cls=0.5, dfl=1.5, pose=12.0, kobj=1.0, label_smoothing=0.0, nbs=64, hsv_h=0.015, hsv_s=0.7, hsv_v=0.4, degrees=0.0, translate=0.1, scale=0.5, shear=0.0, perspective=0.0, flipud=0.0, fliplr=0.5, bgr=0.0, mosaic=1.0, mixup=0.0, copy_paste=0.0, auto_augment=randaugment, erasing=0.4, crop_fraction=1.0, cfg=None, tracker=botsort.yaml, save_dir=runs/detect/train3\n",
            "Overriding model.yaml nc=80 with nc=20\n",
            "\n",
            "                   from  n    params  module                                       arguments                     \n",
            "  0                  -1  1       464  ultralytics.nn.modules.conv.Conv             [3, 16, 3, 2]                 \n",
            "  1                  -1  1      4672  ultralytics.nn.modules.conv.Conv             [16, 32, 3, 2]                \n",
            "  2                  -1  1      7360  ultralytics.nn.modules.block.C2f             [32, 32, 1, True]             \n",
            "  3                  -1  1     18560  ultralytics.nn.modules.conv.Conv             [32, 64, 3, 2]                \n",
            "  4                  -1  2     49664  ultralytics.nn.modules.block.C2f             [64, 64, 2, True]             \n",
            "  5                  -1  1     73984  ultralytics.nn.modules.conv.Conv             [64, 128, 3, 2]               \n",
            "  6                  -1  2    197632  ultralytics.nn.modules.block.C2f             [128, 128, 2, True]           \n",
            "  7                  -1  1    295424  ultralytics.nn.modules.conv.Conv             [128, 256, 3, 2]              \n",
            "  8                  -1  1    460288  ultralytics.nn.modules.block.C2f             [256, 256, 1, True]           \n",
            "  9                  -1  1    164608  ultralytics.nn.modules.block.SPPF            [256, 256, 5]                 \n",
            " 10                  -1  1         0  torch.nn.modules.upsampling.Upsample         [None, 2, 'nearest']          \n",
            " 11             [-1, 6]  1         0  ultralytics.nn.modules.conv.Concat           [1]                           \n",
            " 12                  -1  1    148224  ultralytics.nn.modules.block.C2f             [384, 128, 1]                 \n",
            " 13                  -1  1         0  torch.nn.modules.upsampling.Upsample         [None, 2, 'nearest']          \n",
            " 14             [-1, 4]  1         0  ultralytics.nn.modules.conv.Concat           [1]                           \n",
            " 15                  -1  1     37248  ultralytics.nn.modules.block.C2f             [192, 64, 1]                  \n",
            " 16                  -1  1     36992  ultralytics.nn.modules.conv.Conv             [64, 64, 3, 2]                \n",
            " 17            [-1, 12]  1         0  ultralytics.nn.modules.conv.Concat           [1]                           \n",
            " 18                  -1  1    123648  ultralytics.nn.modules.block.C2f             [192, 128, 1]                 \n",
            " 19                  -1  1    147712  ultralytics.nn.modules.conv.Conv             [128, 128, 3, 2]              \n",
            " 20             [-1, 9]  1         0  ultralytics.nn.modules.conv.Concat           [1]                           \n",
            " 21                  -1  1    493056  ultralytics.nn.modules.block.C2f             [384, 256, 1]                 \n",
            " 22        [15, 18, 21]  1    755212  ultralytics.nn.modules.head.Detect           [20, [64, 128, 256]]          \n",
            "Model summary: 225 layers, 3,014,748 parameters, 3,014,732 gradients, 8.2 GFLOPs\n",
            "\n",
            "Transferred 319/355 items from pretrained weights\n",
            "\u001b[34m\u001b[1mTensorBoard: \u001b[0mStart with 'tensorboard --logdir runs/detect/train3', view at http://localhost:6006/\n",
            "Freezing layer 'model.22.dfl.conv.weight'\n",
            "\u001b[34m\u001b[1mAMP: \u001b[0mrunning Automatic Mixed Precision (AMP) checks with YOLOv8n...\n",
            "\u001b[34m\u001b[1mAMP: \u001b[0mchecks passed ✅\n"
          ]
        },
        {
          "output_type": "stream",
          "name": "stderr",
          "text": [
            "\u001b[34m\u001b[1mtrain: \u001b[0mScanning /content/food-1/train/labels... 2220 images, 28 backgrounds, 0 corrupt: 100%|██████████| 2220/2220 [00:07<00:00, 300.26it/s]\n"
          ]
        },
        {
          "output_type": "stream",
          "name": "stdout",
          "text": [
            "\u001b[34m\u001b[1mtrain: \u001b[0mNew cache created: /content/food-1/train/labels.cache\n",
            "WARNING ⚠️ Box and segment counts should be equal, but got len(segments) = 229, len(boxes) = 12625. To resolve this only boxes will be used and all segments will be removed. To avoid this please supply either a detect or segment dataset, not a detect-segment mixed dataset.\n",
            "\u001b[34m\u001b[1malbumentations: \u001b[0mBlur(p=0.01, blur_limit=(3, 7)), MedianBlur(p=0.01, blur_limit=(3, 7)), ToGray(p=0.01, num_output_channels=3, method='weighted_average'), CLAHE(p=0.01, clip_limit=(1, 4.0), tile_grid_size=(8, 8))\n"
          ]
        },
        {
          "output_type": "stream",
          "name": "stderr",
          "text": [
            "os.fork() was called. os.fork() is incompatible with multithreaded code, and JAX is multithreaded, so this will likely lead to a deadlock.\n",
            "\u001b[34m\u001b[1mval: \u001b[0mScanning /content/food-1/valid/labels... 734 images, 7 backgrounds, 0 corrupt: 100%|██████████| 734/734 [00:03<00:00, 190.55it/s]"
          ]
        },
        {
          "output_type": "stream",
          "name": "stdout",
          "text": [
            "\u001b[34m\u001b[1mval: \u001b[0mNew cache created: /content/food-1/valid/labels.cache\n",
            "WARNING ⚠️ Box and segment counts should be equal, but got len(segments) = 83, len(boxes) = 3938. To resolve this only boxes will be used and all segments will be removed. To avoid this please supply either a detect or segment dataset, not a detect-segment mixed dataset.\n"
          ]
        },
        {
          "output_type": "stream",
          "name": "stderr",
          "text": [
            "\n"
          ]
        },
        {
          "output_type": "stream",
          "name": "stdout",
          "text": [
            "Plotting labels to runs/detect/train3/labels.jpg... \n",
            "\u001b[34m\u001b[1moptimizer:\u001b[0m 'optimizer=auto' found, ignoring 'lr0=0.01' and 'momentum=0.937' and determining best 'optimizer', 'lr0' and 'momentum' automatically... \n",
            "\u001b[34m\u001b[1moptimizer:\u001b[0m AdamW(lr=0.000417, momentum=0.9) with parameter groups 57 weight(decay=0.0), 64 weight(decay=0.0005), 63 bias(decay=0.0)\n",
            "\u001b[34m\u001b[1mTensorBoard: \u001b[0mmodel graph visualization added ✅\n",
            "Image sizes 640 train, 640 val\n",
            "Using 2 dataloader workers\n",
            "Logging results to \u001b[1mruns/detect/train3\u001b[0m\n",
            "Starting training for 25 epochs...\n",
            "\n",
            "      Epoch    GPU_mem   box_loss   cls_loss   dfl_loss  Instances       Size\n"
          ]
        },
        {
          "output_type": "stream",
          "name": "stderr",
          "text": [
            "       1/25      2.57G      1.061      3.481      1.276        111        640: 100%|██████████| 139/139 [00:53<00:00,  2.62it/s]\n",
            "                 Class     Images  Instances      Box(P          R      mAP50  mAP50-95): 100%|██████████| 23/23 [00:10<00:00,  2.21it/s]"
          ]
        },
        {
          "output_type": "stream",
          "name": "stdout",
          "text": [
            "                   all        734       3938      0.538      0.401      0.372      0.282\n"
          ]
        },
        {
          "output_type": "stream",
          "name": "stderr",
          "text": [
            "\n"
          ]
        },
        {
          "output_type": "stream",
          "name": "stdout",
          "text": [
            "\n",
            "      Epoch    GPU_mem   box_loss   cls_loss   dfl_loss  Instances       Size\n"
          ]
        },
        {
          "output_type": "stream",
          "name": "stderr",
          "text": [
            "       2/25      2.23G       1.06      2.081      1.263        122        640: 100%|██████████| 139/139 [00:42<00:00,  3.26it/s]\n",
            "                 Class     Images  Instances      Box(P          R      mAP50  mAP50-95): 100%|██████████| 23/23 [00:06<00:00,  3.62it/s]"
          ]
        },
        {
          "output_type": "stream",
          "name": "stdout",
          "text": [
            "                   all        734       3938      0.641      0.592      0.568       0.43\n"
          ]
        },
        {
          "output_type": "stream",
          "name": "stderr",
          "text": [
            "\n"
          ]
        },
        {
          "output_type": "stream",
          "name": "stdout",
          "text": [
            "\n",
            "      Epoch    GPU_mem   box_loss   cls_loss   dfl_loss  Instances       Size\n"
          ]
        },
        {
          "output_type": "stream",
          "name": "stderr",
          "text": [
            "       3/25       2.2G      1.023       1.66      1.233        130        640: 100%|██████████| 139/139 [00:44<00:00,  3.10it/s]\n",
            "                 Class     Images  Instances      Box(P          R      mAP50  mAP50-95): 100%|██████████| 23/23 [00:06<00:00,  3.72it/s]"
          ]
        },
        {
          "output_type": "stream",
          "name": "stdout",
          "text": [
            "                   all        734       3938      0.632      0.685      0.639      0.481\n"
          ]
        },
        {
          "output_type": "stream",
          "name": "stderr",
          "text": [
            "\n"
          ]
        },
        {
          "output_type": "stream",
          "name": "stdout",
          "text": [
            "\n",
            "      Epoch    GPU_mem   box_loss   cls_loss   dfl_loss  Instances       Size\n"
          ]
        },
        {
          "output_type": "stream",
          "name": "stderr",
          "text": [
            "       4/25      2.26G      1.007      1.485      1.214        104        640: 100%|██████████| 139/139 [00:42<00:00,  3.25it/s]\n",
            "                 Class     Images  Instances      Box(P          R      mAP50  mAP50-95): 100%|██████████| 23/23 [00:08<00:00,  2.63it/s]"
          ]
        },
        {
          "output_type": "stream",
          "name": "stdout",
          "text": [
            "                   all        734       3938      0.667      0.644      0.667      0.497\n"
          ]
        },
        {
          "output_type": "stream",
          "name": "stderr",
          "text": [
            "\n"
          ]
        },
        {
          "output_type": "stream",
          "name": "stdout",
          "text": [
            "\n",
            "      Epoch    GPU_mem   box_loss   cls_loss   dfl_loss  Instances       Size\n"
          ]
        },
        {
          "output_type": "stream",
          "name": "stderr",
          "text": [
            "       5/25       2.2G     0.9582      1.337      1.185        132        640: 100%|██████████| 139/139 [00:41<00:00,  3.35it/s]\n",
            "                 Class     Images  Instances      Box(P          R      mAP50  mAP50-95): 100%|██████████| 23/23 [00:07<00:00,  2.89it/s]"
          ]
        },
        {
          "output_type": "stream",
          "name": "stdout",
          "text": [
            "                   all        734       3938      0.685      0.701       0.71      0.524\n"
          ]
        },
        {
          "output_type": "stream",
          "name": "stderr",
          "text": [
            "\n"
          ]
        },
        {
          "output_type": "stream",
          "name": "stdout",
          "text": [
            "\n",
            "      Epoch    GPU_mem   box_loss   cls_loss   dfl_loss  Instances       Size\n"
          ]
        },
        {
          "output_type": "stream",
          "name": "stderr",
          "text": [
            "       6/25      2.19G     0.9505        1.3      1.183        116        640: 100%|██████████| 139/139 [00:42<00:00,  3.29it/s]\n",
            "                 Class     Images  Instances      Box(P          R      mAP50  mAP50-95): 100%|██████████| 23/23 [00:06<00:00,  3.72it/s]"
          ]
        },
        {
          "output_type": "stream",
          "name": "stdout",
          "text": [
            "                   all        734       3938       0.77      0.691       0.74       0.56\n"
          ]
        },
        {
          "output_type": "stream",
          "name": "stderr",
          "text": [
            "\n"
          ]
        },
        {
          "output_type": "stream",
          "name": "stdout",
          "text": [
            "\n",
            "      Epoch    GPU_mem   box_loss   cls_loss   dfl_loss  Instances       Size\n"
          ]
        },
        {
          "output_type": "stream",
          "name": "stderr",
          "text": [
            "       7/25      2.24G     0.9248      1.203      1.164        114        640: 100%|██████████| 139/139 [00:43<00:00,  3.19it/s]\n",
            "                 Class     Images  Instances      Box(P          R      mAP50  mAP50-95): 100%|██████████| 23/23 [00:07<00:00,  2.97it/s]"
          ]
        },
        {
          "output_type": "stream",
          "name": "stdout",
          "text": [
            "                   all        734       3938      0.648      0.785      0.757      0.578\n"
          ]
        },
        {
          "output_type": "stream",
          "name": "stderr",
          "text": [
            "\n"
          ]
        },
        {
          "output_type": "stream",
          "name": "stdout",
          "text": [
            "\n",
            "      Epoch    GPU_mem   box_loss   cls_loss   dfl_loss  Instances       Size\n"
          ]
        },
        {
          "output_type": "stream",
          "name": "stderr",
          "text": [
            "       8/25      2.33G     0.9135      1.155      1.152        103        640: 100%|██████████| 139/139 [00:42<00:00,  3.30it/s]\n",
            "                 Class     Images  Instances      Box(P          R      mAP50  mAP50-95): 100%|██████████| 23/23 [00:08<00:00,  2.56it/s]\n"
          ]
        },
        {
          "output_type": "stream",
          "name": "stdout",
          "text": [
            "                   all        734       3938      0.828      0.697      0.776      0.596\n",
            "\n",
            "      Epoch    GPU_mem   box_loss   cls_loss   dfl_loss  Instances       Size\n"
          ]
        },
        {
          "output_type": "stream",
          "name": "stderr",
          "text": [
            "       9/25      2.32G     0.9024      1.135      1.149         96        640: 100%|██████████| 139/139 [00:42<00:00,  3.31it/s]\n",
            "                 Class     Images  Instances      Box(P          R      mAP50  mAP50-95): 100%|██████████| 23/23 [00:06<00:00,  3.35it/s]"
          ]
        },
        {
          "output_type": "stream",
          "name": "stdout",
          "text": [
            "                   all        734       3938      0.711      0.789      0.777      0.599\n"
          ]
        },
        {
          "output_type": "stream",
          "name": "stderr",
          "text": [
            "\n"
          ]
        },
        {
          "output_type": "stream",
          "name": "stdout",
          "text": [
            "\n",
            "      Epoch    GPU_mem   box_loss   cls_loss   dfl_loss  Instances       Size\n"
          ]
        },
        {
          "output_type": "stream",
          "name": "stderr",
          "text": [
            "      10/25      2.21G     0.8907      1.085      1.139        130        640: 100%|██████████| 139/139 [00:43<00:00,  3.16it/s]\n",
            "                 Class     Images  Instances      Box(P          R      mAP50  mAP50-95): 100%|██████████| 23/23 [00:06<00:00,  3.66it/s]"
          ]
        },
        {
          "output_type": "stream",
          "name": "stdout",
          "text": [
            "                   all        734       3938      0.673      0.776      0.775      0.598\n"
          ]
        },
        {
          "output_type": "stream",
          "name": "stderr",
          "text": [
            "\n"
          ]
        },
        {
          "output_type": "stream",
          "name": "stdout",
          "text": [
            "\n",
            "      Epoch    GPU_mem   box_loss   cls_loss   dfl_loss  Instances       Size\n"
          ]
        },
        {
          "output_type": "stream",
          "name": "stderr",
          "text": [
            "      11/25      2.21G     0.8874      1.069      1.143        125        640: 100%|██████████| 139/139 [00:42<00:00,  3.29it/s]\n",
            "                 Class     Images  Instances      Box(P          R      mAP50  mAP50-95): 100%|██████████| 23/23 [00:09<00:00,  2.49it/s]"
          ]
        },
        {
          "output_type": "stream",
          "name": "stdout",
          "text": [
            "                   all        734       3938      0.751      0.777      0.788       0.61\n"
          ]
        },
        {
          "output_type": "stream",
          "name": "stderr",
          "text": [
            "\n"
          ]
        },
        {
          "output_type": "stream",
          "name": "stdout",
          "text": [
            "\n",
            "      Epoch    GPU_mem   box_loss   cls_loss   dfl_loss  Instances       Size\n"
          ]
        },
        {
          "output_type": "stream",
          "name": "stderr",
          "text": [
            "      12/25      2.21G     0.8651      1.019      1.123        101        640: 100%|██████████| 139/139 [00:42<00:00,  3.26it/s]\n",
            "                 Class     Images  Instances      Box(P          R      mAP50  mAP50-95): 100%|██████████| 23/23 [00:06<00:00,  3.39it/s]\n"
          ]
        },
        {
          "output_type": "stream",
          "name": "stdout",
          "text": [
            "                   all        734       3938      0.743      0.816      0.802      0.627\n",
            "\n",
            "      Epoch    GPU_mem   box_loss   cls_loss   dfl_loss  Instances       Size\n"
          ]
        },
        {
          "output_type": "stream",
          "name": "stderr",
          "text": [
            "      13/25      2.24G     0.8552     0.9875      1.119        117        640: 100%|██████████| 139/139 [00:44<00:00,  3.13it/s]\n",
            "                 Class     Images  Instances      Box(P          R      mAP50  mAP50-95): 100%|██████████| 23/23 [00:06<00:00,  3.81it/s]"
          ]
        },
        {
          "output_type": "stream",
          "name": "stdout",
          "text": [
            "                   all        734       3938      0.827      0.744      0.803       0.62\n"
          ]
        },
        {
          "output_type": "stream",
          "name": "stderr",
          "text": [
            "\n"
          ]
        },
        {
          "output_type": "stream",
          "name": "stdout",
          "text": [
            "\n",
            "      Epoch    GPU_mem   box_loss   cls_loss   dfl_loss  Instances       Size\n"
          ]
        },
        {
          "output_type": "stream",
          "name": "stderr",
          "text": [
            "      14/25      2.21G     0.8526     0.9781      1.121        137        640: 100%|██████████| 139/139 [00:43<00:00,  3.23it/s]\n",
            "                 Class     Images  Instances      Box(P          R      mAP50  mAP50-95): 100%|██████████| 23/23 [00:07<00:00,  3.06it/s]"
          ]
        },
        {
          "output_type": "stream",
          "name": "stdout",
          "text": [
            "                   all        734       3938      0.741      0.817       0.81      0.632\n"
          ]
        },
        {
          "output_type": "stream",
          "name": "stderr",
          "text": [
            "\n"
          ]
        },
        {
          "output_type": "stream",
          "name": "stdout",
          "text": [
            "\n",
            "      Epoch    GPU_mem   box_loss   cls_loss   dfl_loss  Instances       Size\n"
          ]
        },
        {
          "output_type": "stream",
          "name": "stderr",
          "text": [
            "      15/25      2.24G     0.8351     0.9293      1.105        125        640: 100%|██████████| 139/139 [00:41<00:00,  3.32it/s]\n",
            "                 Class     Images  Instances      Box(P          R      mAP50  mAP50-95): 100%|██████████| 23/23 [00:09<00:00,  2.51it/s]\n"
          ]
        },
        {
          "output_type": "stream",
          "name": "stdout",
          "text": [
            "                   all        734       3938      0.725      0.821      0.818      0.637\n",
            "Closing dataloader mosaic\n",
            "\u001b[34m\u001b[1malbumentations: \u001b[0mBlur(p=0.01, blur_limit=(3, 7)), MedianBlur(p=0.01, blur_limit=(3, 7)), ToGray(p=0.01, num_output_channels=3, method='weighted_average'), CLAHE(p=0.01, clip_limit=(1, 4.0), tile_grid_size=(8, 8))\n"
          ]
        },
        {
          "output_type": "stream",
          "name": "stderr",
          "text": [
            "os.fork() was called. os.fork() is incompatible with multithreaded code, and JAX is multithreaded, so this will likely lead to a deadlock.\n",
            "os.fork() was called. os.fork() is incompatible with multithreaded code, and JAX is multithreaded, so this will likely lead to a deadlock.\n"
          ]
        },
        {
          "output_type": "stream",
          "name": "stdout",
          "text": [
            "\n",
            "      Epoch    GPU_mem   box_loss   cls_loss   dfl_loss  Instances       Size\n"
          ]
        },
        {
          "output_type": "stream",
          "name": "stderr",
          "text": [
            "      16/25      2.23G     0.7821     0.8796      1.092         65        640: 100%|██████████| 139/139 [00:42<00:00,  3.28it/s]\n",
            "                 Class     Images  Instances      Box(P          R      mAP50  mAP50-95): 100%|██████████| 23/23 [00:06<00:00,  3.60it/s]\n"
          ]
        },
        {
          "output_type": "stream",
          "name": "stdout",
          "text": [
            "                   all        734       3938      0.734      0.817      0.814      0.636\n",
            "\n",
            "      Epoch    GPU_mem   box_loss   cls_loss   dfl_loss  Instances       Size\n"
          ]
        },
        {
          "output_type": "stream",
          "name": "stderr",
          "text": [
            "      17/25      2.24G     0.7698     0.8288       1.08         70        640: 100%|██████████| 139/139 [00:42<00:00,  3.26it/s]\n",
            "                 Class     Images  Instances      Box(P          R      mAP50  mAP50-95): 100%|██████████| 23/23 [00:07<00:00,  3.24it/s]"
          ]
        },
        {
          "output_type": "stream",
          "name": "stdout",
          "text": [
            "                   all        734       3938      0.743      0.809      0.825      0.645\n"
          ]
        },
        {
          "output_type": "stream",
          "name": "stderr",
          "text": [
            "\n"
          ]
        },
        {
          "output_type": "stream",
          "name": "stdout",
          "text": [
            "\n",
            "      Epoch    GPU_mem   box_loss   cls_loss   dfl_loss  Instances       Size\n"
          ]
        },
        {
          "output_type": "stream",
          "name": "stderr",
          "text": [
            "      18/25      2.24G     0.7581     0.8047      1.072         71        640: 100%|██████████| 139/139 [00:40<00:00,  3.45it/s]\n",
            "                 Class     Images  Instances      Box(P          R      mAP50  mAP50-95): 100%|██████████| 23/23 [00:08<00:00,  2.79it/s]\n"
          ]
        },
        {
          "output_type": "stream",
          "name": "stdout",
          "text": [
            "                   all        734       3938      0.818      0.766      0.823      0.646\n",
            "\n",
            "      Epoch    GPU_mem   box_loss   cls_loss   dfl_loss  Instances       Size\n"
          ]
        },
        {
          "output_type": "stream",
          "name": "stderr",
          "text": [
            "      19/25      2.23G     0.7496      0.777      1.068         81        640: 100%|██████████| 139/139 [00:42<00:00,  3.29it/s]\n",
            "                 Class     Images  Instances      Box(P          R      mAP50  mAP50-95): 100%|██████████| 23/23 [00:06<00:00,  3.81it/s]"
          ]
        },
        {
          "output_type": "stream",
          "name": "stdout",
          "text": [
            "                   all        734       3938      0.748      0.824      0.825      0.649\n"
          ]
        },
        {
          "output_type": "stream",
          "name": "stderr",
          "text": [
            "\n"
          ]
        },
        {
          "output_type": "stream",
          "name": "stdout",
          "text": [
            "\n",
            "      Epoch    GPU_mem   box_loss   cls_loss   dfl_loss  Instances       Size\n"
          ]
        },
        {
          "output_type": "stream",
          "name": "stderr",
          "text": [
            "      20/25      2.23G      0.741     0.7522      1.068         60        640: 100%|██████████| 139/139 [00:40<00:00,  3.42it/s]\n",
            "                 Class     Images  Instances      Box(P          R      mAP50  mAP50-95): 100%|██████████| 23/23 [00:09<00:00,  2.51it/s]"
          ]
        },
        {
          "output_type": "stream",
          "name": "stdout",
          "text": [
            "                   all        734       3938      0.821      0.782      0.829      0.656\n"
          ]
        },
        {
          "output_type": "stream",
          "name": "stderr",
          "text": [
            "\n"
          ]
        },
        {
          "output_type": "stream",
          "name": "stdout",
          "text": [
            "\n",
            "      Epoch    GPU_mem   box_loss   cls_loss   dfl_loss  Instances       Size\n"
          ]
        },
        {
          "output_type": "stream",
          "name": "stderr",
          "text": [
            "      21/25      2.24G     0.7271     0.7421      1.055         73        640: 100%|██████████| 139/139 [00:40<00:00,  3.42it/s]\n",
            "                 Class     Images  Instances      Box(P          R      mAP50  mAP50-95): 100%|██████████| 23/23 [00:05<00:00,  3.87it/s]"
          ]
        },
        {
          "output_type": "stream",
          "name": "stdout",
          "text": [
            "                   all        734       3938      0.809       0.79      0.835      0.658\n"
          ]
        },
        {
          "output_type": "stream",
          "name": "stderr",
          "text": [
            "\n"
          ]
        },
        {
          "output_type": "stream",
          "name": "stdout",
          "text": [
            "\n",
            "      Epoch    GPU_mem   box_loss   cls_loss   dfl_loss  Instances       Size\n"
          ]
        },
        {
          "output_type": "stream",
          "name": "stderr",
          "text": [
            "      22/25       2.2G     0.7142     0.7191       1.05         86        640: 100%|██████████| 139/139 [00:42<00:00,  3.31it/s]\n",
            "                 Class     Images  Instances      Box(P          R      mAP50  mAP50-95): 100%|██████████| 23/23 [00:08<00:00,  2.87it/s]"
          ]
        },
        {
          "output_type": "stream",
          "name": "stdout",
          "text": [
            "                   all        734       3938      0.803      0.808      0.839      0.665\n"
          ]
        },
        {
          "output_type": "stream",
          "name": "stderr",
          "text": [
            "\n"
          ]
        },
        {
          "output_type": "stream",
          "name": "stdout",
          "text": [
            "\n",
            "      Epoch    GPU_mem   box_loss   cls_loss   dfl_loss  Instances       Size\n"
          ]
        },
        {
          "output_type": "stream",
          "name": "stderr",
          "text": [
            "      23/25      2.22G     0.7063     0.7003       1.04         69        640: 100%|██████████| 139/139 [00:40<00:00,  3.45it/s]\n",
            "                 Class     Images  Instances      Box(P          R      mAP50  mAP50-95): 100%|██████████| 23/23 [00:07<00:00,  3.15it/s]\n"
          ]
        },
        {
          "output_type": "stream",
          "name": "stdout",
          "text": [
            "                   all        734       3938      0.819      0.797      0.846      0.672\n",
            "\n",
            "      Epoch    GPU_mem   box_loss   cls_loss   dfl_loss  Instances       Size\n"
          ]
        },
        {
          "output_type": "stream",
          "name": "stderr",
          "text": [
            "      24/25      2.23G     0.6991     0.6865      1.039         46        640: 100%|██████████| 139/139 [00:41<00:00,  3.34it/s]\n",
            "                 Class     Images  Instances      Box(P          R      mAP50  mAP50-95): 100%|██████████| 23/23 [00:06<00:00,  3.82it/s]"
          ]
        },
        {
          "output_type": "stream",
          "name": "stdout",
          "text": [
            "                   all        734       3938      0.791      0.819      0.844      0.671\n"
          ]
        },
        {
          "output_type": "stream",
          "name": "stderr",
          "text": [
            "\n"
          ]
        },
        {
          "output_type": "stream",
          "name": "stdout",
          "text": [
            "\n",
            "      Epoch    GPU_mem   box_loss   cls_loss   dfl_loss  Instances       Size\n"
          ]
        },
        {
          "output_type": "stream",
          "name": "stderr",
          "text": [
            "      25/25      2.23G     0.6923     0.6709      1.031         82        640: 100%|██████████| 139/139 [00:40<00:00,  3.43it/s]\n",
            "                 Class     Images  Instances      Box(P          R      mAP50  mAP50-95): 100%|██████████| 23/23 [00:08<00:00,  2.57it/s]"
          ]
        },
        {
          "output_type": "stream",
          "name": "stdout",
          "text": [
            "                   all        734       3938      0.805      0.818      0.847      0.673\n"
          ]
        },
        {
          "output_type": "stream",
          "name": "stderr",
          "text": [
            "\n"
          ]
        },
        {
          "output_type": "stream",
          "name": "stdout",
          "text": [
            "\n",
            "25 epochs completed in 0.356 hours.\n",
            "Optimizer stripped from runs/detect/train3/weights/last.pt, 6.3MB\n",
            "Optimizer stripped from runs/detect/train3/weights/best.pt, 6.3MB\n",
            "\n",
            "Validating runs/detect/train3/weights/best.pt...\n",
            "Ultralytics YOLOv8.2.99 🚀 Python-3.10.12 torch-2.4.1+cu121 CUDA:0 (Tesla T4, 15102MiB)\n",
            "Model summary (fused): 168 layers, 3,009,548 parameters, 0 gradients, 8.1 GFLOPs\n"
          ]
        },
        {
          "output_type": "stream",
          "name": "stderr",
          "text": [
            "                 Class     Images  Instances      Box(P          R      mAP50  mAP50-95): 100%|██████████| 23/23 [00:10<00:00,  2.13it/s]\n"
          ]
        },
        {
          "output_type": "stream",
          "name": "stdout",
          "text": [
            "                   all        734       3938      0.805      0.817      0.847      0.673\n",
            "                annona        153        153      0.987      0.963      0.994      0.813\n",
            "                 apple        124        162          1      0.929       0.98       0.84\n",
            "                banana        210        321      0.989      0.997      0.987      0.784\n",
            "                  beet         38         99      0.837      0.879      0.918       0.66\n",
            "           bell_pepper        147        345      0.789      0.901       0.92      0.702\n",
            "               cabbage        149        227      0.912      0.956      0.961      0.884\n",
            "                carrot        150        321      0.824       0.85      0.855      0.661\n",
            "              cucumber         81        257      0.711      0.812      0.842      0.652\n",
            "                   egg        131        223      0.887      0.946      0.947      0.753\n",
            "              eggplant         92        249      0.838      0.823      0.852      0.628\n",
            "                garlic         21         24      0.766      0.409       0.49      0.319\n",
            "                 guava         90        108      0.603      0.167      0.626      0.503\n",
            "                 onion        192        346      0.807      0.887      0.902      0.742\n",
            "                orange        107        107       0.76      0.738       0.81      0.726\n",
            "                  pear         79         80      0.397        0.8      0.534      0.477\n",
            "             pineapple        121        121      0.952      0.984      0.974      0.801\n",
            "                pitaya        135        135      0.966      0.985      0.975      0.705\n",
            "                potato         73        206      0.805      0.879       0.91      0.727\n",
            "                tomato        106        307      0.719      0.697       0.73      0.544\n",
            "              zucchini         97        147      0.561      0.748      0.735       0.53\n",
            "Speed: 0.3ms preprocess, 2.5ms inference, 0.0ms loss, 2.2ms postprocess per image\n",
            "Results saved to \u001b[1mruns/detect/train3\u001b[0m\n"
          ]
        },
        {
          "output_type": "execute_result",
          "data": {
            "text/plain": [
              "ultralytics.utils.metrics.DetMetrics object with attributes:\n",
              "\n",
              "ap_class_index: array([ 0,  1,  2,  3,  4,  5,  6,  7,  8,  9, 10, 11, 12, 13, 14, 15, 16, 17, 18, 19])\n",
              "box: ultralytics.utils.metrics.Metric object\n",
              "confusion_matrix: <ultralytics.utils.metrics.ConfusionMatrix object at 0x783142e763e0>\n",
              "curves: ['Precision-Recall(B)', 'F1-Confidence(B)', 'Precision-Confidence(B)', 'Recall-Confidence(B)']\n",
              "curves_results: [[array([          0,    0.001001,    0.002002,    0.003003,    0.004004,    0.005005,    0.006006,    0.007007,    0.008008,    0.009009,     0.01001,    0.011011,    0.012012,    0.013013,    0.014014,    0.015015,    0.016016,    0.017017,    0.018018,    0.019019,     0.02002,    0.021021,    0.022022,    0.023023,\n",
              "          0.024024,    0.025025,    0.026026,    0.027027,    0.028028,    0.029029,     0.03003,    0.031031,    0.032032,    0.033033,    0.034034,    0.035035,    0.036036,    0.037037,    0.038038,    0.039039,     0.04004,    0.041041,    0.042042,    0.043043,    0.044044,    0.045045,    0.046046,    0.047047,\n",
              "          0.048048,    0.049049,     0.05005,    0.051051,    0.052052,    0.053053,    0.054054,    0.055055,    0.056056,    0.057057,    0.058058,    0.059059,     0.06006,    0.061061,    0.062062,    0.063063,    0.064064,    0.065065,    0.066066,    0.067067,    0.068068,    0.069069,     0.07007,    0.071071,\n",
              "          0.072072,    0.073073,    0.074074,    0.075075,    0.076076,    0.077077,    0.078078,    0.079079,     0.08008,    0.081081,    0.082082,    0.083083,    0.084084,    0.085085,    0.086086,    0.087087,    0.088088,    0.089089,     0.09009,    0.091091,    0.092092,    0.093093,    0.094094,    0.095095,\n",
              "          0.096096,    0.097097,    0.098098,    0.099099,      0.1001,      0.1011,      0.1021,      0.1031,      0.1041,     0.10511,     0.10611,     0.10711,     0.10811,     0.10911,     0.11011,     0.11111,     0.11211,     0.11311,     0.11411,     0.11512,     0.11612,     0.11712,     0.11812,     0.11912,\n",
              "           0.12012,     0.12112,     0.12212,     0.12312,     0.12412,     0.12513,     0.12613,     0.12713,     0.12813,     0.12913,     0.13013,     0.13113,     0.13213,     0.13313,     0.13413,     0.13514,     0.13614,     0.13714,     0.13814,     0.13914,     0.14014,     0.14114,     0.14214,     0.14314,\n",
              "           0.14414,     0.14515,     0.14615,     0.14715,     0.14815,     0.14915,     0.15015,     0.15115,     0.15215,     0.15315,     0.15415,     0.15516,     0.15616,     0.15716,     0.15816,     0.15916,     0.16016,     0.16116,     0.16216,     0.16316,     0.16416,     0.16517,     0.16617,     0.16717,\n",
              "           0.16817,     0.16917,     0.17017,     0.17117,     0.17217,     0.17317,     0.17417,     0.17518,     0.17618,     0.17718,     0.17818,     0.17918,     0.18018,     0.18118,     0.18218,     0.18318,     0.18418,     0.18519,     0.18619,     0.18719,     0.18819,     0.18919,     0.19019,     0.19119,\n",
              "           0.19219,     0.19319,     0.19419,      0.1952,      0.1962,      0.1972,      0.1982,      0.1992,      0.2002,      0.2012,      0.2022,      0.2032,      0.2042,     0.20521,     0.20621,     0.20721,     0.20821,     0.20921,     0.21021,     0.21121,     0.21221,     0.21321,     0.21421,     0.21522,\n",
              "           0.21622,     0.21722,     0.21822,     0.21922,     0.22022,     0.22122,     0.22222,     0.22322,     0.22422,     0.22523,     0.22623,     0.22723,     0.22823,     0.22923,     0.23023,     0.23123,     0.23223,     0.23323,     0.23423,     0.23524,     0.23624,     0.23724,     0.23824,     0.23924,\n",
              "           0.24024,     0.24124,     0.24224,     0.24324,     0.24424,     0.24525,     0.24625,     0.24725,     0.24825,     0.24925,     0.25025,     0.25125,     0.25225,     0.25325,     0.25425,     0.25526,     0.25626,     0.25726,     0.25826,     0.25926,     0.26026,     0.26126,     0.26226,     0.26326,\n",
              "           0.26426,     0.26527,     0.26627,     0.26727,     0.26827,     0.26927,     0.27027,     0.27127,     0.27227,     0.27327,     0.27427,     0.27528,     0.27628,     0.27728,     0.27828,     0.27928,     0.28028,     0.28128,     0.28228,     0.28328,     0.28428,     0.28529,     0.28629,     0.28729,\n",
              "           0.28829,     0.28929,     0.29029,     0.29129,     0.29229,     0.29329,     0.29429,      0.2953,      0.2963,      0.2973,      0.2983,      0.2993,      0.3003,      0.3013,      0.3023,      0.3033,      0.3043,     0.30531,     0.30631,     0.30731,     0.30831,     0.30931,     0.31031,     0.31131,\n",
              "           0.31231,     0.31331,     0.31431,     0.31532,     0.31632,     0.31732,     0.31832,     0.31932,     0.32032,     0.32132,     0.32232,     0.32332,     0.32432,     0.32533,     0.32633,     0.32733,     0.32833,     0.32933,     0.33033,     0.33133,     0.33233,     0.33333,     0.33433,     0.33534,\n",
              "           0.33634,     0.33734,     0.33834,     0.33934,     0.34034,     0.34134,     0.34234,     0.34334,     0.34434,     0.34535,     0.34635,     0.34735,     0.34835,     0.34935,     0.35035,     0.35135,     0.35235,     0.35335,     0.35435,     0.35536,     0.35636,     0.35736,     0.35836,     0.35936,\n",
              "           0.36036,     0.36136,     0.36236,     0.36336,     0.36436,     0.36537,     0.36637,     0.36737,     0.36837,     0.36937,     0.37037,     0.37137,     0.37237,     0.37337,     0.37437,     0.37538,     0.37638,     0.37738,     0.37838,     0.37938,     0.38038,     0.38138,     0.38238,     0.38338,\n",
              "           0.38438,     0.38539,     0.38639,     0.38739,     0.38839,     0.38939,     0.39039,     0.39139,     0.39239,     0.39339,     0.39439,      0.3954,      0.3964,      0.3974,      0.3984,      0.3994,      0.4004,      0.4014,      0.4024,      0.4034,      0.4044,     0.40541,     0.40641,     0.40741,\n",
              "           0.40841,     0.40941,     0.41041,     0.41141,     0.41241,     0.41341,     0.41441,     0.41542,     0.41642,     0.41742,     0.41842,     0.41942,     0.42042,     0.42142,     0.42242,     0.42342,     0.42442,     0.42543,     0.42643,     0.42743,     0.42843,     0.42943,     0.43043,     0.43143,\n",
              "           0.43243,     0.43343,     0.43443,     0.43544,     0.43644,     0.43744,     0.43844,     0.43944,     0.44044,     0.44144,     0.44244,     0.44344,     0.44444,     0.44545,     0.44645,     0.44745,     0.44845,     0.44945,     0.45045,     0.45145,     0.45245,     0.45345,     0.45445,     0.45546,\n",
              "           0.45646,     0.45746,     0.45846,     0.45946,     0.46046,     0.46146,     0.46246,     0.46346,     0.46446,     0.46547,     0.46647,     0.46747,     0.46847,     0.46947,     0.47047,     0.47147,     0.47247,     0.47347,     0.47447,     0.47548,     0.47648,     0.47748,     0.47848,     0.47948,\n",
              "           0.48048,     0.48148,     0.48248,     0.48348,     0.48448,     0.48549,     0.48649,     0.48749,     0.48849,     0.48949,     0.49049,     0.49149,     0.49249,     0.49349,     0.49449,      0.4955,      0.4965,      0.4975,      0.4985,      0.4995,      0.5005,      0.5015,      0.5025,      0.5035,\n",
              "            0.5045,     0.50551,     0.50651,     0.50751,     0.50851,     0.50951,     0.51051,     0.51151,     0.51251,     0.51351,     0.51451,     0.51552,     0.51652,     0.51752,     0.51852,     0.51952,     0.52052,     0.52152,     0.52252,     0.52352,     0.52452,     0.52553,     0.52653,     0.52753,\n",
              "           0.52853,     0.52953,     0.53053,     0.53153,     0.53253,     0.53353,     0.53453,     0.53554,     0.53654,     0.53754,     0.53854,     0.53954,     0.54054,     0.54154,     0.54254,     0.54354,     0.54454,     0.54555,     0.54655,     0.54755,     0.54855,     0.54955,     0.55055,     0.55155,\n",
              "           0.55255,     0.55355,     0.55455,     0.55556,     0.55656,     0.55756,     0.55856,     0.55956,     0.56056,     0.56156,     0.56256,     0.56356,     0.56456,     0.56557,     0.56657,     0.56757,     0.56857,     0.56957,     0.57057,     0.57157,     0.57257,     0.57357,     0.57457,     0.57558,\n",
              "           0.57658,     0.57758,     0.57858,     0.57958,     0.58058,     0.58158,     0.58258,     0.58358,     0.58458,     0.58559,     0.58659,     0.58759,     0.58859,     0.58959,     0.59059,     0.59159,     0.59259,     0.59359,     0.59459,      0.5956,      0.5966,      0.5976,      0.5986,      0.5996,\n",
              "            0.6006,      0.6016,      0.6026,      0.6036,      0.6046,     0.60561,     0.60661,     0.60761,     0.60861,     0.60961,     0.61061,     0.61161,     0.61261,     0.61361,     0.61461,     0.61562,     0.61662,     0.61762,     0.61862,     0.61962,     0.62062,     0.62162,     0.62262,     0.62362,\n",
              "           0.62462,     0.62563,     0.62663,     0.62763,     0.62863,     0.62963,     0.63063,     0.63163,     0.63263,     0.63363,     0.63463,     0.63564,     0.63664,     0.63764,     0.63864,     0.63964,     0.64064,     0.64164,     0.64264,     0.64364,     0.64464,     0.64565,     0.64665,     0.64765,\n",
              "           0.64865,     0.64965,     0.65065,     0.65165,     0.65265,     0.65365,     0.65465,     0.65566,     0.65666,     0.65766,     0.65866,     0.65966,     0.66066,     0.66166,     0.66266,     0.66366,     0.66466,     0.66567,     0.66667,     0.66767,     0.66867,     0.66967,     0.67067,     0.67167,\n",
              "           0.67267,     0.67367,     0.67467,     0.67568,     0.67668,     0.67768,     0.67868,     0.67968,     0.68068,     0.68168,     0.68268,     0.68368,     0.68468,     0.68569,     0.68669,     0.68769,     0.68869,     0.68969,     0.69069,     0.69169,     0.69269,     0.69369,     0.69469,      0.6957,\n",
              "            0.6967,      0.6977,      0.6987,      0.6997,      0.7007,      0.7017,      0.7027,      0.7037,      0.7047,     0.70571,     0.70671,     0.70771,     0.70871,     0.70971,     0.71071,     0.71171,     0.71271,     0.71371,     0.71471,     0.71572,     0.71672,     0.71772,     0.71872,     0.71972,\n",
              "           0.72072,     0.72172,     0.72272,     0.72372,     0.72472,     0.72573,     0.72673,     0.72773,     0.72873,     0.72973,     0.73073,     0.73173,     0.73273,     0.73373,     0.73473,     0.73574,     0.73674,     0.73774,     0.73874,     0.73974,     0.74074,     0.74174,     0.74274,     0.74374,\n",
              "           0.74474,     0.74575,     0.74675,     0.74775,     0.74875,     0.74975,     0.75075,     0.75175,     0.75275,     0.75375,     0.75475,     0.75576,     0.75676,     0.75776,     0.75876,     0.75976,     0.76076,     0.76176,     0.76276,     0.76376,     0.76476,     0.76577,     0.76677,     0.76777,\n",
              "           0.76877,     0.76977,     0.77077,     0.77177,     0.77277,     0.77377,     0.77477,     0.77578,     0.77678,     0.77778,     0.77878,     0.77978,     0.78078,     0.78178,     0.78278,     0.78378,     0.78478,     0.78579,     0.78679,     0.78779,     0.78879,     0.78979,     0.79079,     0.79179,\n",
              "           0.79279,     0.79379,     0.79479,      0.7958,      0.7968,      0.7978,      0.7988,      0.7998,      0.8008,      0.8018,      0.8028,      0.8038,      0.8048,     0.80581,     0.80681,     0.80781,     0.80881,     0.80981,     0.81081,     0.81181,     0.81281,     0.81381,     0.81481,     0.81582,\n",
              "           0.81682,     0.81782,     0.81882,     0.81982,     0.82082,     0.82182,     0.82282,     0.82382,     0.82482,     0.82583,     0.82683,     0.82783,     0.82883,     0.82983,     0.83083,     0.83183,     0.83283,     0.83383,     0.83483,     0.83584,     0.83684,     0.83784,     0.83884,     0.83984,\n",
              "           0.84084,     0.84184,     0.84284,     0.84384,     0.84484,     0.84585,     0.84685,     0.84785,     0.84885,     0.84985,     0.85085,     0.85185,     0.85285,     0.85385,     0.85485,     0.85586,     0.85686,     0.85786,     0.85886,     0.85986,     0.86086,     0.86186,     0.86286,     0.86386,\n",
              "           0.86486,     0.86587,     0.86687,     0.86787,     0.86887,     0.86987,     0.87087,     0.87187,     0.87287,     0.87387,     0.87487,     0.87588,     0.87688,     0.87788,     0.87888,     0.87988,     0.88088,     0.88188,     0.88288,     0.88388,     0.88488,     0.88589,     0.88689,     0.88789,\n",
              "           0.88889,     0.88989,     0.89089,     0.89189,     0.89289,     0.89389,     0.89489,      0.8959,      0.8969,      0.8979,      0.8989,      0.8999,      0.9009,      0.9019,      0.9029,      0.9039,      0.9049,     0.90591,     0.90691,     0.90791,     0.90891,     0.90991,     0.91091,     0.91191,\n",
              "           0.91291,     0.91391,     0.91491,     0.91592,     0.91692,     0.91792,     0.91892,     0.91992,     0.92092,     0.92192,     0.92292,     0.92392,     0.92492,     0.92593,     0.92693,     0.92793,     0.92893,     0.92993,     0.93093,     0.93193,     0.93293,     0.93393,     0.93493,     0.93594,\n",
              "           0.93694,     0.93794,     0.93894,     0.93994,     0.94094,     0.94194,     0.94294,     0.94394,     0.94494,     0.94595,     0.94695,     0.94795,     0.94895,     0.94995,     0.95095,     0.95195,     0.95295,     0.95395,     0.95495,     0.95596,     0.95696,     0.95796,     0.95896,     0.95996,\n",
              "           0.96096,     0.96196,     0.96296,     0.96396,     0.96496,     0.96597,     0.96697,     0.96797,     0.96897,     0.96997,     0.97097,     0.97197,     0.97297,     0.97397,     0.97497,     0.97598,     0.97698,     0.97798,     0.97898,     0.97998,     0.98098,     0.98198,     0.98298,     0.98398,\n",
              "           0.98498,     0.98599,     0.98699,     0.98799,     0.98899,     0.98999,     0.99099,     0.99199,     0.99299,     0.99399,     0.99499,       0.996,       0.997,       0.998,       0.999,           1]), array([[          1,           1,           1, ...,      0.9871,      0.9871,           0],\n",
              "       [          1,           1,           1, ...,    0.045679,     0.02284,           0],\n",
              "       [          1,           1,           1, ...,     0.78293,     0.78293,           0],\n",
              "       ...,\n",
              "       [          1,           1,           1, ...,   0.0079027,   0.0039513,           0],\n",
              "       [          1,           1,           1, ...,  0.00051927,  0.00025963,           0],\n",
              "       [          1,           1,           1, ...,  0.00096501,  0.00048251,           0]]), 'Recall', 'Precision'], [array([          0,    0.001001,    0.002002,    0.003003,    0.004004,    0.005005,    0.006006,    0.007007,    0.008008,    0.009009,     0.01001,    0.011011,    0.012012,    0.013013,    0.014014,    0.015015,    0.016016,    0.017017,    0.018018,    0.019019,     0.02002,    0.021021,    0.022022,    0.023023,\n",
              "          0.024024,    0.025025,    0.026026,    0.027027,    0.028028,    0.029029,     0.03003,    0.031031,    0.032032,    0.033033,    0.034034,    0.035035,    0.036036,    0.037037,    0.038038,    0.039039,     0.04004,    0.041041,    0.042042,    0.043043,    0.044044,    0.045045,    0.046046,    0.047047,\n",
              "          0.048048,    0.049049,     0.05005,    0.051051,    0.052052,    0.053053,    0.054054,    0.055055,    0.056056,    0.057057,    0.058058,    0.059059,     0.06006,    0.061061,    0.062062,    0.063063,    0.064064,    0.065065,    0.066066,    0.067067,    0.068068,    0.069069,     0.07007,    0.071071,\n",
              "          0.072072,    0.073073,    0.074074,    0.075075,    0.076076,    0.077077,    0.078078,    0.079079,     0.08008,    0.081081,    0.082082,    0.083083,    0.084084,    0.085085,    0.086086,    0.087087,    0.088088,    0.089089,     0.09009,    0.091091,    0.092092,    0.093093,    0.094094,    0.095095,\n",
              "          0.096096,    0.097097,    0.098098,    0.099099,      0.1001,      0.1011,      0.1021,      0.1031,      0.1041,     0.10511,     0.10611,     0.10711,     0.10811,     0.10911,     0.11011,     0.11111,     0.11211,     0.11311,     0.11411,     0.11512,     0.11612,     0.11712,     0.11812,     0.11912,\n",
              "           0.12012,     0.12112,     0.12212,     0.12312,     0.12412,     0.12513,     0.12613,     0.12713,     0.12813,     0.12913,     0.13013,     0.13113,     0.13213,     0.13313,     0.13413,     0.13514,     0.13614,     0.13714,     0.13814,     0.13914,     0.14014,     0.14114,     0.14214,     0.14314,\n",
              "           0.14414,     0.14515,     0.14615,     0.14715,     0.14815,     0.14915,     0.15015,     0.15115,     0.15215,     0.15315,     0.15415,     0.15516,     0.15616,     0.15716,     0.15816,     0.15916,     0.16016,     0.16116,     0.16216,     0.16316,     0.16416,     0.16517,     0.16617,     0.16717,\n",
              "           0.16817,     0.16917,     0.17017,     0.17117,     0.17217,     0.17317,     0.17417,     0.17518,     0.17618,     0.17718,     0.17818,     0.17918,     0.18018,     0.18118,     0.18218,     0.18318,     0.18418,     0.18519,     0.18619,     0.18719,     0.18819,     0.18919,     0.19019,     0.19119,\n",
              "           0.19219,     0.19319,     0.19419,      0.1952,      0.1962,      0.1972,      0.1982,      0.1992,      0.2002,      0.2012,      0.2022,      0.2032,      0.2042,     0.20521,     0.20621,     0.20721,     0.20821,     0.20921,     0.21021,     0.21121,     0.21221,     0.21321,     0.21421,     0.21522,\n",
              "           0.21622,     0.21722,     0.21822,     0.21922,     0.22022,     0.22122,     0.22222,     0.22322,     0.22422,     0.22523,     0.22623,     0.22723,     0.22823,     0.22923,     0.23023,     0.23123,     0.23223,     0.23323,     0.23423,     0.23524,     0.23624,     0.23724,     0.23824,     0.23924,\n",
              "           0.24024,     0.24124,     0.24224,     0.24324,     0.24424,     0.24525,     0.24625,     0.24725,     0.24825,     0.24925,     0.25025,     0.25125,     0.25225,     0.25325,     0.25425,     0.25526,     0.25626,     0.25726,     0.25826,     0.25926,     0.26026,     0.26126,     0.26226,     0.26326,\n",
              "           0.26426,     0.26527,     0.26627,     0.26727,     0.26827,     0.26927,     0.27027,     0.27127,     0.27227,     0.27327,     0.27427,     0.27528,     0.27628,     0.27728,     0.27828,     0.27928,     0.28028,     0.28128,     0.28228,     0.28328,     0.28428,     0.28529,     0.28629,     0.28729,\n",
              "           0.28829,     0.28929,     0.29029,     0.29129,     0.29229,     0.29329,     0.29429,      0.2953,      0.2963,      0.2973,      0.2983,      0.2993,      0.3003,      0.3013,      0.3023,      0.3033,      0.3043,     0.30531,     0.30631,     0.30731,     0.30831,     0.30931,     0.31031,     0.31131,\n",
              "           0.31231,     0.31331,     0.31431,     0.31532,     0.31632,     0.31732,     0.31832,     0.31932,     0.32032,     0.32132,     0.32232,     0.32332,     0.32432,     0.32533,     0.32633,     0.32733,     0.32833,     0.32933,     0.33033,     0.33133,     0.33233,     0.33333,     0.33433,     0.33534,\n",
              "           0.33634,     0.33734,     0.33834,     0.33934,     0.34034,     0.34134,     0.34234,     0.34334,     0.34434,     0.34535,     0.34635,     0.34735,     0.34835,     0.34935,     0.35035,     0.35135,     0.35235,     0.35335,     0.35435,     0.35536,     0.35636,     0.35736,     0.35836,     0.35936,\n",
              "           0.36036,     0.36136,     0.36236,     0.36336,     0.36436,     0.36537,     0.36637,     0.36737,     0.36837,     0.36937,     0.37037,     0.37137,     0.37237,     0.37337,     0.37437,     0.37538,     0.37638,     0.37738,     0.37838,     0.37938,     0.38038,     0.38138,     0.38238,     0.38338,\n",
              "           0.38438,     0.38539,     0.38639,     0.38739,     0.38839,     0.38939,     0.39039,     0.39139,     0.39239,     0.39339,     0.39439,      0.3954,      0.3964,      0.3974,      0.3984,      0.3994,      0.4004,      0.4014,      0.4024,      0.4034,      0.4044,     0.40541,     0.40641,     0.40741,\n",
              "           0.40841,     0.40941,     0.41041,     0.41141,     0.41241,     0.41341,     0.41441,     0.41542,     0.41642,     0.41742,     0.41842,     0.41942,     0.42042,     0.42142,     0.42242,     0.42342,     0.42442,     0.42543,     0.42643,     0.42743,     0.42843,     0.42943,     0.43043,     0.43143,\n",
              "           0.43243,     0.43343,     0.43443,     0.43544,     0.43644,     0.43744,     0.43844,     0.43944,     0.44044,     0.44144,     0.44244,     0.44344,     0.44444,     0.44545,     0.44645,     0.44745,     0.44845,     0.44945,     0.45045,     0.45145,     0.45245,     0.45345,     0.45445,     0.45546,\n",
              "           0.45646,     0.45746,     0.45846,     0.45946,     0.46046,     0.46146,     0.46246,     0.46346,     0.46446,     0.46547,     0.46647,     0.46747,     0.46847,     0.46947,     0.47047,     0.47147,     0.47247,     0.47347,     0.47447,     0.47548,     0.47648,     0.47748,     0.47848,     0.47948,\n",
              "           0.48048,     0.48148,     0.48248,     0.48348,     0.48448,     0.48549,     0.48649,     0.48749,     0.48849,     0.48949,     0.49049,     0.49149,     0.49249,     0.49349,     0.49449,      0.4955,      0.4965,      0.4975,      0.4985,      0.4995,      0.5005,      0.5015,      0.5025,      0.5035,\n",
              "            0.5045,     0.50551,     0.50651,     0.50751,     0.50851,     0.50951,     0.51051,     0.51151,     0.51251,     0.51351,     0.51451,     0.51552,     0.51652,     0.51752,     0.51852,     0.51952,     0.52052,     0.52152,     0.52252,     0.52352,     0.52452,     0.52553,     0.52653,     0.52753,\n",
              "           0.52853,     0.52953,     0.53053,     0.53153,     0.53253,     0.53353,     0.53453,     0.53554,     0.53654,     0.53754,     0.53854,     0.53954,     0.54054,     0.54154,     0.54254,     0.54354,     0.54454,     0.54555,     0.54655,     0.54755,     0.54855,     0.54955,     0.55055,     0.55155,\n",
              "           0.55255,     0.55355,     0.55455,     0.55556,     0.55656,     0.55756,     0.55856,     0.55956,     0.56056,     0.56156,     0.56256,     0.56356,     0.56456,     0.56557,     0.56657,     0.56757,     0.56857,     0.56957,     0.57057,     0.57157,     0.57257,     0.57357,     0.57457,     0.57558,\n",
              "           0.57658,     0.57758,     0.57858,     0.57958,     0.58058,     0.58158,     0.58258,     0.58358,     0.58458,     0.58559,     0.58659,     0.58759,     0.58859,     0.58959,     0.59059,     0.59159,     0.59259,     0.59359,     0.59459,      0.5956,      0.5966,      0.5976,      0.5986,      0.5996,\n",
              "            0.6006,      0.6016,      0.6026,      0.6036,      0.6046,     0.60561,     0.60661,     0.60761,     0.60861,     0.60961,     0.61061,     0.61161,     0.61261,     0.61361,     0.61461,     0.61562,     0.61662,     0.61762,     0.61862,     0.61962,     0.62062,     0.62162,     0.62262,     0.62362,\n",
              "           0.62462,     0.62563,     0.62663,     0.62763,     0.62863,     0.62963,     0.63063,     0.63163,     0.63263,     0.63363,     0.63463,     0.63564,     0.63664,     0.63764,     0.63864,     0.63964,     0.64064,     0.64164,     0.64264,     0.64364,     0.64464,     0.64565,     0.64665,     0.64765,\n",
              "           0.64865,     0.64965,     0.65065,     0.65165,     0.65265,     0.65365,     0.65465,     0.65566,     0.65666,     0.65766,     0.65866,     0.65966,     0.66066,     0.66166,     0.66266,     0.66366,     0.66466,     0.66567,     0.66667,     0.66767,     0.66867,     0.66967,     0.67067,     0.67167,\n",
              "           0.67267,     0.67367,     0.67467,     0.67568,     0.67668,     0.67768,     0.67868,     0.67968,     0.68068,     0.68168,     0.68268,     0.68368,     0.68468,     0.68569,     0.68669,     0.68769,     0.68869,     0.68969,     0.69069,     0.69169,     0.69269,     0.69369,     0.69469,      0.6957,\n",
              "            0.6967,      0.6977,      0.6987,      0.6997,      0.7007,      0.7017,      0.7027,      0.7037,      0.7047,     0.70571,     0.70671,     0.70771,     0.70871,     0.70971,     0.71071,     0.71171,     0.71271,     0.71371,     0.71471,     0.71572,     0.71672,     0.71772,     0.71872,     0.71972,\n",
              "           0.72072,     0.72172,     0.72272,     0.72372,     0.72472,     0.72573,     0.72673,     0.72773,     0.72873,     0.72973,     0.73073,     0.73173,     0.73273,     0.73373,     0.73473,     0.73574,     0.73674,     0.73774,     0.73874,     0.73974,     0.74074,     0.74174,     0.74274,     0.74374,\n",
              "           0.74474,     0.74575,     0.74675,     0.74775,     0.74875,     0.74975,     0.75075,     0.75175,     0.75275,     0.75375,     0.75475,     0.75576,     0.75676,     0.75776,     0.75876,     0.75976,     0.76076,     0.76176,     0.76276,     0.76376,     0.76476,     0.76577,     0.76677,     0.76777,\n",
              "           0.76877,     0.76977,     0.77077,     0.77177,     0.77277,     0.77377,     0.77477,     0.77578,     0.77678,     0.77778,     0.77878,     0.77978,     0.78078,     0.78178,     0.78278,     0.78378,     0.78478,     0.78579,     0.78679,     0.78779,     0.78879,     0.78979,     0.79079,     0.79179,\n",
              "           0.79279,     0.79379,     0.79479,      0.7958,      0.7968,      0.7978,      0.7988,      0.7998,      0.8008,      0.8018,      0.8028,      0.8038,      0.8048,     0.80581,     0.80681,     0.80781,     0.80881,     0.80981,     0.81081,     0.81181,     0.81281,     0.81381,     0.81481,     0.81582,\n",
              "           0.81682,     0.81782,     0.81882,     0.81982,     0.82082,     0.82182,     0.82282,     0.82382,     0.82482,     0.82583,     0.82683,     0.82783,     0.82883,     0.82983,     0.83083,     0.83183,     0.83283,     0.83383,     0.83483,     0.83584,     0.83684,     0.83784,     0.83884,     0.83984,\n",
              "           0.84084,     0.84184,     0.84284,     0.84384,     0.84484,     0.84585,     0.84685,     0.84785,     0.84885,     0.84985,     0.85085,     0.85185,     0.85285,     0.85385,     0.85485,     0.85586,     0.85686,     0.85786,     0.85886,     0.85986,     0.86086,     0.86186,     0.86286,     0.86386,\n",
              "           0.86486,     0.86587,     0.86687,     0.86787,     0.86887,     0.86987,     0.87087,     0.87187,     0.87287,     0.87387,     0.87487,     0.87588,     0.87688,     0.87788,     0.87888,     0.87988,     0.88088,     0.88188,     0.88288,     0.88388,     0.88488,     0.88589,     0.88689,     0.88789,\n",
              "           0.88889,     0.88989,     0.89089,     0.89189,     0.89289,     0.89389,     0.89489,      0.8959,      0.8969,      0.8979,      0.8989,      0.8999,      0.9009,      0.9019,      0.9029,      0.9039,      0.9049,     0.90591,     0.90691,     0.90791,     0.90891,     0.90991,     0.91091,     0.91191,\n",
              "           0.91291,     0.91391,     0.91491,     0.91592,     0.91692,     0.91792,     0.91892,     0.91992,     0.92092,     0.92192,     0.92292,     0.92392,     0.92492,     0.92593,     0.92693,     0.92793,     0.92893,     0.92993,     0.93093,     0.93193,     0.93293,     0.93393,     0.93493,     0.93594,\n",
              "           0.93694,     0.93794,     0.93894,     0.93994,     0.94094,     0.94194,     0.94294,     0.94394,     0.94494,     0.94595,     0.94695,     0.94795,     0.94895,     0.94995,     0.95095,     0.95195,     0.95295,     0.95395,     0.95495,     0.95596,     0.95696,     0.95796,     0.95896,     0.95996,\n",
              "           0.96096,     0.96196,     0.96296,     0.96396,     0.96496,     0.96597,     0.96697,     0.96797,     0.96897,     0.96997,     0.97097,     0.97197,     0.97297,     0.97397,     0.97497,     0.97598,     0.97698,     0.97798,     0.97898,     0.97998,     0.98098,     0.98198,     0.98298,     0.98398,\n",
              "           0.98498,     0.98599,     0.98699,     0.98799,     0.98899,     0.98999,     0.99099,     0.99199,     0.99299,     0.99399,     0.99499,       0.996,       0.997,       0.998,       0.999,           1]), array([[    0.43777,     0.43777,     0.55835, ...,           0,           0,           0],\n",
              "       [    0.43836,     0.43836,      0.5948, ...,           0,           0,           0],\n",
              "       [    0.21573,     0.21573,     0.44674, ...,           0,           0,           0],\n",
              "       ...,\n",
              "       [   0.073793,    0.073793,     0.15677, ...,           0,           0,           0],\n",
              "       [   0.058804,    0.058804,     0.12012, ...,           0,           0,           0],\n",
              "       [   0.032243,    0.032243,    0.087548, ...,           0,           0,           0]]), 'Confidence', 'F1'], [array([          0,    0.001001,    0.002002,    0.003003,    0.004004,    0.005005,    0.006006,    0.007007,    0.008008,    0.009009,     0.01001,    0.011011,    0.012012,    0.013013,    0.014014,    0.015015,    0.016016,    0.017017,    0.018018,    0.019019,     0.02002,    0.021021,    0.022022,    0.023023,\n",
              "          0.024024,    0.025025,    0.026026,    0.027027,    0.028028,    0.029029,     0.03003,    0.031031,    0.032032,    0.033033,    0.034034,    0.035035,    0.036036,    0.037037,    0.038038,    0.039039,     0.04004,    0.041041,    0.042042,    0.043043,    0.044044,    0.045045,    0.046046,    0.047047,\n",
              "          0.048048,    0.049049,     0.05005,    0.051051,    0.052052,    0.053053,    0.054054,    0.055055,    0.056056,    0.057057,    0.058058,    0.059059,     0.06006,    0.061061,    0.062062,    0.063063,    0.064064,    0.065065,    0.066066,    0.067067,    0.068068,    0.069069,     0.07007,    0.071071,\n",
              "          0.072072,    0.073073,    0.074074,    0.075075,    0.076076,    0.077077,    0.078078,    0.079079,     0.08008,    0.081081,    0.082082,    0.083083,    0.084084,    0.085085,    0.086086,    0.087087,    0.088088,    0.089089,     0.09009,    0.091091,    0.092092,    0.093093,    0.094094,    0.095095,\n",
              "          0.096096,    0.097097,    0.098098,    0.099099,      0.1001,      0.1011,      0.1021,      0.1031,      0.1041,     0.10511,     0.10611,     0.10711,     0.10811,     0.10911,     0.11011,     0.11111,     0.11211,     0.11311,     0.11411,     0.11512,     0.11612,     0.11712,     0.11812,     0.11912,\n",
              "           0.12012,     0.12112,     0.12212,     0.12312,     0.12412,     0.12513,     0.12613,     0.12713,     0.12813,     0.12913,     0.13013,     0.13113,     0.13213,     0.13313,     0.13413,     0.13514,     0.13614,     0.13714,     0.13814,     0.13914,     0.14014,     0.14114,     0.14214,     0.14314,\n",
              "           0.14414,     0.14515,     0.14615,     0.14715,     0.14815,     0.14915,     0.15015,     0.15115,     0.15215,     0.15315,     0.15415,     0.15516,     0.15616,     0.15716,     0.15816,     0.15916,     0.16016,     0.16116,     0.16216,     0.16316,     0.16416,     0.16517,     0.16617,     0.16717,\n",
              "           0.16817,     0.16917,     0.17017,     0.17117,     0.17217,     0.17317,     0.17417,     0.17518,     0.17618,     0.17718,     0.17818,     0.17918,     0.18018,     0.18118,     0.18218,     0.18318,     0.18418,     0.18519,     0.18619,     0.18719,     0.18819,     0.18919,     0.19019,     0.19119,\n",
              "           0.19219,     0.19319,     0.19419,      0.1952,      0.1962,      0.1972,      0.1982,      0.1992,      0.2002,      0.2012,      0.2022,      0.2032,      0.2042,     0.20521,     0.20621,     0.20721,     0.20821,     0.20921,     0.21021,     0.21121,     0.21221,     0.21321,     0.21421,     0.21522,\n",
              "           0.21622,     0.21722,     0.21822,     0.21922,     0.22022,     0.22122,     0.22222,     0.22322,     0.22422,     0.22523,     0.22623,     0.22723,     0.22823,     0.22923,     0.23023,     0.23123,     0.23223,     0.23323,     0.23423,     0.23524,     0.23624,     0.23724,     0.23824,     0.23924,\n",
              "           0.24024,     0.24124,     0.24224,     0.24324,     0.24424,     0.24525,     0.24625,     0.24725,     0.24825,     0.24925,     0.25025,     0.25125,     0.25225,     0.25325,     0.25425,     0.25526,     0.25626,     0.25726,     0.25826,     0.25926,     0.26026,     0.26126,     0.26226,     0.26326,\n",
              "           0.26426,     0.26527,     0.26627,     0.26727,     0.26827,     0.26927,     0.27027,     0.27127,     0.27227,     0.27327,     0.27427,     0.27528,     0.27628,     0.27728,     0.27828,     0.27928,     0.28028,     0.28128,     0.28228,     0.28328,     0.28428,     0.28529,     0.28629,     0.28729,\n",
              "           0.28829,     0.28929,     0.29029,     0.29129,     0.29229,     0.29329,     0.29429,      0.2953,      0.2963,      0.2973,      0.2983,      0.2993,      0.3003,      0.3013,      0.3023,      0.3033,      0.3043,     0.30531,     0.30631,     0.30731,     0.30831,     0.30931,     0.31031,     0.31131,\n",
              "           0.31231,     0.31331,     0.31431,     0.31532,     0.31632,     0.31732,     0.31832,     0.31932,     0.32032,     0.32132,     0.32232,     0.32332,     0.32432,     0.32533,     0.32633,     0.32733,     0.32833,     0.32933,     0.33033,     0.33133,     0.33233,     0.33333,     0.33433,     0.33534,\n",
              "           0.33634,     0.33734,     0.33834,     0.33934,     0.34034,     0.34134,     0.34234,     0.34334,     0.34434,     0.34535,     0.34635,     0.34735,     0.34835,     0.34935,     0.35035,     0.35135,     0.35235,     0.35335,     0.35435,     0.35536,     0.35636,     0.35736,     0.35836,     0.35936,\n",
              "           0.36036,     0.36136,     0.36236,     0.36336,     0.36436,     0.36537,     0.36637,     0.36737,     0.36837,     0.36937,     0.37037,     0.37137,     0.37237,     0.37337,     0.37437,     0.37538,     0.37638,     0.37738,     0.37838,     0.37938,     0.38038,     0.38138,     0.38238,     0.38338,\n",
              "           0.38438,     0.38539,     0.38639,     0.38739,     0.38839,     0.38939,     0.39039,     0.39139,     0.39239,     0.39339,     0.39439,      0.3954,      0.3964,      0.3974,      0.3984,      0.3994,      0.4004,      0.4014,      0.4024,      0.4034,      0.4044,     0.40541,     0.40641,     0.40741,\n",
              "           0.40841,     0.40941,     0.41041,     0.41141,     0.41241,     0.41341,     0.41441,     0.41542,     0.41642,     0.41742,     0.41842,     0.41942,     0.42042,     0.42142,     0.42242,     0.42342,     0.42442,     0.42543,     0.42643,     0.42743,     0.42843,     0.42943,     0.43043,     0.43143,\n",
              "           0.43243,     0.43343,     0.43443,     0.43544,     0.43644,     0.43744,     0.43844,     0.43944,     0.44044,     0.44144,     0.44244,     0.44344,     0.44444,     0.44545,     0.44645,     0.44745,     0.44845,     0.44945,     0.45045,     0.45145,     0.45245,     0.45345,     0.45445,     0.45546,\n",
              "           0.45646,     0.45746,     0.45846,     0.45946,     0.46046,     0.46146,     0.46246,     0.46346,     0.46446,     0.46547,     0.46647,     0.46747,     0.46847,     0.46947,     0.47047,     0.47147,     0.47247,     0.47347,     0.47447,     0.47548,     0.47648,     0.47748,     0.47848,     0.47948,\n",
              "           0.48048,     0.48148,     0.48248,     0.48348,     0.48448,     0.48549,     0.48649,     0.48749,     0.48849,     0.48949,     0.49049,     0.49149,     0.49249,     0.49349,     0.49449,      0.4955,      0.4965,      0.4975,      0.4985,      0.4995,      0.5005,      0.5015,      0.5025,      0.5035,\n",
              "            0.5045,     0.50551,     0.50651,     0.50751,     0.50851,     0.50951,     0.51051,     0.51151,     0.51251,     0.51351,     0.51451,     0.51552,     0.51652,     0.51752,     0.51852,     0.51952,     0.52052,     0.52152,     0.52252,     0.52352,     0.52452,     0.52553,     0.52653,     0.52753,\n",
              "           0.52853,     0.52953,     0.53053,     0.53153,     0.53253,     0.53353,     0.53453,     0.53554,     0.53654,     0.53754,     0.53854,     0.53954,     0.54054,     0.54154,     0.54254,     0.54354,     0.54454,     0.54555,     0.54655,     0.54755,     0.54855,     0.54955,     0.55055,     0.55155,\n",
              "           0.55255,     0.55355,     0.55455,     0.55556,     0.55656,     0.55756,     0.55856,     0.55956,     0.56056,     0.56156,     0.56256,     0.56356,     0.56456,     0.56557,     0.56657,     0.56757,     0.56857,     0.56957,     0.57057,     0.57157,     0.57257,     0.57357,     0.57457,     0.57558,\n",
              "           0.57658,     0.57758,     0.57858,     0.57958,     0.58058,     0.58158,     0.58258,     0.58358,     0.58458,     0.58559,     0.58659,     0.58759,     0.58859,     0.58959,     0.59059,     0.59159,     0.59259,     0.59359,     0.59459,      0.5956,      0.5966,      0.5976,      0.5986,      0.5996,\n",
              "            0.6006,      0.6016,      0.6026,      0.6036,      0.6046,     0.60561,     0.60661,     0.60761,     0.60861,     0.60961,     0.61061,     0.61161,     0.61261,     0.61361,     0.61461,     0.61562,     0.61662,     0.61762,     0.61862,     0.61962,     0.62062,     0.62162,     0.62262,     0.62362,\n",
              "           0.62462,     0.62563,     0.62663,     0.62763,     0.62863,     0.62963,     0.63063,     0.63163,     0.63263,     0.63363,     0.63463,     0.63564,     0.63664,     0.63764,     0.63864,     0.63964,     0.64064,     0.64164,     0.64264,     0.64364,     0.64464,     0.64565,     0.64665,     0.64765,\n",
              "           0.64865,     0.64965,     0.65065,     0.65165,     0.65265,     0.65365,     0.65465,     0.65566,     0.65666,     0.65766,     0.65866,     0.65966,     0.66066,     0.66166,     0.66266,     0.66366,     0.66466,     0.66567,     0.66667,     0.66767,     0.66867,     0.66967,     0.67067,     0.67167,\n",
              "           0.67267,     0.67367,     0.67467,     0.67568,     0.67668,     0.67768,     0.67868,     0.67968,     0.68068,     0.68168,     0.68268,     0.68368,     0.68468,     0.68569,     0.68669,     0.68769,     0.68869,     0.68969,     0.69069,     0.69169,     0.69269,     0.69369,     0.69469,      0.6957,\n",
              "            0.6967,      0.6977,      0.6987,      0.6997,      0.7007,      0.7017,      0.7027,      0.7037,      0.7047,     0.70571,     0.70671,     0.70771,     0.70871,     0.70971,     0.71071,     0.71171,     0.71271,     0.71371,     0.71471,     0.71572,     0.71672,     0.71772,     0.71872,     0.71972,\n",
              "           0.72072,     0.72172,     0.72272,     0.72372,     0.72472,     0.72573,     0.72673,     0.72773,     0.72873,     0.72973,     0.73073,     0.73173,     0.73273,     0.73373,     0.73473,     0.73574,     0.73674,     0.73774,     0.73874,     0.73974,     0.74074,     0.74174,     0.74274,     0.74374,\n",
              "           0.74474,     0.74575,     0.74675,     0.74775,     0.74875,     0.74975,     0.75075,     0.75175,     0.75275,     0.75375,     0.75475,     0.75576,     0.75676,     0.75776,     0.75876,     0.75976,     0.76076,     0.76176,     0.76276,     0.76376,     0.76476,     0.76577,     0.76677,     0.76777,\n",
              "           0.76877,     0.76977,     0.77077,     0.77177,     0.77277,     0.77377,     0.77477,     0.77578,     0.77678,     0.77778,     0.77878,     0.77978,     0.78078,     0.78178,     0.78278,     0.78378,     0.78478,     0.78579,     0.78679,     0.78779,     0.78879,     0.78979,     0.79079,     0.79179,\n",
              "           0.79279,     0.79379,     0.79479,      0.7958,      0.7968,      0.7978,      0.7988,      0.7998,      0.8008,      0.8018,      0.8028,      0.8038,      0.8048,     0.80581,     0.80681,     0.80781,     0.80881,     0.80981,     0.81081,     0.81181,     0.81281,     0.81381,     0.81481,     0.81582,\n",
              "           0.81682,     0.81782,     0.81882,     0.81982,     0.82082,     0.82182,     0.82282,     0.82382,     0.82482,     0.82583,     0.82683,     0.82783,     0.82883,     0.82983,     0.83083,     0.83183,     0.83283,     0.83383,     0.83483,     0.83584,     0.83684,     0.83784,     0.83884,     0.83984,\n",
              "           0.84084,     0.84184,     0.84284,     0.84384,     0.84484,     0.84585,     0.84685,     0.84785,     0.84885,     0.84985,     0.85085,     0.85185,     0.85285,     0.85385,     0.85485,     0.85586,     0.85686,     0.85786,     0.85886,     0.85986,     0.86086,     0.86186,     0.86286,     0.86386,\n",
              "           0.86486,     0.86587,     0.86687,     0.86787,     0.86887,     0.86987,     0.87087,     0.87187,     0.87287,     0.87387,     0.87487,     0.87588,     0.87688,     0.87788,     0.87888,     0.87988,     0.88088,     0.88188,     0.88288,     0.88388,     0.88488,     0.88589,     0.88689,     0.88789,\n",
              "           0.88889,     0.88989,     0.89089,     0.89189,     0.89289,     0.89389,     0.89489,      0.8959,      0.8969,      0.8979,      0.8989,      0.8999,      0.9009,      0.9019,      0.9029,      0.9039,      0.9049,     0.90591,     0.90691,     0.90791,     0.90891,     0.90991,     0.91091,     0.91191,\n",
              "           0.91291,     0.91391,     0.91491,     0.91592,     0.91692,     0.91792,     0.91892,     0.91992,     0.92092,     0.92192,     0.92292,     0.92392,     0.92492,     0.92593,     0.92693,     0.92793,     0.92893,     0.92993,     0.93093,     0.93193,     0.93293,     0.93393,     0.93493,     0.93594,\n",
              "           0.93694,     0.93794,     0.93894,     0.93994,     0.94094,     0.94194,     0.94294,     0.94394,     0.94494,     0.94595,     0.94695,     0.94795,     0.94895,     0.94995,     0.95095,     0.95195,     0.95295,     0.95395,     0.95495,     0.95596,     0.95696,     0.95796,     0.95896,     0.95996,\n",
              "           0.96096,     0.96196,     0.96296,     0.96396,     0.96496,     0.96597,     0.96697,     0.96797,     0.96897,     0.96997,     0.97097,     0.97197,     0.97297,     0.97397,     0.97497,     0.97598,     0.97698,     0.97798,     0.97898,     0.97998,     0.98098,     0.98198,     0.98298,     0.98398,\n",
              "           0.98498,     0.98599,     0.98699,     0.98799,     0.98899,     0.98999,     0.99099,     0.99199,     0.99299,     0.99399,     0.99499,       0.996,       0.997,       0.998,       0.999,           1]), array([[    0.28022,     0.28022,      0.3873, ...,           1,           1,           1],\n",
              "       [    0.28169,     0.28169,     0.42669, ...,           1,           1,           1],\n",
              "       [     0.1209,      0.1209,     0.28761, ...,           1,           1,           1],\n",
              "       ...,\n",
              "       [   0.038324,    0.038324,    0.085193, ...,           1,           1,           1],\n",
              "       [   0.030415,    0.030415,    0.064499, ...,           1,           1,           1],\n",
              "       [   0.016395,    0.016395,    0.045867, ...,           1,           1,           1]]), 'Confidence', 'Precision'], [array([          0,    0.001001,    0.002002,    0.003003,    0.004004,    0.005005,    0.006006,    0.007007,    0.008008,    0.009009,     0.01001,    0.011011,    0.012012,    0.013013,    0.014014,    0.015015,    0.016016,    0.017017,    0.018018,    0.019019,     0.02002,    0.021021,    0.022022,    0.023023,\n",
              "          0.024024,    0.025025,    0.026026,    0.027027,    0.028028,    0.029029,     0.03003,    0.031031,    0.032032,    0.033033,    0.034034,    0.035035,    0.036036,    0.037037,    0.038038,    0.039039,     0.04004,    0.041041,    0.042042,    0.043043,    0.044044,    0.045045,    0.046046,    0.047047,\n",
              "          0.048048,    0.049049,     0.05005,    0.051051,    0.052052,    0.053053,    0.054054,    0.055055,    0.056056,    0.057057,    0.058058,    0.059059,     0.06006,    0.061061,    0.062062,    0.063063,    0.064064,    0.065065,    0.066066,    0.067067,    0.068068,    0.069069,     0.07007,    0.071071,\n",
              "          0.072072,    0.073073,    0.074074,    0.075075,    0.076076,    0.077077,    0.078078,    0.079079,     0.08008,    0.081081,    0.082082,    0.083083,    0.084084,    0.085085,    0.086086,    0.087087,    0.088088,    0.089089,     0.09009,    0.091091,    0.092092,    0.093093,    0.094094,    0.095095,\n",
              "          0.096096,    0.097097,    0.098098,    0.099099,      0.1001,      0.1011,      0.1021,      0.1031,      0.1041,     0.10511,     0.10611,     0.10711,     0.10811,     0.10911,     0.11011,     0.11111,     0.11211,     0.11311,     0.11411,     0.11512,     0.11612,     0.11712,     0.11812,     0.11912,\n",
              "           0.12012,     0.12112,     0.12212,     0.12312,     0.12412,     0.12513,     0.12613,     0.12713,     0.12813,     0.12913,     0.13013,     0.13113,     0.13213,     0.13313,     0.13413,     0.13514,     0.13614,     0.13714,     0.13814,     0.13914,     0.14014,     0.14114,     0.14214,     0.14314,\n",
              "           0.14414,     0.14515,     0.14615,     0.14715,     0.14815,     0.14915,     0.15015,     0.15115,     0.15215,     0.15315,     0.15415,     0.15516,     0.15616,     0.15716,     0.15816,     0.15916,     0.16016,     0.16116,     0.16216,     0.16316,     0.16416,     0.16517,     0.16617,     0.16717,\n",
              "           0.16817,     0.16917,     0.17017,     0.17117,     0.17217,     0.17317,     0.17417,     0.17518,     0.17618,     0.17718,     0.17818,     0.17918,     0.18018,     0.18118,     0.18218,     0.18318,     0.18418,     0.18519,     0.18619,     0.18719,     0.18819,     0.18919,     0.19019,     0.19119,\n",
              "           0.19219,     0.19319,     0.19419,      0.1952,      0.1962,      0.1972,      0.1982,      0.1992,      0.2002,      0.2012,      0.2022,      0.2032,      0.2042,     0.20521,     0.20621,     0.20721,     0.20821,     0.20921,     0.21021,     0.21121,     0.21221,     0.21321,     0.21421,     0.21522,\n",
              "           0.21622,     0.21722,     0.21822,     0.21922,     0.22022,     0.22122,     0.22222,     0.22322,     0.22422,     0.22523,     0.22623,     0.22723,     0.22823,     0.22923,     0.23023,     0.23123,     0.23223,     0.23323,     0.23423,     0.23524,     0.23624,     0.23724,     0.23824,     0.23924,\n",
              "           0.24024,     0.24124,     0.24224,     0.24324,     0.24424,     0.24525,     0.24625,     0.24725,     0.24825,     0.24925,     0.25025,     0.25125,     0.25225,     0.25325,     0.25425,     0.25526,     0.25626,     0.25726,     0.25826,     0.25926,     0.26026,     0.26126,     0.26226,     0.26326,\n",
              "           0.26426,     0.26527,     0.26627,     0.26727,     0.26827,     0.26927,     0.27027,     0.27127,     0.27227,     0.27327,     0.27427,     0.27528,     0.27628,     0.27728,     0.27828,     0.27928,     0.28028,     0.28128,     0.28228,     0.28328,     0.28428,     0.28529,     0.28629,     0.28729,\n",
              "           0.28829,     0.28929,     0.29029,     0.29129,     0.29229,     0.29329,     0.29429,      0.2953,      0.2963,      0.2973,      0.2983,      0.2993,      0.3003,      0.3013,      0.3023,      0.3033,      0.3043,     0.30531,     0.30631,     0.30731,     0.30831,     0.30931,     0.31031,     0.31131,\n",
              "           0.31231,     0.31331,     0.31431,     0.31532,     0.31632,     0.31732,     0.31832,     0.31932,     0.32032,     0.32132,     0.32232,     0.32332,     0.32432,     0.32533,     0.32633,     0.32733,     0.32833,     0.32933,     0.33033,     0.33133,     0.33233,     0.33333,     0.33433,     0.33534,\n",
              "           0.33634,     0.33734,     0.33834,     0.33934,     0.34034,     0.34134,     0.34234,     0.34334,     0.34434,     0.34535,     0.34635,     0.34735,     0.34835,     0.34935,     0.35035,     0.35135,     0.35235,     0.35335,     0.35435,     0.35536,     0.35636,     0.35736,     0.35836,     0.35936,\n",
              "           0.36036,     0.36136,     0.36236,     0.36336,     0.36436,     0.36537,     0.36637,     0.36737,     0.36837,     0.36937,     0.37037,     0.37137,     0.37237,     0.37337,     0.37437,     0.37538,     0.37638,     0.37738,     0.37838,     0.37938,     0.38038,     0.38138,     0.38238,     0.38338,\n",
              "           0.38438,     0.38539,     0.38639,     0.38739,     0.38839,     0.38939,     0.39039,     0.39139,     0.39239,     0.39339,     0.39439,      0.3954,      0.3964,      0.3974,      0.3984,      0.3994,      0.4004,      0.4014,      0.4024,      0.4034,      0.4044,     0.40541,     0.40641,     0.40741,\n",
              "           0.40841,     0.40941,     0.41041,     0.41141,     0.41241,     0.41341,     0.41441,     0.41542,     0.41642,     0.41742,     0.41842,     0.41942,     0.42042,     0.42142,     0.42242,     0.42342,     0.42442,     0.42543,     0.42643,     0.42743,     0.42843,     0.42943,     0.43043,     0.43143,\n",
              "           0.43243,     0.43343,     0.43443,     0.43544,     0.43644,     0.43744,     0.43844,     0.43944,     0.44044,     0.44144,     0.44244,     0.44344,     0.44444,     0.44545,     0.44645,     0.44745,     0.44845,     0.44945,     0.45045,     0.45145,     0.45245,     0.45345,     0.45445,     0.45546,\n",
              "           0.45646,     0.45746,     0.45846,     0.45946,     0.46046,     0.46146,     0.46246,     0.46346,     0.46446,     0.46547,     0.46647,     0.46747,     0.46847,     0.46947,     0.47047,     0.47147,     0.47247,     0.47347,     0.47447,     0.47548,     0.47648,     0.47748,     0.47848,     0.47948,\n",
              "           0.48048,     0.48148,     0.48248,     0.48348,     0.48448,     0.48549,     0.48649,     0.48749,     0.48849,     0.48949,     0.49049,     0.49149,     0.49249,     0.49349,     0.49449,      0.4955,      0.4965,      0.4975,      0.4985,      0.4995,      0.5005,      0.5015,      0.5025,      0.5035,\n",
              "            0.5045,     0.50551,     0.50651,     0.50751,     0.50851,     0.50951,     0.51051,     0.51151,     0.51251,     0.51351,     0.51451,     0.51552,     0.51652,     0.51752,     0.51852,     0.51952,     0.52052,     0.52152,     0.52252,     0.52352,     0.52452,     0.52553,     0.52653,     0.52753,\n",
              "           0.52853,     0.52953,     0.53053,     0.53153,     0.53253,     0.53353,     0.53453,     0.53554,     0.53654,     0.53754,     0.53854,     0.53954,     0.54054,     0.54154,     0.54254,     0.54354,     0.54454,     0.54555,     0.54655,     0.54755,     0.54855,     0.54955,     0.55055,     0.55155,\n",
              "           0.55255,     0.55355,     0.55455,     0.55556,     0.55656,     0.55756,     0.55856,     0.55956,     0.56056,     0.56156,     0.56256,     0.56356,     0.56456,     0.56557,     0.56657,     0.56757,     0.56857,     0.56957,     0.57057,     0.57157,     0.57257,     0.57357,     0.57457,     0.57558,\n",
              "           0.57658,     0.57758,     0.57858,     0.57958,     0.58058,     0.58158,     0.58258,     0.58358,     0.58458,     0.58559,     0.58659,     0.58759,     0.58859,     0.58959,     0.59059,     0.59159,     0.59259,     0.59359,     0.59459,      0.5956,      0.5966,      0.5976,      0.5986,      0.5996,\n",
              "            0.6006,      0.6016,      0.6026,      0.6036,      0.6046,     0.60561,     0.60661,     0.60761,     0.60861,     0.60961,     0.61061,     0.61161,     0.61261,     0.61361,     0.61461,     0.61562,     0.61662,     0.61762,     0.61862,     0.61962,     0.62062,     0.62162,     0.62262,     0.62362,\n",
              "           0.62462,     0.62563,     0.62663,     0.62763,     0.62863,     0.62963,     0.63063,     0.63163,     0.63263,     0.63363,     0.63463,     0.63564,     0.63664,     0.63764,     0.63864,     0.63964,     0.64064,     0.64164,     0.64264,     0.64364,     0.64464,     0.64565,     0.64665,     0.64765,\n",
              "           0.64865,     0.64965,     0.65065,     0.65165,     0.65265,     0.65365,     0.65465,     0.65566,     0.65666,     0.65766,     0.65866,     0.65966,     0.66066,     0.66166,     0.66266,     0.66366,     0.66466,     0.66567,     0.66667,     0.66767,     0.66867,     0.66967,     0.67067,     0.67167,\n",
              "           0.67267,     0.67367,     0.67467,     0.67568,     0.67668,     0.67768,     0.67868,     0.67968,     0.68068,     0.68168,     0.68268,     0.68368,     0.68468,     0.68569,     0.68669,     0.68769,     0.68869,     0.68969,     0.69069,     0.69169,     0.69269,     0.69369,     0.69469,      0.6957,\n",
              "            0.6967,      0.6977,      0.6987,      0.6997,      0.7007,      0.7017,      0.7027,      0.7037,      0.7047,     0.70571,     0.70671,     0.70771,     0.70871,     0.70971,     0.71071,     0.71171,     0.71271,     0.71371,     0.71471,     0.71572,     0.71672,     0.71772,     0.71872,     0.71972,\n",
              "           0.72072,     0.72172,     0.72272,     0.72372,     0.72472,     0.72573,     0.72673,     0.72773,     0.72873,     0.72973,     0.73073,     0.73173,     0.73273,     0.73373,     0.73473,     0.73574,     0.73674,     0.73774,     0.73874,     0.73974,     0.74074,     0.74174,     0.74274,     0.74374,\n",
              "           0.74474,     0.74575,     0.74675,     0.74775,     0.74875,     0.74975,     0.75075,     0.75175,     0.75275,     0.75375,     0.75475,     0.75576,     0.75676,     0.75776,     0.75876,     0.75976,     0.76076,     0.76176,     0.76276,     0.76376,     0.76476,     0.76577,     0.76677,     0.76777,\n",
              "           0.76877,     0.76977,     0.77077,     0.77177,     0.77277,     0.77377,     0.77477,     0.77578,     0.77678,     0.77778,     0.77878,     0.77978,     0.78078,     0.78178,     0.78278,     0.78378,     0.78478,     0.78579,     0.78679,     0.78779,     0.78879,     0.78979,     0.79079,     0.79179,\n",
              "           0.79279,     0.79379,     0.79479,      0.7958,      0.7968,      0.7978,      0.7988,      0.7998,      0.8008,      0.8018,      0.8028,      0.8038,      0.8048,     0.80581,     0.80681,     0.80781,     0.80881,     0.80981,     0.81081,     0.81181,     0.81281,     0.81381,     0.81481,     0.81582,\n",
              "           0.81682,     0.81782,     0.81882,     0.81982,     0.82082,     0.82182,     0.82282,     0.82382,     0.82482,     0.82583,     0.82683,     0.82783,     0.82883,     0.82983,     0.83083,     0.83183,     0.83283,     0.83383,     0.83483,     0.83584,     0.83684,     0.83784,     0.83884,     0.83984,\n",
              "           0.84084,     0.84184,     0.84284,     0.84384,     0.84484,     0.84585,     0.84685,     0.84785,     0.84885,     0.84985,     0.85085,     0.85185,     0.85285,     0.85385,     0.85485,     0.85586,     0.85686,     0.85786,     0.85886,     0.85986,     0.86086,     0.86186,     0.86286,     0.86386,\n",
              "           0.86486,     0.86587,     0.86687,     0.86787,     0.86887,     0.86987,     0.87087,     0.87187,     0.87287,     0.87387,     0.87487,     0.87588,     0.87688,     0.87788,     0.87888,     0.87988,     0.88088,     0.88188,     0.88288,     0.88388,     0.88488,     0.88589,     0.88689,     0.88789,\n",
              "           0.88889,     0.88989,     0.89089,     0.89189,     0.89289,     0.89389,     0.89489,      0.8959,      0.8969,      0.8979,      0.8989,      0.8999,      0.9009,      0.9019,      0.9029,      0.9039,      0.9049,     0.90591,     0.90691,     0.90791,     0.90891,     0.90991,     0.91091,     0.91191,\n",
              "           0.91291,     0.91391,     0.91491,     0.91592,     0.91692,     0.91792,     0.91892,     0.91992,     0.92092,     0.92192,     0.92292,     0.92392,     0.92492,     0.92593,     0.92693,     0.92793,     0.92893,     0.92993,     0.93093,     0.93193,     0.93293,     0.93393,     0.93493,     0.93594,\n",
              "           0.93694,     0.93794,     0.93894,     0.93994,     0.94094,     0.94194,     0.94294,     0.94394,     0.94494,     0.94595,     0.94695,     0.94795,     0.94895,     0.94995,     0.95095,     0.95195,     0.95295,     0.95395,     0.95495,     0.95596,     0.95696,     0.95796,     0.95896,     0.95996,\n",
              "           0.96096,     0.96196,     0.96296,     0.96396,     0.96496,     0.96597,     0.96697,     0.96797,     0.96897,     0.96997,     0.97097,     0.97197,     0.97297,     0.97397,     0.97497,     0.97598,     0.97698,     0.97798,     0.97898,     0.97998,     0.98098,     0.98198,     0.98298,     0.98398,\n",
              "           0.98498,     0.98599,     0.98699,     0.98799,     0.98899,     0.98999,     0.99099,     0.99199,     0.99299,     0.99399,     0.99499,       0.996,       0.997,       0.998,       0.999,           1]), array([[          1,           1,           1, ...,           0,           0,           0],\n",
              "       [    0.98765,     0.98765,     0.98148, ...,           0,           0,           0],\n",
              "       [          1,           1,           1, ...,           0,           0,           0],\n",
              "       ...,\n",
              "       [    0.99029,     0.99029,     0.98058, ...,           0,           0,           0],\n",
              "       [    0.88274,     0.88274,     0.87296, ...,           0,           0,           0],\n",
              "       [    0.96599,     0.96599,     0.95918, ...,           0,           0,           0]]), 'Confidence', 'Recall']]\n",
              "fitness: 0.6900049620933104\n",
              "keys: ['metrics/precision(B)', 'metrics/recall(B)', 'metrics/mAP50(B)', 'metrics/mAP50-95(B)']\n",
              "maps: array([    0.81331,     0.83987,     0.78431,     0.66007,     0.70158,     0.88365,     0.66083,     0.65182,      0.7534,     0.62807,     0.31939,     0.50312,     0.74155,     0.72626,     0.47659,     0.80078,     0.70512,     0.72746,     0.54385,     0.52969])\n",
              "names: {0: 'annona', 1: 'apple', 2: 'banana', 3: 'beet', 4: 'bell_pepper', 5: 'cabbage', 6: 'carrot', 7: 'cucumber', 8: 'egg', 9: 'eggplant', 10: 'garlic', 11: 'guava', 12: 'onion', 13: 'orange', 14: 'pear', 15: 'pineapple', 16: 'pitaya', 17: 'potato', 18: 'tomato', 19: 'zucchini'}\n",
              "plot: True\n",
              "results_dict: {'metrics/precision(B)': 0.8054734981877514, 'metrics/recall(B)': 0.8174783123042291, 'metrics/mAP50(B)': 0.847212205239854, 'metrics/mAP50-95(B)': 0.6725374906325834, 'fitness': 0.6900049620933104}\n",
              "save_dir: PosixPath('runs/detect/train3')\n",
              "speed: {'preprocess': 0.27284310364268455, 'inference': 2.4707236147056806, 'loss': 0.0005661629201280973, 'postprocess': 2.2314773918172643}\n",
              "task: 'detect'"
            ]
          },
          "metadata": {},
          "execution_count": 5
        }
      ]
    },
    {
      "cell_type": "code",
      "source": [
        "results = model.val()  # Validate the model\n",
        "print(results)\n"
      ],
      "metadata": {
        "colab": {
          "base_uri": "https://localhost:8080/"
        },
        "id": "tF6PLAHneF7Y",
        "outputId": "505c3cfa-0dee-4eff-82b9-23a3f5da7c1a"
      },
      "execution_count": null,
      "outputs": [
        {
          "output_type": "stream",
          "name": "stdout",
          "text": [
            "Ultralytics YOLOv8.2.99 🚀 Python-3.10.12 torch-2.4.1+cu121 CUDA:0 (Tesla T4, 15102MiB)\n",
            "Model summary (fused): 168 layers, 3,009,548 parameters, 0 gradients, 8.1 GFLOPs\n"
          ]
        },
        {
          "output_type": "stream",
          "name": "stderr",
          "text": [
            "\u001b[34m\u001b[1mval: \u001b[0mScanning /content/food-1/valid/labels.cache... 734 images, 7 backgrounds, 0 corrupt: 100%|██████████| 734/734 [00:00<?, ?it/s]"
          ]
        },
        {
          "output_type": "stream",
          "name": "stdout",
          "text": [
            "WARNING ⚠️ Box and segment counts should be equal, but got len(segments) = 83, len(boxes) = 3938. To resolve this only boxes will be used and all segments will be removed. To avoid this please supply either a detect or segment dataset, not a detect-segment mixed dataset.\n"
          ]
        },
        {
          "output_type": "stream",
          "name": "stderr",
          "text": [
            "\n",
            "os.fork() was called. os.fork() is incompatible with multithreaded code, and JAX is multithreaded, so this will likely lead to a deadlock.\n",
            "                 Class     Images  Instances      Box(P          R      mAP50  mAP50-95): 100%|██████████| 46/46 [00:09<00:00,  4.81it/s]\n"
          ]
        },
        {
          "output_type": "stream",
          "name": "stdout",
          "text": [
            "                   all        734       3938      0.803      0.818      0.847      0.673\n",
            "                annona        153        153      0.987      0.964      0.994      0.815\n",
            "                 apple        124        162          1      0.929       0.98      0.838\n",
            "                banana        210        321      0.989      0.997      0.987      0.785\n",
            "                  beet         38         99      0.836      0.879      0.918      0.661\n",
            "           bell_pepper        147        345      0.786      0.901      0.921        0.7\n",
            "               cabbage        149        227      0.909      0.956      0.962       0.88\n",
            "                carrot        150        321      0.816      0.844      0.851      0.662\n",
            "              cucumber         81        257      0.711      0.817      0.842      0.651\n",
            "                   egg        131        223      0.882       0.94      0.947      0.753\n",
            "              eggplant         92        249      0.835      0.823      0.853      0.629\n",
            "                garlic         21         24      0.765      0.408       0.49      0.323\n",
            "                 guava         90        108      0.581      0.167      0.623      0.502\n",
            "                 onion        192        346      0.806      0.887      0.902      0.744\n",
            "                orange        107        107      0.757      0.738       0.81      0.727\n",
            "                  pear         79         80        0.4      0.807      0.537      0.482\n",
            "             pineapple        121        121      0.952      0.984      0.974      0.801\n",
            "                pitaya        135        135      0.966      0.985      0.976      0.702\n",
            "                potato         73        206      0.805      0.879       0.91      0.729\n",
            "                tomato        106        307      0.718      0.694       0.73      0.544\n",
            "              zucchini         97        147      0.563      0.754      0.733      0.528\n",
            "Speed: 0.3ms preprocess, 3.9ms inference, 0.0ms loss, 2.0ms postprocess per image\n",
            "Results saved to \u001b[1mruns/detect/train32\u001b[0m\n",
            "ultralytics.utils.metrics.DetMetrics object with attributes:\n",
            "\n",
            "ap_class_index: array([ 0,  1,  2,  3,  4,  5,  6,  7,  8,  9, 10, 11, 12, 13, 14, 15, 16, 17, 18, 19])\n",
            "box: ultralytics.utils.metrics.Metric object\n",
            "confusion_matrix: <ultralytics.utils.metrics.ConfusionMatrix object at 0x783143587df0>\n",
            "curves: ['Precision-Recall(B)', 'F1-Confidence(B)', 'Precision-Confidence(B)', 'Recall-Confidence(B)']\n",
            "curves_results: [[array([          0,    0.001001,    0.002002,    0.003003,    0.004004,    0.005005,    0.006006,    0.007007,    0.008008,    0.009009,     0.01001,    0.011011,    0.012012,    0.013013,    0.014014,    0.015015,    0.016016,    0.017017,    0.018018,    0.019019,     0.02002,    0.021021,    0.022022,    0.023023,\n",
            "          0.024024,    0.025025,    0.026026,    0.027027,    0.028028,    0.029029,     0.03003,    0.031031,    0.032032,    0.033033,    0.034034,    0.035035,    0.036036,    0.037037,    0.038038,    0.039039,     0.04004,    0.041041,    0.042042,    0.043043,    0.044044,    0.045045,    0.046046,    0.047047,\n",
            "          0.048048,    0.049049,     0.05005,    0.051051,    0.052052,    0.053053,    0.054054,    0.055055,    0.056056,    0.057057,    0.058058,    0.059059,     0.06006,    0.061061,    0.062062,    0.063063,    0.064064,    0.065065,    0.066066,    0.067067,    0.068068,    0.069069,     0.07007,    0.071071,\n",
            "          0.072072,    0.073073,    0.074074,    0.075075,    0.076076,    0.077077,    0.078078,    0.079079,     0.08008,    0.081081,    0.082082,    0.083083,    0.084084,    0.085085,    0.086086,    0.087087,    0.088088,    0.089089,     0.09009,    0.091091,    0.092092,    0.093093,    0.094094,    0.095095,\n",
            "          0.096096,    0.097097,    0.098098,    0.099099,      0.1001,      0.1011,      0.1021,      0.1031,      0.1041,     0.10511,     0.10611,     0.10711,     0.10811,     0.10911,     0.11011,     0.11111,     0.11211,     0.11311,     0.11411,     0.11512,     0.11612,     0.11712,     0.11812,     0.11912,\n",
            "           0.12012,     0.12112,     0.12212,     0.12312,     0.12412,     0.12513,     0.12613,     0.12713,     0.12813,     0.12913,     0.13013,     0.13113,     0.13213,     0.13313,     0.13413,     0.13514,     0.13614,     0.13714,     0.13814,     0.13914,     0.14014,     0.14114,     0.14214,     0.14314,\n",
            "           0.14414,     0.14515,     0.14615,     0.14715,     0.14815,     0.14915,     0.15015,     0.15115,     0.15215,     0.15315,     0.15415,     0.15516,     0.15616,     0.15716,     0.15816,     0.15916,     0.16016,     0.16116,     0.16216,     0.16316,     0.16416,     0.16517,     0.16617,     0.16717,\n",
            "           0.16817,     0.16917,     0.17017,     0.17117,     0.17217,     0.17317,     0.17417,     0.17518,     0.17618,     0.17718,     0.17818,     0.17918,     0.18018,     0.18118,     0.18218,     0.18318,     0.18418,     0.18519,     0.18619,     0.18719,     0.18819,     0.18919,     0.19019,     0.19119,\n",
            "           0.19219,     0.19319,     0.19419,      0.1952,      0.1962,      0.1972,      0.1982,      0.1992,      0.2002,      0.2012,      0.2022,      0.2032,      0.2042,     0.20521,     0.20621,     0.20721,     0.20821,     0.20921,     0.21021,     0.21121,     0.21221,     0.21321,     0.21421,     0.21522,\n",
            "           0.21622,     0.21722,     0.21822,     0.21922,     0.22022,     0.22122,     0.22222,     0.22322,     0.22422,     0.22523,     0.22623,     0.22723,     0.22823,     0.22923,     0.23023,     0.23123,     0.23223,     0.23323,     0.23423,     0.23524,     0.23624,     0.23724,     0.23824,     0.23924,\n",
            "           0.24024,     0.24124,     0.24224,     0.24324,     0.24424,     0.24525,     0.24625,     0.24725,     0.24825,     0.24925,     0.25025,     0.25125,     0.25225,     0.25325,     0.25425,     0.25526,     0.25626,     0.25726,     0.25826,     0.25926,     0.26026,     0.26126,     0.26226,     0.26326,\n",
            "           0.26426,     0.26527,     0.26627,     0.26727,     0.26827,     0.26927,     0.27027,     0.27127,     0.27227,     0.27327,     0.27427,     0.27528,     0.27628,     0.27728,     0.27828,     0.27928,     0.28028,     0.28128,     0.28228,     0.28328,     0.28428,     0.28529,     0.28629,     0.28729,\n",
            "           0.28829,     0.28929,     0.29029,     0.29129,     0.29229,     0.29329,     0.29429,      0.2953,      0.2963,      0.2973,      0.2983,      0.2993,      0.3003,      0.3013,      0.3023,      0.3033,      0.3043,     0.30531,     0.30631,     0.30731,     0.30831,     0.30931,     0.31031,     0.31131,\n",
            "           0.31231,     0.31331,     0.31431,     0.31532,     0.31632,     0.31732,     0.31832,     0.31932,     0.32032,     0.32132,     0.32232,     0.32332,     0.32432,     0.32533,     0.32633,     0.32733,     0.32833,     0.32933,     0.33033,     0.33133,     0.33233,     0.33333,     0.33433,     0.33534,\n",
            "           0.33634,     0.33734,     0.33834,     0.33934,     0.34034,     0.34134,     0.34234,     0.34334,     0.34434,     0.34535,     0.34635,     0.34735,     0.34835,     0.34935,     0.35035,     0.35135,     0.35235,     0.35335,     0.35435,     0.35536,     0.35636,     0.35736,     0.35836,     0.35936,\n",
            "           0.36036,     0.36136,     0.36236,     0.36336,     0.36436,     0.36537,     0.36637,     0.36737,     0.36837,     0.36937,     0.37037,     0.37137,     0.37237,     0.37337,     0.37437,     0.37538,     0.37638,     0.37738,     0.37838,     0.37938,     0.38038,     0.38138,     0.38238,     0.38338,\n",
            "           0.38438,     0.38539,     0.38639,     0.38739,     0.38839,     0.38939,     0.39039,     0.39139,     0.39239,     0.39339,     0.39439,      0.3954,      0.3964,      0.3974,      0.3984,      0.3994,      0.4004,      0.4014,      0.4024,      0.4034,      0.4044,     0.40541,     0.40641,     0.40741,\n",
            "           0.40841,     0.40941,     0.41041,     0.41141,     0.41241,     0.41341,     0.41441,     0.41542,     0.41642,     0.41742,     0.41842,     0.41942,     0.42042,     0.42142,     0.42242,     0.42342,     0.42442,     0.42543,     0.42643,     0.42743,     0.42843,     0.42943,     0.43043,     0.43143,\n",
            "           0.43243,     0.43343,     0.43443,     0.43544,     0.43644,     0.43744,     0.43844,     0.43944,     0.44044,     0.44144,     0.44244,     0.44344,     0.44444,     0.44545,     0.44645,     0.44745,     0.44845,     0.44945,     0.45045,     0.45145,     0.45245,     0.45345,     0.45445,     0.45546,\n",
            "           0.45646,     0.45746,     0.45846,     0.45946,     0.46046,     0.46146,     0.46246,     0.46346,     0.46446,     0.46547,     0.46647,     0.46747,     0.46847,     0.46947,     0.47047,     0.47147,     0.47247,     0.47347,     0.47447,     0.47548,     0.47648,     0.47748,     0.47848,     0.47948,\n",
            "           0.48048,     0.48148,     0.48248,     0.48348,     0.48448,     0.48549,     0.48649,     0.48749,     0.48849,     0.48949,     0.49049,     0.49149,     0.49249,     0.49349,     0.49449,      0.4955,      0.4965,      0.4975,      0.4985,      0.4995,      0.5005,      0.5015,      0.5025,      0.5035,\n",
            "            0.5045,     0.50551,     0.50651,     0.50751,     0.50851,     0.50951,     0.51051,     0.51151,     0.51251,     0.51351,     0.51451,     0.51552,     0.51652,     0.51752,     0.51852,     0.51952,     0.52052,     0.52152,     0.52252,     0.52352,     0.52452,     0.52553,     0.52653,     0.52753,\n",
            "           0.52853,     0.52953,     0.53053,     0.53153,     0.53253,     0.53353,     0.53453,     0.53554,     0.53654,     0.53754,     0.53854,     0.53954,     0.54054,     0.54154,     0.54254,     0.54354,     0.54454,     0.54555,     0.54655,     0.54755,     0.54855,     0.54955,     0.55055,     0.55155,\n",
            "           0.55255,     0.55355,     0.55455,     0.55556,     0.55656,     0.55756,     0.55856,     0.55956,     0.56056,     0.56156,     0.56256,     0.56356,     0.56456,     0.56557,     0.56657,     0.56757,     0.56857,     0.56957,     0.57057,     0.57157,     0.57257,     0.57357,     0.57457,     0.57558,\n",
            "           0.57658,     0.57758,     0.57858,     0.57958,     0.58058,     0.58158,     0.58258,     0.58358,     0.58458,     0.58559,     0.58659,     0.58759,     0.58859,     0.58959,     0.59059,     0.59159,     0.59259,     0.59359,     0.59459,      0.5956,      0.5966,      0.5976,      0.5986,      0.5996,\n",
            "            0.6006,      0.6016,      0.6026,      0.6036,      0.6046,     0.60561,     0.60661,     0.60761,     0.60861,     0.60961,     0.61061,     0.61161,     0.61261,     0.61361,     0.61461,     0.61562,     0.61662,     0.61762,     0.61862,     0.61962,     0.62062,     0.62162,     0.62262,     0.62362,\n",
            "           0.62462,     0.62563,     0.62663,     0.62763,     0.62863,     0.62963,     0.63063,     0.63163,     0.63263,     0.63363,     0.63463,     0.63564,     0.63664,     0.63764,     0.63864,     0.63964,     0.64064,     0.64164,     0.64264,     0.64364,     0.64464,     0.64565,     0.64665,     0.64765,\n",
            "           0.64865,     0.64965,     0.65065,     0.65165,     0.65265,     0.65365,     0.65465,     0.65566,     0.65666,     0.65766,     0.65866,     0.65966,     0.66066,     0.66166,     0.66266,     0.66366,     0.66466,     0.66567,     0.66667,     0.66767,     0.66867,     0.66967,     0.67067,     0.67167,\n",
            "           0.67267,     0.67367,     0.67467,     0.67568,     0.67668,     0.67768,     0.67868,     0.67968,     0.68068,     0.68168,     0.68268,     0.68368,     0.68468,     0.68569,     0.68669,     0.68769,     0.68869,     0.68969,     0.69069,     0.69169,     0.69269,     0.69369,     0.69469,      0.6957,\n",
            "            0.6967,      0.6977,      0.6987,      0.6997,      0.7007,      0.7017,      0.7027,      0.7037,      0.7047,     0.70571,     0.70671,     0.70771,     0.70871,     0.70971,     0.71071,     0.71171,     0.71271,     0.71371,     0.71471,     0.71572,     0.71672,     0.71772,     0.71872,     0.71972,\n",
            "           0.72072,     0.72172,     0.72272,     0.72372,     0.72472,     0.72573,     0.72673,     0.72773,     0.72873,     0.72973,     0.73073,     0.73173,     0.73273,     0.73373,     0.73473,     0.73574,     0.73674,     0.73774,     0.73874,     0.73974,     0.74074,     0.74174,     0.74274,     0.74374,\n",
            "           0.74474,     0.74575,     0.74675,     0.74775,     0.74875,     0.74975,     0.75075,     0.75175,     0.75275,     0.75375,     0.75475,     0.75576,     0.75676,     0.75776,     0.75876,     0.75976,     0.76076,     0.76176,     0.76276,     0.76376,     0.76476,     0.76577,     0.76677,     0.76777,\n",
            "           0.76877,     0.76977,     0.77077,     0.77177,     0.77277,     0.77377,     0.77477,     0.77578,     0.77678,     0.77778,     0.77878,     0.77978,     0.78078,     0.78178,     0.78278,     0.78378,     0.78478,     0.78579,     0.78679,     0.78779,     0.78879,     0.78979,     0.79079,     0.79179,\n",
            "           0.79279,     0.79379,     0.79479,      0.7958,      0.7968,      0.7978,      0.7988,      0.7998,      0.8008,      0.8018,      0.8028,      0.8038,      0.8048,     0.80581,     0.80681,     0.80781,     0.80881,     0.80981,     0.81081,     0.81181,     0.81281,     0.81381,     0.81481,     0.81582,\n",
            "           0.81682,     0.81782,     0.81882,     0.81982,     0.82082,     0.82182,     0.82282,     0.82382,     0.82482,     0.82583,     0.82683,     0.82783,     0.82883,     0.82983,     0.83083,     0.83183,     0.83283,     0.83383,     0.83483,     0.83584,     0.83684,     0.83784,     0.83884,     0.83984,\n",
            "           0.84084,     0.84184,     0.84284,     0.84384,     0.84484,     0.84585,     0.84685,     0.84785,     0.84885,     0.84985,     0.85085,     0.85185,     0.85285,     0.85385,     0.85485,     0.85586,     0.85686,     0.85786,     0.85886,     0.85986,     0.86086,     0.86186,     0.86286,     0.86386,\n",
            "           0.86486,     0.86587,     0.86687,     0.86787,     0.86887,     0.86987,     0.87087,     0.87187,     0.87287,     0.87387,     0.87487,     0.87588,     0.87688,     0.87788,     0.87888,     0.87988,     0.88088,     0.88188,     0.88288,     0.88388,     0.88488,     0.88589,     0.88689,     0.88789,\n",
            "           0.88889,     0.88989,     0.89089,     0.89189,     0.89289,     0.89389,     0.89489,      0.8959,      0.8969,      0.8979,      0.8989,      0.8999,      0.9009,      0.9019,      0.9029,      0.9039,      0.9049,     0.90591,     0.90691,     0.90791,     0.90891,     0.90991,     0.91091,     0.91191,\n",
            "           0.91291,     0.91391,     0.91491,     0.91592,     0.91692,     0.91792,     0.91892,     0.91992,     0.92092,     0.92192,     0.92292,     0.92392,     0.92492,     0.92593,     0.92693,     0.92793,     0.92893,     0.92993,     0.93093,     0.93193,     0.93293,     0.93393,     0.93493,     0.93594,\n",
            "           0.93694,     0.93794,     0.93894,     0.93994,     0.94094,     0.94194,     0.94294,     0.94394,     0.94494,     0.94595,     0.94695,     0.94795,     0.94895,     0.94995,     0.95095,     0.95195,     0.95295,     0.95395,     0.95495,     0.95596,     0.95696,     0.95796,     0.95896,     0.95996,\n",
            "           0.96096,     0.96196,     0.96296,     0.96396,     0.96496,     0.96597,     0.96697,     0.96797,     0.96897,     0.96997,     0.97097,     0.97197,     0.97297,     0.97397,     0.97497,     0.97598,     0.97698,     0.97798,     0.97898,     0.97998,     0.98098,     0.98198,     0.98298,     0.98398,\n",
            "           0.98498,     0.98599,     0.98699,     0.98799,     0.98899,     0.98999,     0.99099,     0.99199,     0.99299,     0.99399,     0.99499,       0.996,       0.997,       0.998,       0.999,           1]), array([[          1,           1,           1, ...,      0.9871,      0.9871,           0],\n",
            "       [          1,           1,           1, ...,    0.045599,      0.0228,           0],\n",
            "       [          1,           1,           1, ...,     0.77913,     0.77913,           0],\n",
            "       ...,\n",
            "       [          1,           1,           1, ...,    0.007882,    0.003941,           0],\n",
            "       [          1,           1,           1, ...,  0.00051828,  0.00025914,           0],\n",
            "       [          1,           1,           1, ...,  0.00095881,  0.00047941,           0]]), 'Recall', 'Precision'], [array([          0,    0.001001,    0.002002,    0.003003,    0.004004,    0.005005,    0.006006,    0.007007,    0.008008,    0.009009,     0.01001,    0.011011,    0.012012,    0.013013,    0.014014,    0.015015,    0.016016,    0.017017,    0.018018,    0.019019,     0.02002,    0.021021,    0.022022,    0.023023,\n",
            "          0.024024,    0.025025,    0.026026,    0.027027,    0.028028,    0.029029,     0.03003,    0.031031,    0.032032,    0.033033,    0.034034,    0.035035,    0.036036,    0.037037,    0.038038,    0.039039,     0.04004,    0.041041,    0.042042,    0.043043,    0.044044,    0.045045,    0.046046,    0.047047,\n",
            "          0.048048,    0.049049,     0.05005,    0.051051,    0.052052,    0.053053,    0.054054,    0.055055,    0.056056,    0.057057,    0.058058,    0.059059,     0.06006,    0.061061,    0.062062,    0.063063,    0.064064,    0.065065,    0.066066,    0.067067,    0.068068,    0.069069,     0.07007,    0.071071,\n",
            "          0.072072,    0.073073,    0.074074,    0.075075,    0.076076,    0.077077,    0.078078,    0.079079,     0.08008,    0.081081,    0.082082,    0.083083,    0.084084,    0.085085,    0.086086,    0.087087,    0.088088,    0.089089,     0.09009,    0.091091,    0.092092,    0.093093,    0.094094,    0.095095,\n",
            "          0.096096,    0.097097,    0.098098,    0.099099,      0.1001,      0.1011,      0.1021,      0.1031,      0.1041,     0.10511,     0.10611,     0.10711,     0.10811,     0.10911,     0.11011,     0.11111,     0.11211,     0.11311,     0.11411,     0.11512,     0.11612,     0.11712,     0.11812,     0.11912,\n",
            "           0.12012,     0.12112,     0.12212,     0.12312,     0.12412,     0.12513,     0.12613,     0.12713,     0.12813,     0.12913,     0.13013,     0.13113,     0.13213,     0.13313,     0.13413,     0.13514,     0.13614,     0.13714,     0.13814,     0.13914,     0.14014,     0.14114,     0.14214,     0.14314,\n",
            "           0.14414,     0.14515,     0.14615,     0.14715,     0.14815,     0.14915,     0.15015,     0.15115,     0.15215,     0.15315,     0.15415,     0.15516,     0.15616,     0.15716,     0.15816,     0.15916,     0.16016,     0.16116,     0.16216,     0.16316,     0.16416,     0.16517,     0.16617,     0.16717,\n",
            "           0.16817,     0.16917,     0.17017,     0.17117,     0.17217,     0.17317,     0.17417,     0.17518,     0.17618,     0.17718,     0.17818,     0.17918,     0.18018,     0.18118,     0.18218,     0.18318,     0.18418,     0.18519,     0.18619,     0.18719,     0.18819,     0.18919,     0.19019,     0.19119,\n",
            "           0.19219,     0.19319,     0.19419,      0.1952,      0.1962,      0.1972,      0.1982,      0.1992,      0.2002,      0.2012,      0.2022,      0.2032,      0.2042,     0.20521,     0.20621,     0.20721,     0.20821,     0.20921,     0.21021,     0.21121,     0.21221,     0.21321,     0.21421,     0.21522,\n",
            "           0.21622,     0.21722,     0.21822,     0.21922,     0.22022,     0.22122,     0.22222,     0.22322,     0.22422,     0.22523,     0.22623,     0.22723,     0.22823,     0.22923,     0.23023,     0.23123,     0.23223,     0.23323,     0.23423,     0.23524,     0.23624,     0.23724,     0.23824,     0.23924,\n",
            "           0.24024,     0.24124,     0.24224,     0.24324,     0.24424,     0.24525,     0.24625,     0.24725,     0.24825,     0.24925,     0.25025,     0.25125,     0.25225,     0.25325,     0.25425,     0.25526,     0.25626,     0.25726,     0.25826,     0.25926,     0.26026,     0.26126,     0.26226,     0.26326,\n",
            "           0.26426,     0.26527,     0.26627,     0.26727,     0.26827,     0.26927,     0.27027,     0.27127,     0.27227,     0.27327,     0.27427,     0.27528,     0.27628,     0.27728,     0.27828,     0.27928,     0.28028,     0.28128,     0.28228,     0.28328,     0.28428,     0.28529,     0.28629,     0.28729,\n",
            "           0.28829,     0.28929,     0.29029,     0.29129,     0.29229,     0.29329,     0.29429,      0.2953,      0.2963,      0.2973,      0.2983,      0.2993,      0.3003,      0.3013,      0.3023,      0.3033,      0.3043,     0.30531,     0.30631,     0.30731,     0.30831,     0.30931,     0.31031,     0.31131,\n",
            "           0.31231,     0.31331,     0.31431,     0.31532,     0.31632,     0.31732,     0.31832,     0.31932,     0.32032,     0.32132,     0.32232,     0.32332,     0.32432,     0.32533,     0.32633,     0.32733,     0.32833,     0.32933,     0.33033,     0.33133,     0.33233,     0.33333,     0.33433,     0.33534,\n",
            "           0.33634,     0.33734,     0.33834,     0.33934,     0.34034,     0.34134,     0.34234,     0.34334,     0.34434,     0.34535,     0.34635,     0.34735,     0.34835,     0.34935,     0.35035,     0.35135,     0.35235,     0.35335,     0.35435,     0.35536,     0.35636,     0.35736,     0.35836,     0.35936,\n",
            "           0.36036,     0.36136,     0.36236,     0.36336,     0.36436,     0.36537,     0.36637,     0.36737,     0.36837,     0.36937,     0.37037,     0.37137,     0.37237,     0.37337,     0.37437,     0.37538,     0.37638,     0.37738,     0.37838,     0.37938,     0.38038,     0.38138,     0.38238,     0.38338,\n",
            "           0.38438,     0.38539,     0.38639,     0.38739,     0.38839,     0.38939,     0.39039,     0.39139,     0.39239,     0.39339,     0.39439,      0.3954,      0.3964,      0.3974,      0.3984,      0.3994,      0.4004,      0.4014,      0.4024,      0.4034,      0.4044,     0.40541,     0.40641,     0.40741,\n",
            "           0.40841,     0.40941,     0.41041,     0.41141,     0.41241,     0.41341,     0.41441,     0.41542,     0.41642,     0.41742,     0.41842,     0.41942,     0.42042,     0.42142,     0.42242,     0.42342,     0.42442,     0.42543,     0.42643,     0.42743,     0.42843,     0.42943,     0.43043,     0.43143,\n",
            "           0.43243,     0.43343,     0.43443,     0.43544,     0.43644,     0.43744,     0.43844,     0.43944,     0.44044,     0.44144,     0.44244,     0.44344,     0.44444,     0.44545,     0.44645,     0.44745,     0.44845,     0.44945,     0.45045,     0.45145,     0.45245,     0.45345,     0.45445,     0.45546,\n",
            "           0.45646,     0.45746,     0.45846,     0.45946,     0.46046,     0.46146,     0.46246,     0.46346,     0.46446,     0.46547,     0.46647,     0.46747,     0.46847,     0.46947,     0.47047,     0.47147,     0.47247,     0.47347,     0.47447,     0.47548,     0.47648,     0.47748,     0.47848,     0.47948,\n",
            "           0.48048,     0.48148,     0.48248,     0.48348,     0.48448,     0.48549,     0.48649,     0.48749,     0.48849,     0.48949,     0.49049,     0.49149,     0.49249,     0.49349,     0.49449,      0.4955,      0.4965,      0.4975,      0.4985,      0.4995,      0.5005,      0.5015,      0.5025,      0.5035,\n",
            "            0.5045,     0.50551,     0.50651,     0.50751,     0.50851,     0.50951,     0.51051,     0.51151,     0.51251,     0.51351,     0.51451,     0.51552,     0.51652,     0.51752,     0.51852,     0.51952,     0.52052,     0.52152,     0.52252,     0.52352,     0.52452,     0.52553,     0.52653,     0.52753,\n",
            "           0.52853,     0.52953,     0.53053,     0.53153,     0.53253,     0.53353,     0.53453,     0.53554,     0.53654,     0.53754,     0.53854,     0.53954,     0.54054,     0.54154,     0.54254,     0.54354,     0.54454,     0.54555,     0.54655,     0.54755,     0.54855,     0.54955,     0.55055,     0.55155,\n",
            "           0.55255,     0.55355,     0.55455,     0.55556,     0.55656,     0.55756,     0.55856,     0.55956,     0.56056,     0.56156,     0.56256,     0.56356,     0.56456,     0.56557,     0.56657,     0.56757,     0.56857,     0.56957,     0.57057,     0.57157,     0.57257,     0.57357,     0.57457,     0.57558,\n",
            "           0.57658,     0.57758,     0.57858,     0.57958,     0.58058,     0.58158,     0.58258,     0.58358,     0.58458,     0.58559,     0.58659,     0.58759,     0.58859,     0.58959,     0.59059,     0.59159,     0.59259,     0.59359,     0.59459,      0.5956,      0.5966,      0.5976,      0.5986,      0.5996,\n",
            "            0.6006,      0.6016,      0.6026,      0.6036,      0.6046,     0.60561,     0.60661,     0.60761,     0.60861,     0.60961,     0.61061,     0.61161,     0.61261,     0.61361,     0.61461,     0.61562,     0.61662,     0.61762,     0.61862,     0.61962,     0.62062,     0.62162,     0.62262,     0.62362,\n",
            "           0.62462,     0.62563,     0.62663,     0.62763,     0.62863,     0.62963,     0.63063,     0.63163,     0.63263,     0.63363,     0.63463,     0.63564,     0.63664,     0.63764,     0.63864,     0.63964,     0.64064,     0.64164,     0.64264,     0.64364,     0.64464,     0.64565,     0.64665,     0.64765,\n",
            "           0.64865,     0.64965,     0.65065,     0.65165,     0.65265,     0.65365,     0.65465,     0.65566,     0.65666,     0.65766,     0.65866,     0.65966,     0.66066,     0.66166,     0.66266,     0.66366,     0.66466,     0.66567,     0.66667,     0.66767,     0.66867,     0.66967,     0.67067,     0.67167,\n",
            "           0.67267,     0.67367,     0.67467,     0.67568,     0.67668,     0.67768,     0.67868,     0.67968,     0.68068,     0.68168,     0.68268,     0.68368,     0.68468,     0.68569,     0.68669,     0.68769,     0.68869,     0.68969,     0.69069,     0.69169,     0.69269,     0.69369,     0.69469,      0.6957,\n",
            "            0.6967,      0.6977,      0.6987,      0.6997,      0.7007,      0.7017,      0.7027,      0.7037,      0.7047,     0.70571,     0.70671,     0.70771,     0.70871,     0.70971,     0.71071,     0.71171,     0.71271,     0.71371,     0.71471,     0.71572,     0.71672,     0.71772,     0.71872,     0.71972,\n",
            "           0.72072,     0.72172,     0.72272,     0.72372,     0.72472,     0.72573,     0.72673,     0.72773,     0.72873,     0.72973,     0.73073,     0.73173,     0.73273,     0.73373,     0.73473,     0.73574,     0.73674,     0.73774,     0.73874,     0.73974,     0.74074,     0.74174,     0.74274,     0.74374,\n",
            "           0.74474,     0.74575,     0.74675,     0.74775,     0.74875,     0.74975,     0.75075,     0.75175,     0.75275,     0.75375,     0.75475,     0.75576,     0.75676,     0.75776,     0.75876,     0.75976,     0.76076,     0.76176,     0.76276,     0.76376,     0.76476,     0.76577,     0.76677,     0.76777,\n",
            "           0.76877,     0.76977,     0.77077,     0.77177,     0.77277,     0.77377,     0.77477,     0.77578,     0.77678,     0.77778,     0.77878,     0.77978,     0.78078,     0.78178,     0.78278,     0.78378,     0.78478,     0.78579,     0.78679,     0.78779,     0.78879,     0.78979,     0.79079,     0.79179,\n",
            "           0.79279,     0.79379,     0.79479,      0.7958,      0.7968,      0.7978,      0.7988,      0.7998,      0.8008,      0.8018,      0.8028,      0.8038,      0.8048,     0.80581,     0.80681,     0.80781,     0.80881,     0.80981,     0.81081,     0.81181,     0.81281,     0.81381,     0.81481,     0.81582,\n",
            "           0.81682,     0.81782,     0.81882,     0.81982,     0.82082,     0.82182,     0.82282,     0.82382,     0.82482,     0.82583,     0.82683,     0.82783,     0.82883,     0.82983,     0.83083,     0.83183,     0.83283,     0.83383,     0.83483,     0.83584,     0.83684,     0.83784,     0.83884,     0.83984,\n",
            "           0.84084,     0.84184,     0.84284,     0.84384,     0.84484,     0.84585,     0.84685,     0.84785,     0.84885,     0.84985,     0.85085,     0.85185,     0.85285,     0.85385,     0.85485,     0.85586,     0.85686,     0.85786,     0.85886,     0.85986,     0.86086,     0.86186,     0.86286,     0.86386,\n",
            "           0.86486,     0.86587,     0.86687,     0.86787,     0.86887,     0.86987,     0.87087,     0.87187,     0.87287,     0.87387,     0.87487,     0.87588,     0.87688,     0.87788,     0.87888,     0.87988,     0.88088,     0.88188,     0.88288,     0.88388,     0.88488,     0.88589,     0.88689,     0.88789,\n",
            "           0.88889,     0.88989,     0.89089,     0.89189,     0.89289,     0.89389,     0.89489,      0.8959,      0.8969,      0.8979,      0.8989,      0.8999,      0.9009,      0.9019,      0.9029,      0.9039,      0.9049,     0.90591,     0.90691,     0.90791,     0.90891,     0.90991,     0.91091,     0.91191,\n",
            "           0.91291,     0.91391,     0.91491,     0.91592,     0.91692,     0.91792,     0.91892,     0.91992,     0.92092,     0.92192,     0.92292,     0.92392,     0.92492,     0.92593,     0.92693,     0.92793,     0.92893,     0.92993,     0.93093,     0.93193,     0.93293,     0.93393,     0.93493,     0.93594,\n",
            "           0.93694,     0.93794,     0.93894,     0.93994,     0.94094,     0.94194,     0.94294,     0.94394,     0.94494,     0.94595,     0.94695,     0.94795,     0.94895,     0.94995,     0.95095,     0.95195,     0.95295,     0.95395,     0.95495,     0.95596,     0.95696,     0.95796,     0.95896,     0.95996,\n",
            "           0.96096,     0.96196,     0.96296,     0.96396,     0.96496,     0.96597,     0.96697,     0.96797,     0.96897,     0.96997,     0.97097,     0.97197,     0.97297,     0.97397,     0.97497,     0.97598,     0.97698,     0.97798,     0.97898,     0.97998,     0.98098,     0.98198,     0.98298,     0.98398,\n",
            "           0.98498,     0.98599,     0.98699,     0.98799,     0.98899,     0.98999,     0.99099,     0.99199,     0.99299,     0.99399,     0.99499,       0.996,       0.997,       0.998,       0.999,           1]), array([[    0.43714,     0.43714,     0.55787, ...,           0,           0,           0],\n",
            "       [    0.43776,     0.43776,     0.59649, ...,           0,           0,           0],\n",
            "       [    0.21443,     0.21479,     0.44795, ...,           0,           0,           0],\n",
            "       ...,\n",
            "       [   0.073606,    0.073767,     0.15713, ...,           0,           0,           0],\n",
            "       [   0.058696,    0.058741,      0.1207, ...,           0,           0,           0],\n",
            "       [    0.03204,    0.032087,    0.087665, ...,           0,           0,           0]]), 'Confidence', 'F1'], [array([          0,    0.001001,    0.002002,    0.003003,    0.004004,    0.005005,    0.006006,    0.007007,    0.008008,    0.009009,     0.01001,    0.011011,    0.012012,    0.013013,    0.014014,    0.015015,    0.016016,    0.017017,    0.018018,    0.019019,     0.02002,    0.021021,    0.022022,    0.023023,\n",
            "          0.024024,    0.025025,    0.026026,    0.027027,    0.028028,    0.029029,     0.03003,    0.031031,    0.032032,    0.033033,    0.034034,    0.035035,    0.036036,    0.037037,    0.038038,    0.039039,     0.04004,    0.041041,    0.042042,    0.043043,    0.044044,    0.045045,    0.046046,    0.047047,\n",
            "          0.048048,    0.049049,     0.05005,    0.051051,    0.052052,    0.053053,    0.054054,    0.055055,    0.056056,    0.057057,    0.058058,    0.059059,     0.06006,    0.061061,    0.062062,    0.063063,    0.064064,    0.065065,    0.066066,    0.067067,    0.068068,    0.069069,     0.07007,    0.071071,\n",
            "          0.072072,    0.073073,    0.074074,    0.075075,    0.076076,    0.077077,    0.078078,    0.079079,     0.08008,    0.081081,    0.082082,    0.083083,    0.084084,    0.085085,    0.086086,    0.087087,    0.088088,    0.089089,     0.09009,    0.091091,    0.092092,    0.093093,    0.094094,    0.095095,\n",
            "          0.096096,    0.097097,    0.098098,    0.099099,      0.1001,      0.1011,      0.1021,      0.1031,      0.1041,     0.10511,     0.10611,     0.10711,     0.10811,     0.10911,     0.11011,     0.11111,     0.11211,     0.11311,     0.11411,     0.11512,     0.11612,     0.11712,     0.11812,     0.11912,\n",
            "           0.12012,     0.12112,     0.12212,     0.12312,     0.12412,     0.12513,     0.12613,     0.12713,     0.12813,     0.12913,     0.13013,     0.13113,     0.13213,     0.13313,     0.13413,     0.13514,     0.13614,     0.13714,     0.13814,     0.13914,     0.14014,     0.14114,     0.14214,     0.14314,\n",
            "           0.14414,     0.14515,     0.14615,     0.14715,     0.14815,     0.14915,     0.15015,     0.15115,     0.15215,     0.15315,     0.15415,     0.15516,     0.15616,     0.15716,     0.15816,     0.15916,     0.16016,     0.16116,     0.16216,     0.16316,     0.16416,     0.16517,     0.16617,     0.16717,\n",
            "           0.16817,     0.16917,     0.17017,     0.17117,     0.17217,     0.17317,     0.17417,     0.17518,     0.17618,     0.17718,     0.17818,     0.17918,     0.18018,     0.18118,     0.18218,     0.18318,     0.18418,     0.18519,     0.18619,     0.18719,     0.18819,     0.18919,     0.19019,     0.19119,\n",
            "           0.19219,     0.19319,     0.19419,      0.1952,      0.1962,      0.1972,      0.1982,      0.1992,      0.2002,      0.2012,      0.2022,      0.2032,      0.2042,     0.20521,     0.20621,     0.20721,     0.20821,     0.20921,     0.21021,     0.21121,     0.21221,     0.21321,     0.21421,     0.21522,\n",
            "           0.21622,     0.21722,     0.21822,     0.21922,     0.22022,     0.22122,     0.22222,     0.22322,     0.22422,     0.22523,     0.22623,     0.22723,     0.22823,     0.22923,     0.23023,     0.23123,     0.23223,     0.23323,     0.23423,     0.23524,     0.23624,     0.23724,     0.23824,     0.23924,\n",
            "           0.24024,     0.24124,     0.24224,     0.24324,     0.24424,     0.24525,     0.24625,     0.24725,     0.24825,     0.24925,     0.25025,     0.25125,     0.25225,     0.25325,     0.25425,     0.25526,     0.25626,     0.25726,     0.25826,     0.25926,     0.26026,     0.26126,     0.26226,     0.26326,\n",
            "           0.26426,     0.26527,     0.26627,     0.26727,     0.26827,     0.26927,     0.27027,     0.27127,     0.27227,     0.27327,     0.27427,     0.27528,     0.27628,     0.27728,     0.27828,     0.27928,     0.28028,     0.28128,     0.28228,     0.28328,     0.28428,     0.28529,     0.28629,     0.28729,\n",
            "           0.28829,     0.28929,     0.29029,     0.29129,     0.29229,     0.29329,     0.29429,      0.2953,      0.2963,      0.2973,      0.2983,      0.2993,      0.3003,      0.3013,      0.3023,      0.3033,      0.3043,     0.30531,     0.30631,     0.30731,     0.30831,     0.30931,     0.31031,     0.31131,\n",
            "           0.31231,     0.31331,     0.31431,     0.31532,     0.31632,     0.31732,     0.31832,     0.31932,     0.32032,     0.32132,     0.32232,     0.32332,     0.32432,     0.32533,     0.32633,     0.32733,     0.32833,     0.32933,     0.33033,     0.33133,     0.33233,     0.33333,     0.33433,     0.33534,\n",
            "           0.33634,     0.33734,     0.33834,     0.33934,     0.34034,     0.34134,     0.34234,     0.34334,     0.34434,     0.34535,     0.34635,     0.34735,     0.34835,     0.34935,     0.35035,     0.35135,     0.35235,     0.35335,     0.35435,     0.35536,     0.35636,     0.35736,     0.35836,     0.35936,\n",
            "           0.36036,     0.36136,     0.36236,     0.36336,     0.36436,     0.36537,     0.36637,     0.36737,     0.36837,     0.36937,     0.37037,     0.37137,     0.37237,     0.37337,     0.37437,     0.37538,     0.37638,     0.37738,     0.37838,     0.37938,     0.38038,     0.38138,     0.38238,     0.38338,\n",
            "           0.38438,     0.38539,     0.38639,     0.38739,     0.38839,     0.38939,     0.39039,     0.39139,     0.39239,     0.39339,     0.39439,      0.3954,      0.3964,      0.3974,      0.3984,      0.3994,      0.4004,      0.4014,      0.4024,      0.4034,      0.4044,     0.40541,     0.40641,     0.40741,\n",
            "           0.40841,     0.40941,     0.41041,     0.41141,     0.41241,     0.41341,     0.41441,     0.41542,     0.41642,     0.41742,     0.41842,     0.41942,     0.42042,     0.42142,     0.42242,     0.42342,     0.42442,     0.42543,     0.42643,     0.42743,     0.42843,     0.42943,     0.43043,     0.43143,\n",
            "           0.43243,     0.43343,     0.43443,     0.43544,     0.43644,     0.43744,     0.43844,     0.43944,     0.44044,     0.44144,     0.44244,     0.44344,     0.44444,     0.44545,     0.44645,     0.44745,     0.44845,     0.44945,     0.45045,     0.45145,     0.45245,     0.45345,     0.45445,     0.45546,\n",
            "           0.45646,     0.45746,     0.45846,     0.45946,     0.46046,     0.46146,     0.46246,     0.46346,     0.46446,     0.46547,     0.46647,     0.46747,     0.46847,     0.46947,     0.47047,     0.47147,     0.47247,     0.47347,     0.47447,     0.47548,     0.47648,     0.47748,     0.47848,     0.47948,\n",
            "           0.48048,     0.48148,     0.48248,     0.48348,     0.48448,     0.48549,     0.48649,     0.48749,     0.48849,     0.48949,     0.49049,     0.49149,     0.49249,     0.49349,     0.49449,      0.4955,      0.4965,      0.4975,      0.4985,      0.4995,      0.5005,      0.5015,      0.5025,      0.5035,\n",
            "            0.5045,     0.50551,     0.50651,     0.50751,     0.50851,     0.50951,     0.51051,     0.51151,     0.51251,     0.51351,     0.51451,     0.51552,     0.51652,     0.51752,     0.51852,     0.51952,     0.52052,     0.52152,     0.52252,     0.52352,     0.52452,     0.52553,     0.52653,     0.52753,\n",
            "           0.52853,     0.52953,     0.53053,     0.53153,     0.53253,     0.53353,     0.53453,     0.53554,     0.53654,     0.53754,     0.53854,     0.53954,     0.54054,     0.54154,     0.54254,     0.54354,     0.54454,     0.54555,     0.54655,     0.54755,     0.54855,     0.54955,     0.55055,     0.55155,\n",
            "           0.55255,     0.55355,     0.55455,     0.55556,     0.55656,     0.55756,     0.55856,     0.55956,     0.56056,     0.56156,     0.56256,     0.56356,     0.56456,     0.56557,     0.56657,     0.56757,     0.56857,     0.56957,     0.57057,     0.57157,     0.57257,     0.57357,     0.57457,     0.57558,\n",
            "           0.57658,     0.57758,     0.57858,     0.57958,     0.58058,     0.58158,     0.58258,     0.58358,     0.58458,     0.58559,     0.58659,     0.58759,     0.58859,     0.58959,     0.59059,     0.59159,     0.59259,     0.59359,     0.59459,      0.5956,      0.5966,      0.5976,      0.5986,      0.5996,\n",
            "            0.6006,      0.6016,      0.6026,      0.6036,      0.6046,     0.60561,     0.60661,     0.60761,     0.60861,     0.60961,     0.61061,     0.61161,     0.61261,     0.61361,     0.61461,     0.61562,     0.61662,     0.61762,     0.61862,     0.61962,     0.62062,     0.62162,     0.62262,     0.62362,\n",
            "           0.62462,     0.62563,     0.62663,     0.62763,     0.62863,     0.62963,     0.63063,     0.63163,     0.63263,     0.63363,     0.63463,     0.63564,     0.63664,     0.63764,     0.63864,     0.63964,     0.64064,     0.64164,     0.64264,     0.64364,     0.64464,     0.64565,     0.64665,     0.64765,\n",
            "           0.64865,     0.64965,     0.65065,     0.65165,     0.65265,     0.65365,     0.65465,     0.65566,     0.65666,     0.65766,     0.65866,     0.65966,     0.66066,     0.66166,     0.66266,     0.66366,     0.66466,     0.66567,     0.66667,     0.66767,     0.66867,     0.66967,     0.67067,     0.67167,\n",
            "           0.67267,     0.67367,     0.67467,     0.67568,     0.67668,     0.67768,     0.67868,     0.67968,     0.68068,     0.68168,     0.68268,     0.68368,     0.68468,     0.68569,     0.68669,     0.68769,     0.68869,     0.68969,     0.69069,     0.69169,     0.69269,     0.69369,     0.69469,      0.6957,\n",
            "            0.6967,      0.6977,      0.6987,      0.6997,      0.7007,      0.7017,      0.7027,      0.7037,      0.7047,     0.70571,     0.70671,     0.70771,     0.70871,     0.70971,     0.71071,     0.71171,     0.71271,     0.71371,     0.71471,     0.71572,     0.71672,     0.71772,     0.71872,     0.71972,\n",
            "           0.72072,     0.72172,     0.72272,     0.72372,     0.72472,     0.72573,     0.72673,     0.72773,     0.72873,     0.72973,     0.73073,     0.73173,     0.73273,     0.73373,     0.73473,     0.73574,     0.73674,     0.73774,     0.73874,     0.73974,     0.74074,     0.74174,     0.74274,     0.74374,\n",
            "           0.74474,     0.74575,     0.74675,     0.74775,     0.74875,     0.74975,     0.75075,     0.75175,     0.75275,     0.75375,     0.75475,     0.75576,     0.75676,     0.75776,     0.75876,     0.75976,     0.76076,     0.76176,     0.76276,     0.76376,     0.76476,     0.76577,     0.76677,     0.76777,\n",
            "           0.76877,     0.76977,     0.77077,     0.77177,     0.77277,     0.77377,     0.77477,     0.77578,     0.77678,     0.77778,     0.77878,     0.77978,     0.78078,     0.78178,     0.78278,     0.78378,     0.78478,     0.78579,     0.78679,     0.78779,     0.78879,     0.78979,     0.79079,     0.79179,\n",
            "           0.79279,     0.79379,     0.79479,      0.7958,      0.7968,      0.7978,      0.7988,      0.7998,      0.8008,      0.8018,      0.8028,      0.8038,      0.8048,     0.80581,     0.80681,     0.80781,     0.80881,     0.80981,     0.81081,     0.81181,     0.81281,     0.81381,     0.81481,     0.81582,\n",
            "           0.81682,     0.81782,     0.81882,     0.81982,     0.82082,     0.82182,     0.82282,     0.82382,     0.82482,     0.82583,     0.82683,     0.82783,     0.82883,     0.82983,     0.83083,     0.83183,     0.83283,     0.83383,     0.83483,     0.83584,     0.83684,     0.83784,     0.83884,     0.83984,\n",
            "           0.84084,     0.84184,     0.84284,     0.84384,     0.84484,     0.84585,     0.84685,     0.84785,     0.84885,     0.84985,     0.85085,     0.85185,     0.85285,     0.85385,     0.85485,     0.85586,     0.85686,     0.85786,     0.85886,     0.85986,     0.86086,     0.86186,     0.86286,     0.86386,\n",
            "           0.86486,     0.86587,     0.86687,     0.86787,     0.86887,     0.86987,     0.87087,     0.87187,     0.87287,     0.87387,     0.87487,     0.87588,     0.87688,     0.87788,     0.87888,     0.87988,     0.88088,     0.88188,     0.88288,     0.88388,     0.88488,     0.88589,     0.88689,     0.88789,\n",
            "           0.88889,     0.88989,     0.89089,     0.89189,     0.89289,     0.89389,     0.89489,      0.8959,      0.8969,      0.8979,      0.8989,      0.8999,      0.9009,      0.9019,      0.9029,      0.9039,      0.9049,     0.90591,     0.90691,     0.90791,     0.90891,     0.90991,     0.91091,     0.91191,\n",
            "           0.91291,     0.91391,     0.91491,     0.91592,     0.91692,     0.91792,     0.91892,     0.91992,     0.92092,     0.92192,     0.92292,     0.92392,     0.92492,     0.92593,     0.92693,     0.92793,     0.92893,     0.92993,     0.93093,     0.93193,     0.93293,     0.93393,     0.93493,     0.93594,\n",
            "           0.93694,     0.93794,     0.93894,     0.93994,     0.94094,     0.94194,     0.94294,     0.94394,     0.94494,     0.94595,     0.94695,     0.94795,     0.94895,     0.94995,     0.95095,     0.95195,     0.95295,     0.95395,     0.95495,     0.95596,     0.95696,     0.95796,     0.95896,     0.95996,\n",
            "           0.96096,     0.96196,     0.96296,     0.96396,     0.96496,     0.96597,     0.96697,     0.96797,     0.96897,     0.96997,     0.97097,     0.97197,     0.97297,     0.97397,     0.97497,     0.97598,     0.97698,     0.97798,     0.97898,     0.97998,     0.98098,     0.98198,     0.98298,     0.98398,\n",
            "           0.98498,     0.98599,     0.98699,     0.98799,     0.98899,     0.98999,     0.99099,     0.99199,     0.99299,     0.99399,     0.99499,       0.996,       0.997,       0.998,       0.999,           1]), array([[    0.27971,     0.27971,     0.38684, ...,           1,           1,           1],\n",
            "       [     0.2812,      0.2812,     0.42844, ...,           1,           1,           1],\n",
            "       [    0.12009,     0.12032,     0.28861, ...,           1,           1,           1],\n",
            "       ...,\n",
            "       [   0.038224,     0.03831,    0.085407, ...,           1,           1,           1],\n",
            "       [   0.030357,    0.030382,    0.064831, ...,           1,           1,           1],\n",
            "       [    0.01629,    0.016315,    0.045931, ...,           1,           1,           1]]), 'Confidence', 'Precision'], [array([          0,    0.001001,    0.002002,    0.003003,    0.004004,    0.005005,    0.006006,    0.007007,    0.008008,    0.009009,     0.01001,    0.011011,    0.012012,    0.013013,    0.014014,    0.015015,    0.016016,    0.017017,    0.018018,    0.019019,     0.02002,    0.021021,    0.022022,    0.023023,\n",
            "          0.024024,    0.025025,    0.026026,    0.027027,    0.028028,    0.029029,     0.03003,    0.031031,    0.032032,    0.033033,    0.034034,    0.035035,    0.036036,    0.037037,    0.038038,    0.039039,     0.04004,    0.041041,    0.042042,    0.043043,    0.044044,    0.045045,    0.046046,    0.047047,\n",
            "          0.048048,    0.049049,     0.05005,    0.051051,    0.052052,    0.053053,    0.054054,    0.055055,    0.056056,    0.057057,    0.058058,    0.059059,     0.06006,    0.061061,    0.062062,    0.063063,    0.064064,    0.065065,    0.066066,    0.067067,    0.068068,    0.069069,     0.07007,    0.071071,\n",
            "          0.072072,    0.073073,    0.074074,    0.075075,    0.076076,    0.077077,    0.078078,    0.079079,     0.08008,    0.081081,    0.082082,    0.083083,    0.084084,    0.085085,    0.086086,    0.087087,    0.088088,    0.089089,     0.09009,    0.091091,    0.092092,    0.093093,    0.094094,    0.095095,\n",
            "          0.096096,    0.097097,    0.098098,    0.099099,      0.1001,      0.1011,      0.1021,      0.1031,      0.1041,     0.10511,     0.10611,     0.10711,     0.10811,     0.10911,     0.11011,     0.11111,     0.11211,     0.11311,     0.11411,     0.11512,     0.11612,     0.11712,     0.11812,     0.11912,\n",
            "           0.12012,     0.12112,     0.12212,     0.12312,     0.12412,     0.12513,     0.12613,     0.12713,     0.12813,     0.12913,     0.13013,     0.13113,     0.13213,     0.13313,     0.13413,     0.13514,     0.13614,     0.13714,     0.13814,     0.13914,     0.14014,     0.14114,     0.14214,     0.14314,\n",
            "           0.14414,     0.14515,     0.14615,     0.14715,     0.14815,     0.14915,     0.15015,     0.15115,     0.15215,     0.15315,     0.15415,     0.15516,     0.15616,     0.15716,     0.15816,     0.15916,     0.16016,     0.16116,     0.16216,     0.16316,     0.16416,     0.16517,     0.16617,     0.16717,\n",
            "           0.16817,     0.16917,     0.17017,     0.17117,     0.17217,     0.17317,     0.17417,     0.17518,     0.17618,     0.17718,     0.17818,     0.17918,     0.18018,     0.18118,     0.18218,     0.18318,     0.18418,     0.18519,     0.18619,     0.18719,     0.18819,     0.18919,     0.19019,     0.19119,\n",
            "           0.19219,     0.19319,     0.19419,      0.1952,      0.1962,      0.1972,      0.1982,      0.1992,      0.2002,      0.2012,      0.2022,      0.2032,      0.2042,     0.20521,     0.20621,     0.20721,     0.20821,     0.20921,     0.21021,     0.21121,     0.21221,     0.21321,     0.21421,     0.21522,\n",
            "           0.21622,     0.21722,     0.21822,     0.21922,     0.22022,     0.22122,     0.22222,     0.22322,     0.22422,     0.22523,     0.22623,     0.22723,     0.22823,     0.22923,     0.23023,     0.23123,     0.23223,     0.23323,     0.23423,     0.23524,     0.23624,     0.23724,     0.23824,     0.23924,\n",
            "           0.24024,     0.24124,     0.24224,     0.24324,     0.24424,     0.24525,     0.24625,     0.24725,     0.24825,     0.24925,     0.25025,     0.25125,     0.25225,     0.25325,     0.25425,     0.25526,     0.25626,     0.25726,     0.25826,     0.25926,     0.26026,     0.26126,     0.26226,     0.26326,\n",
            "           0.26426,     0.26527,     0.26627,     0.26727,     0.26827,     0.26927,     0.27027,     0.27127,     0.27227,     0.27327,     0.27427,     0.27528,     0.27628,     0.27728,     0.27828,     0.27928,     0.28028,     0.28128,     0.28228,     0.28328,     0.28428,     0.28529,     0.28629,     0.28729,\n",
            "           0.28829,     0.28929,     0.29029,     0.29129,     0.29229,     0.29329,     0.29429,      0.2953,      0.2963,      0.2973,      0.2983,      0.2993,      0.3003,      0.3013,      0.3023,      0.3033,      0.3043,     0.30531,     0.30631,     0.30731,     0.30831,     0.30931,     0.31031,     0.31131,\n",
            "           0.31231,     0.31331,     0.31431,     0.31532,     0.31632,     0.31732,     0.31832,     0.31932,     0.32032,     0.32132,     0.32232,     0.32332,     0.32432,     0.32533,     0.32633,     0.32733,     0.32833,     0.32933,     0.33033,     0.33133,     0.33233,     0.33333,     0.33433,     0.33534,\n",
            "           0.33634,     0.33734,     0.33834,     0.33934,     0.34034,     0.34134,     0.34234,     0.34334,     0.34434,     0.34535,     0.34635,     0.34735,     0.34835,     0.34935,     0.35035,     0.35135,     0.35235,     0.35335,     0.35435,     0.35536,     0.35636,     0.35736,     0.35836,     0.35936,\n",
            "           0.36036,     0.36136,     0.36236,     0.36336,     0.36436,     0.36537,     0.36637,     0.36737,     0.36837,     0.36937,     0.37037,     0.37137,     0.37237,     0.37337,     0.37437,     0.37538,     0.37638,     0.37738,     0.37838,     0.37938,     0.38038,     0.38138,     0.38238,     0.38338,\n",
            "           0.38438,     0.38539,     0.38639,     0.38739,     0.38839,     0.38939,     0.39039,     0.39139,     0.39239,     0.39339,     0.39439,      0.3954,      0.3964,      0.3974,      0.3984,      0.3994,      0.4004,      0.4014,      0.4024,      0.4034,      0.4044,     0.40541,     0.40641,     0.40741,\n",
            "           0.40841,     0.40941,     0.41041,     0.41141,     0.41241,     0.41341,     0.41441,     0.41542,     0.41642,     0.41742,     0.41842,     0.41942,     0.42042,     0.42142,     0.42242,     0.42342,     0.42442,     0.42543,     0.42643,     0.42743,     0.42843,     0.42943,     0.43043,     0.43143,\n",
            "           0.43243,     0.43343,     0.43443,     0.43544,     0.43644,     0.43744,     0.43844,     0.43944,     0.44044,     0.44144,     0.44244,     0.44344,     0.44444,     0.44545,     0.44645,     0.44745,     0.44845,     0.44945,     0.45045,     0.45145,     0.45245,     0.45345,     0.45445,     0.45546,\n",
            "           0.45646,     0.45746,     0.45846,     0.45946,     0.46046,     0.46146,     0.46246,     0.46346,     0.46446,     0.46547,     0.46647,     0.46747,     0.46847,     0.46947,     0.47047,     0.47147,     0.47247,     0.47347,     0.47447,     0.47548,     0.47648,     0.47748,     0.47848,     0.47948,\n",
            "           0.48048,     0.48148,     0.48248,     0.48348,     0.48448,     0.48549,     0.48649,     0.48749,     0.48849,     0.48949,     0.49049,     0.49149,     0.49249,     0.49349,     0.49449,      0.4955,      0.4965,      0.4975,      0.4985,      0.4995,      0.5005,      0.5015,      0.5025,      0.5035,\n",
            "            0.5045,     0.50551,     0.50651,     0.50751,     0.50851,     0.50951,     0.51051,     0.51151,     0.51251,     0.51351,     0.51451,     0.51552,     0.51652,     0.51752,     0.51852,     0.51952,     0.52052,     0.52152,     0.52252,     0.52352,     0.52452,     0.52553,     0.52653,     0.52753,\n",
            "           0.52853,     0.52953,     0.53053,     0.53153,     0.53253,     0.53353,     0.53453,     0.53554,     0.53654,     0.53754,     0.53854,     0.53954,     0.54054,     0.54154,     0.54254,     0.54354,     0.54454,     0.54555,     0.54655,     0.54755,     0.54855,     0.54955,     0.55055,     0.55155,\n",
            "           0.55255,     0.55355,     0.55455,     0.55556,     0.55656,     0.55756,     0.55856,     0.55956,     0.56056,     0.56156,     0.56256,     0.56356,     0.56456,     0.56557,     0.56657,     0.56757,     0.56857,     0.56957,     0.57057,     0.57157,     0.57257,     0.57357,     0.57457,     0.57558,\n",
            "           0.57658,     0.57758,     0.57858,     0.57958,     0.58058,     0.58158,     0.58258,     0.58358,     0.58458,     0.58559,     0.58659,     0.58759,     0.58859,     0.58959,     0.59059,     0.59159,     0.59259,     0.59359,     0.59459,      0.5956,      0.5966,      0.5976,      0.5986,      0.5996,\n",
            "            0.6006,      0.6016,      0.6026,      0.6036,      0.6046,     0.60561,     0.60661,     0.60761,     0.60861,     0.60961,     0.61061,     0.61161,     0.61261,     0.61361,     0.61461,     0.61562,     0.61662,     0.61762,     0.61862,     0.61962,     0.62062,     0.62162,     0.62262,     0.62362,\n",
            "           0.62462,     0.62563,     0.62663,     0.62763,     0.62863,     0.62963,     0.63063,     0.63163,     0.63263,     0.63363,     0.63463,     0.63564,     0.63664,     0.63764,     0.63864,     0.63964,     0.64064,     0.64164,     0.64264,     0.64364,     0.64464,     0.64565,     0.64665,     0.64765,\n",
            "           0.64865,     0.64965,     0.65065,     0.65165,     0.65265,     0.65365,     0.65465,     0.65566,     0.65666,     0.65766,     0.65866,     0.65966,     0.66066,     0.66166,     0.66266,     0.66366,     0.66466,     0.66567,     0.66667,     0.66767,     0.66867,     0.66967,     0.67067,     0.67167,\n",
            "           0.67267,     0.67367,     0.67467,     0.67568,     0.67668,     0.67768,     0.67868,     0.67968,     0.68068,     0.68168,     0.68268,     0.68368,     0.68468,     0.68569,     0.68669,     0.68769,     0.68869,     0.68969,     0.69069,     0.69169,     0.69269,     0.69369,     0.69469,      0.6957,\n",
            "            0.6967,      0.6977,      0.6987,      0.6997,      0.7007,      0.7017,      0.7027,      0.7037,      0.7047,     0.70571,     0.70671,     0.70771,     0.70871,     0.70971,     0.71071,     0.71171,     0.71271,     0.71371,     0.71471,     0.71572,     0.71672,     0.71772,     0.71872,     0.71972,\n",
            "           0.72072,     0.72172,     0.72272,     0.72372,     0.72472,     0.72573,     0.72673,     0.72773,     0.72873,     0.72973,     0.73073,     0.73173,     0.73273,     0.73373,     0.73473,     0.73574,     0.73674,     0.73774,     0.73874,     0.73974,     0.74074,     0.74174,     0.74274,     0.74374,\n",
            "           0.74474,     0.74575,     0.74675,     0.74775,     0.74875,     0.74975,     0.75075,     0.75175,     0.75275,     0.75375,     0.75475,     0.75576,     0.75676,     0.75776,     0.75876,     0.75976,     0.76076,     0.76176,     0.76276,     0.76376,     0.76476,     0.76577,     0.76677,     0.76777,\n",
            "           0.76877,     0.76977,     0.77077,     0.77177,     0.77277,     0.77377,     0.77477,     0.77578,     0.77678,     0.77778,     0.77878,     0.77978,     0.78078,     0.78178,     0.78278,     0.78378,     0.78478,     0.78579,     0.78679,     0.78779,     0.78879,     0.78979,     0.79079,     0.79179,\n",
            "           0.79279,     0.79379,     0.79479,      0.7958,      0.7968,      0.7978,      0.7988,      0.7998,      0.8008,      0.8018,      0.8028,      0.8038,      0.8048,     0.80581,     0.80681,     0.80781,     0.80881,     0.80981,     0.81081,     0.81181,     0.81281,     0.81381,     0.81481,     0.81582,\n",
            "           0.81682,     0.81782,     0.81882,     0.81982,     0.82082,     0.82182,     0.82282,     0.82382,     0.82482,     0.82583,     0.82683,     0.82783,     0.82883,     0.82983,     0.83083,     0.83183,     0.83283,     0.83383,     0.83483,     0.83584,     0.83684,     0.83784,     0.83884,     0.83984,\n",
            "           0.84084,     0.84184,     0.84284,     0.84384,     0.84484,     0.84585,     0.84685,     0.84785,     0.84885,     0.84985,     0.85085,     0.85185,     0.85285,     0.85385,     0.85485,     0.85586,     0.85686,     0.85786,     0.85886,     0.85986,     0.86086,     0.86186,     0.86286,     0.86386,\n",
            "           0.86486,     0.86587,     0.86687,     0.86787,     0.86887,     0.86987,     0.87087,     0.87187,     0.87287,     0.87387,     0.87487,     0.87588,     0.87688,     0.87788,     0.87888,     0.87988,     0.88088,     0.88188,     0.88288,     0.88388,     0.88488,     0.88589,     0.88689,     0.88789,\n",
            "           0.88889,     0.88989,     0.89089,     0.89189,     0.89289,     0.89389,     0.89489,      0.8959,      0.8969,      0.8979,      0.8989,      0.8999,      0.9009,      0.9019,      0.9029,      0.9039,      0.9049,     0.90591,     0.90691,     0.90791,     0.90891,     0.90991,     0.91091,     0.91191,\n",
            "           0.91291,     0.91391,     0.91491,     0.91592,     0.91692,     0.91792,     0.91892,     0.91992,     0.92092,     0.92192,     0.92292,     0.92392,     0.92492,     0.92593,     0.92693,     0.92793,     0.92893,     0.92993,     0.93093,     0.93193,     0.93293,     0.93393,     0.93493,     0.93594,\n",
            "           0.93694,     0.93794,     0.93894,     0.93994,     0.94094,     0.94194,     0.94294,     0.94394,     0.94494,     0.94595,     0.94695,     0.94795,     0.94895,     0.94995,     0.95095,     0.95195,     0.95295,     0.95395,     0.95495,     0.95596,     0.95696,     0.95796,     0.95896,     0.95996,\n",
            "           0.96096,     0.96196,     0.96296,     0.96396,     0.96496,     0.96597,     0.96697,     0.96797,     0.96897,     0.96997,     0.97097,     0.97197,     0.97297,     0.97397,     0.97497,     0.97598,     0.97698,     0.97798,     0.97898,     0.97998,     0.98098,     0.98198,     0.98298,     0.98398,\n",
            "           0.98498,     0.98599,     0.98699,     0.98799,     0.98899,     0.98999,     0.99099,     0.99199,     0.99299,     0.99399,     0.99499,       0.996,       0.997,       0.998,       0.999,           1]), array([[          1,           1,           1, ...,           0,           0,           0],\n",
            "       [    0.98765,     0.98765,     0.98148, ...,           0,           0,           0],\n",
            "       [          1,           1,           1, ...,           0,           0,           0],\n",
            "       ...,\n",
            "       [    0.99029,     0.99029,     0.98058, ...,           0,           0,           0],\n",
            "       [    0.88274,     0.88274,     0.87296, ...,           0,           0,           0],\n",
            "       [    0.96599,     0.96599,     0.95918, ...,           0,           0,           0]]), 'Confidence', 'Recall']]\n",
            "fitness: 0.6901092747493176\n",
            "keys: ['metrics/precision(B)', 'metrics/recall(B)', 'metrics/mAP50(B)', 'metrics/mAP50-95(B)']\n",
            "maps: array([    0.81487,     0.83781,     0.78455,     0.66141,     0.70004,     0.87956,     0.66174,     0.65115,     0.75292,     0.62889,      0.3228,     0.50182,      0.7441,     0.72674,     0.48154,     0.80071,     0.70163,     0.72896,     0.54435,     0.52778])\n",
            "names: {0: 'annona', 1: 'apple', 2: 'banana', 3: 'beet', 4: 'bell_pepper', 5: 'cabbage', 6: 'carrot', 7: 'cucumber', 8: 'egg', 9: 'eggplant', 10: 'garlic', 11: 'guava', 12: 'onion', 13: 'orange', 14: 'pear', 15: 'pineapple', 16: 'pitaya', 17: 'potato', 18: 'tomato', 19: 'zucchini'}\n",
            "plot: True\n",
            "results_dict: {'metrics/precision(B)': 0.8032266697525483, 'metrics/recall(B)': 0.8177193721798789, 'metrics/mAP50(B)': 0.8470771523300309, 'metrics/mAP50-95(B)': 0.6726683994625716, 'fitness': 0.6901092747493176}\n",
            "save_dir: PosixPath('runs/detect/train32')\n",
            "speed: {'preprocess': 0.2992010246505529, 'inference': 3.9035361209422432, 'loss': 0.0010751573526242124, 'postprocess': 2.0162718172619063}\n",
            "task: 'detect'\n"
          ]
        }
      ]
    },
    {
      "cell_type": "code",
      "source": [
        "from ultralytics import YOLO\n",
        "\n",
        "# Load the trained model\n",
        "model = YOLO('/content/runs/detect/train3/weights/best.pt')\n",
        "\n",
        "# Adjust thresholds\n",
        "model.conf = 0.4\n",
        "model.iou = 0.5\n",
        "\n",
        "# Run inference on a test video\n",
        "results = model.predict(source='/content/food-1/test/images', save=True)\n"
      ],
      "metadata": {
        "colab": {
          "base_uri": "https://localhost:8080/"
        },
        "id": "PaEOfk2GeJyj",
        "outputId": "24d3a0e9-73e9-4dce-8ff8-c59d19e4d89d"
      },
      "execution_count": null,
      "outputs": [
        {
          "output_type": "stream",
          "name": "stdout",
          "text": [
            "\n",
            "image 1/376 /content/food-1/test/images/-1_jpg.rf.8fa92369c23cc1a3cbb8e14bdef7dea5.jpg: 640x640 1 beet, 1 cabbage, 1 carrot, 1 egg, 2 garlics, 2 onions, 2 potatos, 7.4ms\n",
            "image 2/376 /content/food-1/test/images/-31_jpg.rf.8b3263fc5b554fb37b96182ca07e8c8a.jpg: 640x640 1 bell_pepper, 1 cabbage, 1 carrot, 1 onion, 7.4ms\n",
            "image 3/376 /content/food-1/test/images/-40_jpg.rf.5ef02338bac049c1353d68919800aaf4.jpg: 640x640 1 cabbage, 2 cucumbers, 2 onions, 2 zucchinis, 7.5ms\n",
            "image 4/376 /content/food-1/test/images/-51_jpg.rf.0694ca3f6fa3a5b5cdca39a06c61eafd.jpg: 640x640 2 beets, 2 carrots, 2 onions, 2 potatos, 2 tomatos, 7.4ms\n",
            "image 5/376 /content/food-1/test/images/-76_jpg.rf.f2629565f2382a4a28b7c3152a754231.jpg: 640x640 1 cabbage, 4 tomatos, 7.4ms\n",
            "image 6/376 /content/food-1/test/images/000104_jpg.rf.a67684762b1ef84d8df975227405008c.jpg: 640x640 3 bell_peppers, 1 carrot, 1 egg, 2 zucchinis, 7.4ms\n",
            "image 7/376 /content/food-1/test/images/000126_jpg.rf.59c95497ca860483a6d27055b0fc0d71.jpg: 640x640 1 bell_pepper, 1 cabbage, 1 carrot, 3 eggs, 8.5ms\n",
            "image 8/376 /content/food-1/test/images/006_jpg.rf.6c3cead877858d3e7ecac50290449cba.jpg: 640x640 2 cucumbers, 1 onion, 1 tomato, 7.4ms\n",
            "image 9/376 /content/food-1/test/images/00c_6003small_jpg.rf.e70332b80e9bd87b7c4b2c8d86ba365a.jpg: 640x640 2 cabbages, 4 carrots, 1 garlic, 3 onions, 1 tomato, 7.4ms\n",
            "image 10/376 /content/food-1/test/images/011_jpg.rf.86373f6f18caec1ace82000b3c4564b3.jpg: 640x640 4 tomatos, 7.4ms\n",
            "image 11/376 /content/food-1/test/images/016_jpg.rf.3e8a88d392bc80c192c13778597963d4.jpg: 640x640 1 egg, 5 tomatos, 7.4ms\n",
            "image 12/376 /content/food-1/test/images/026_jpg.rf.ec37c3c3e4c01c680998443167b3ee10.jpg: 640x640 1 cabbage, 1 carrot, 1 egg, 1 eggplant, 3 tomatos, 7.4ms\n",
            "image 13/376 /content/food-1/test/images/035_jpg.rf.2194826440077d4d18a824aba20142fa.jpg: 640x640 1 bell_pepper, 1 carrot, 1 egg, 1 onion, 5 tomatos, 11.4ms\n",
            "image 14/376 /content/food-1/test/images/036_jpg.rf.84f6d1db6262dadd2c282da7e90849d7.jpg: 640x640 2 bell_peppers, 1 cabbage, 1 tomato, 7.4ms\n",
            "image 15/376 /content/food-1/test/images/038_jpg.rf.9215e931e1301a8515303425c5e7f706.jpg: 640x640 2 carrots, 3 tomatos, 7.2ms\n",
            "image 16/376 /content/food-1/test/images/053_jpg.rf.9dc8a16e14b744f68db0c9bb0f6ec821.jpg: 640x640 1 tomato, 6.8ms\n",
            "image 17/376 /content/food-1/test/images/083_jpg.rf.a9ba04e8d39b9c40def235a3bd02b2da.jpg: 640x640 2 carrots, 2 onions, 6 potatos, 2 tomatos, 6.8ms\n",
            "image 18/376 /content/food-1/test/images/084_jpg.rf.a371f50dd6b669ff457e4c71fe81034f.jpg: 640x640 2 carrots, 1 onion, 6.9ms\n",
            "image 19/376 /content/food-1/test/images/086_jpg.rf.125520a2c6273401b4dc580fdbb44dae.jpg: 640x640 2 carrots, 1 onion, 4 tomatos, 6.8ms\n",
            "image 20/376 /content/food-1/test/images/086_jpg.rf.1ebb8f1ea38a4b045f52acb95f71d26c.jpg: 640x640 2 eggs, 3 tomatos, 6.8ms\n",
            "image 21/376 /content/food-1/test/images/0908_jpg.rf.909d22d24cb19564a5d9611d0a31b85e.jpg: 640x640 2 tomatos, 6.8ms\n",
            "image 22/376 /content/food-1/test/images/0908_jpg.rf.edc1655ed3d8d0cb2a934a894e3293b3.jpg: 640x640 1 bell_pepper, 1 cabbage, 4 carrots, 2 onions, 3 tomatos, 1 zucchini, 6.8ms\n",
            "image 23/376 /content/food-1/test/images/1000-x-667-Peppers_jpg.rf.fb50a40d89f32332027adc153845c11a.jpg: 640x640 3 bell_peppers, 2 eggs, 2 tomatos, 6.8ms\n",
            "image 24/376 /content/food-1/test/images/12_jpg.rf.3d130934abb65a9d58d277ca3e45e624.jpg: 640x640 2 carrots, 6.8ms\n",
            "image 25/376 /content/food-1/test/images/12_jpg.rf.7fd4d7bf238504118f4dc291b1006908.jpg: 640x640 1 carrot, 1 eggplant, 1 onion, 6.8ms\n",
            "image 26/376 /content/food-1/test/images/12_jpg.rf.8920753f328e05e15dab04175284fddb.jpg: 640x640 3 carrots, 3 potatos, 1 tomato, 1 zucchini, 6.9ms\n",
            "image 27/376 /content/food-1/test/images/12_jpg.rf.fc41950721b3242de078581d244093f3.jpg: 640x640 3 carrots, 6.4ms\n",
            "image 28/376 /content/food-1/test/images/12_jpg.rf.fcb420dd4dbaf50e7f7e6c8bcb79ad8f.jpg: 640x640 1 carrot, 1 eggplant, 1 garlic, 1 onion, 2 tomatos, 6.4ms\n",
            "image 29/376 /content/food-1/test/images/13_JPG_jpg.rf.d92598b8074e8d859b6a4d3e7ead0386.jpg: 640x640 1 carrot, 1 garlic, 1 onion, 1 pineapple, 2 tomatos, 6.4ms\n",
            "image 30/376 /content/food-1/test/images/13_jpg.rf.8f9b7fc1bb52e82c3fd140ff8bdc698a.jpg: 640x640 2 carrots, 6.5ms\n",
            "image 31/376 /content/food-1/test/images/13_jpg.rf.cd381a63ce43f687fbe59374478de5e4.jpg: 640x640 2 carrots, 6.4ms\n",
            "image 32/376 /content/food-1/test/images/14-potato-png-images_png_jpg.rf.44737ecbb55660d82be6afcd60755495.jpg: 640x640 8 potatos, 6.3ms\n",
            "image 33/376 /content/food-1/test/images/1457624375-peperoni_jpg.rf.0df124e2898d2f1d318073918b01873a.jpg: 640x640 1 beet, 6 bell_peppers, 2 carrots, 2 eggplants, 1 onion, 2 tomatos, 7.6ms\n",
            "image 34/376 /content/food-1/test/images/1497078_s_jpg.rf.912c3f7c5c1a8718c71266474b8c30e9.jpg: 640x640 3 bell_peppers, 7 carrots, 1 egg, 2 onions, 2 potatos, 1 tomato, 6.4ms\n",
            "image 35/376 /content/food-1/test/images/158_100_jpg.rf.7cb739a7c9b754a866cbedf570843dce.jpg: 640x640 1 carrot, 2 onions, 3 tomatos, 9.9ms\n",
            "image 36/376 /content/food-1/test/images/15_jpg.rf.607997b81cd5daf6426eaf16d9ca7136.jpg: 640x640 2 carrots, 10.3ms\n",
            "image 37/376 /content/food-1/test/images/1663758450_14-mykaleidoscope-ru-p-ovoshchi-dlya-borshcha-yeda-pinterest-20_jpg.rf.c6aa5e6dc7b2f8d3e129dbb6c83a369a.jpg: 640x640 1 cabbage, 7 carrots, 4 tomatos, 6.4ms\n",
            "image 38/376 /content/food-1/test/images/1663758507_6-mykaleidoscope-ru-p-ovoshchi-dlya-borshcha-yeda-pinterest-9_jpg.rf.cf7283c987af6df3dcd8761aafcc3ed5.jpg: 640x640 1 beet, 2 cabbages, 1 carrot, 1 egg, 1 onion, 5 tomatos, 9.9ms\n",
            "image 39/376 /content/food-1/test/images/16_jpg.rf.5ba5043edaa91f47e56812bce3bdc822.jpg: 640x640 1 carrot, 6.4ms\n",
            "image 40/376 /content/food-1/test/images/17_jpg.rf.a72244bc577cb044ab2761329227df11.jpg: 640x640 1 cabbage, 3 carrots, 1 cucumber, 1 egg, 2 onions, 2 potatos, 1 tomato, 6.4ms\n",
            "image 41/376 /content/food-1/test/images/1_jpg.rf.4dfb7750b4847366c94efefdc4b34d64.jpg: 640x640 1 carrot, 2 onions, 6.4ms\n",
            "image 42/376 /content/food-1/test/images/1_png_jpg.rf.59dde202f294f8ce0e942f4c87fc09f3.jpg: 640x640 4 bell_peppers, 5 carrots, 1 potato, 1 tomato, 6.6ms\n",
            "image 43/376 /content/food-1/test/images/2019Food___Meat_and_barbecue_A_piece_of_meat_on_a_white_background_with_vegetables_and_spices_133303_23_jpg.rf.a5e6632246bda41ef64c7b26585ccd52.jpg: 640x640 4 beets, 2 bell_peppers, 1 egg, 3 garlics, 1 onion, 4 tomatos, 6.6ms\n",
            "image 44/376 /content/food-1/test/images/2020-02-01-10-14-33-576x384_jpg.rf.26e5f9422daa1dcc50f142fc2e59abf6.jpg: 640x640 2 beets, 1 eggplant, 7.2ms\n",
            "image 45/376 /content/food-1/test/images/2020-02-02-10-14-41-576x384_jpg.rf.b51c09e7fbdb90de67acc95acd3552bd.jpg: 640x640 1 garlic, 1 onion, 2 tomatos, 8.5ms\n",
            "image 46/376 /content/food-1/test/images/2020-02-02-10-14-41-576x384_jpg.rf.e64d20df444ae131537f146765968b9b.jpg: 640x640 1 onion, 10 potatos, 5 tomatos, 8.3ms\n",
            "image 47/376 /content/food-1/test/images/2020-02-04-07-43-23-576x384_jpg.rf.a1c60dae9580ed5dd8e0b263341f5800.jpg: 640x640 1 eggplant, 1 garlic, 1 tomato, 8.5ms\n",
            "image 48/376 /content/food-1/test/images/2020-02-04-07-43-57-576x384_jpg.rf.154e543a3a688f562daef5388bf1f1c0.jpg: 640x640 1 cucumber, 1 eggplant, 2 garlics, 4 tomatos, 8.4ms\n",
            "image 49/376 /content/food-1/test/images/21_jpg.rf.8d79696c153e1fbba991077e793bb87c.jpg: 640x640 14 bell_peppers, 2 carrots, 8.2ms\n",
            "image 50/376 /content/food-1/test/images/25_JPG_jpg.rf.1dacd68441b8ac6f848474b7a3d9b86a.jpg: 640x640 1 beet, 3 carrots, 1 eggplant, 1 garlic, 2 tomatos, 8.9ms\n",
            "image 51/376 /content/food-1/test/images/25_png_jpg.rf.c14f42f7e2dff86f4fa8b4004fdb46d0.jpg: 640x640 2 carrots, 1 onion, 5 potatos, 1 tomato, 8.3ms\n",
            "image 52/376 /content/food-1/test/images/28ed6d65-20230906_223652_jpg.rf.680bbdb8aaf736d467d99731ddb15b2d.jpg: 640x640 1 egg, 8.3ms\n",
            "image 53/376 /content/food-1/test/images/2_JPG_jpg.rf.770980700108613ce087afda2940ed09.jpg: 640x640 1 carrot, 8.1ms\n",
            "image 54/376 /content/food-1/test/images/30883_jpg.rf.cc86b0a949ff7c2431fb1f8a0c38e179.jpg: 640x640 1 cabbage, 1 carrot, 8.2ms\n",
            "image 55/376 /content/food-1/test/images/40_JPG_jpg.rf.b55bfa53eb8d6333d1880d5d97016028.jpg: 640x640 3 carrots, 4 tomatos, 8.7ms\n",
            "image 56/376 /content/food-1/test/images/460570fb-20230906_223815_jpg.rf.303017b5a0b01778404a77fc64aa90eb.jpg: 640x640 1 cabbage, 2 carrots, 1 egg, 2 onions, 2 tomatos, 8.2ms\n",
            "image 57/376 /content/food-1/test/images/46_png_jpg.rf.cee09a57a673ddfb0616d2c1aa302b42.jpg: 640x640 1 carrot, 1 onion, 5 potatos, 8.3ms\n",
            "image 58/376 /content/food-1/test/images/47_JPG_jpg.rf.6b89b82db80e9184288159de3322b0a4.jpg: 640x640 1 carrot, 1 cucumber, 5 eggs, 8.4ms\n",
            "image 59/376 /content/food-1/test/images/4k-onion-2-3d-model-max-obj-fbx-blend-1-_jpg.rf.c5d5bb5bcf3112647f6e06fc81b2a363.jpg: 640x640 1 onion, 6.7ms\n",
            "image 60/376 /content/food-1/test/images/529ad394d6ea8b75a5961c9410136868_jpg.rf.a5f5cfd246911c5a2fdf2ae0ccf82cfe.jpg: 640x640 2 beets, 3 carrots, 2 potatos, 2 tomatos, 6.4ms\n",
            "image 61/376 /content/food-1/test/images/529ad394d6ea8b75a5961c9410136868_jpg.rf.aa631c01e89bd677b545dfb6325aa627.jpg: 640x640 3 beets, 4 potatos, 7 tomatos, 10.0ms\n",
            "image 62/376 /content/food-1/test/images/55_png_jpg.rf.8a436d843a3ee908a18e7e8e90744e49.jpg: 640x640 5 potatos, 6.4ms\n",
            "image 63/376 /content/food-1/test/images/7-104_jpg.rf.1d529b56e6c9f842030180b883fd82d5.jpg: 640x640 1 beet, 2 bell_peppers, 8 tomatos, 6.4ms\n",
            "image 64/376 /content/food-1/test/images/74802f41-20230906_223600_jpg.rf.52d2374ae699e72ca744fe452bc70ffa.jpg: 640x640 1 cabbage, 1 egg, 4 potatos, 6.4ms\n",
            "image 65/376 /content/food-1/test/images/810_jpg.rf.ed4fd853d69a4983c7f71994a24a0ada.jpg: 640x640 1 tomato, 6.4ms\n",
            "image 66/376 /content/food-1/test/images/89152-kartoshka-1_jpg.rf.f49bd663677ceecadfe9991ae06563a6.jpg: 640x640 13 potatos, 6.4ms\n",
            "image 67/376 /content/food-1/test/images/9660b1334c70965dab5bc4c23da43f1f_jpg.rf.55f38e1b74077b6e3d8be01bf79e9a7f.jpg: 640x640 2 beets, 5 bell_peppers, 6.4ms\n",
            "image 68/376 /content/food-1/test/images/Cabbage_PNG_Clipart_Image_png_jpg.rf.ac11a459259383062cb50c5d9bdcbd5c.jpg: 640x640 2 cabbages, 2 carrots, 1 egg, 6.4ms\n",
            "image 69/376 /content/food-1/test/images/DSC00008_JPG_jpg.rf.badc40035f1f61c8cd5f3eb1f40c6fdc.jpg: 640x640 2 bell_peppers, 3 eggs, 1 onion, 6.4ms\n",
            "image 70/376 /content/food-1/test/images/DSC00010_JPG_jpg.rf.a138600081d8f894718288ed2f4174fa.jpg: 640x640 2 bell_peppers, 2 eggs, 1 onion, 6.4ms\n",
            "image 71/376 /content/food-1/test/images/DSC00011_JPG_jpg.rf.88825ec9a3ab2fca5fd1ea7261288812.jpg: 640x640 1 bell_pepper, 3 cucumbers, 3 eggs, 2 onions, 8 tomatos, 6.5ms\n",
            "image 72/376 /content/food-1/test/images/DSC00017_JPG_jpg.rf.1d29fff5341bcc5f974eda083751a8ea.jpg: 640x640 5 bell_peppers, 4 eggs, 2 onions, 12 potatos, 1 zucchini, 6.4ms\n",
            "image 73/376 /content/food-1/test/images/DSC00027_JPG_jpg.rf.950622075934ac59d74dcfed14069a8e.jpg: 640x640 2 bell_peppers, 5 eggs, 1 onion, 6.4ms\n",
            "image 74/376 /content/food-1/test/images/DSC00031_JPG_jpg.rf.78c31942ba8214e710cec04f3a07f783.jpg: 640x640 2 bell_peppers, 3 eggs, 1 onion, 6.4ms\n",
            "image 75/376 /content/food-1/test/images/DSC00039_JPG_jpg.rf.1298e2fc3e7fb989dac135283cb4c148.jpg: 640x640 3 bell_peppers, 2 eggs, 2 onions, 6.4ms\n",
            "image 76/376 /content/food-1/test/images/DSC00048_JPG_jpg.rf.2fe2ea0938e94eefabdbdd76113883df.jpg: 640x640 1 bell_pepper, 1 onion, 3 tomatos, 7.3ms\n",
            "image 77/376 /content/food-1/test/images/DSC00055_JPG_jpg.rf.d252c125b1c73a3b38f0b52fa718528f.jpg: 640x640 1 bell_pepper, 2 eggs, 3 onions, 7.4ms\n",
            "image 78/376 /content/food-1/test/images/DSC00056_JPG_jpg.rf.0e018af71963a8608aa164d3a35b3164.jpg: 640x640 2 bell_peppers, 2 onions, 7.0ms\n",
            "image 79/376 /content/food-1/test/images/DSC00056_JPG_jpg.rf.69a2f2cd030b9ee5ef3485afc65aaf1f.jpg: 640x640 1 bell_pepper, 3 onions, 6.3ms\n",
            "image 80/376 /content/food-1/test/images/DSC00060_JPG_jpg.rf.1a6c572b9ffa2e75ad2445fb86e50580.jpg: 640x640 3 bell_peppers, 2 eggs, 1 onion, 6.4ms\n",
            "image 81/376 /content/food-1/test/images/DSC00061_JPG_jpg.rf.37128d1cbc4c29ed4deef1c467fa21b1.jpg: 640x640 1 bell_pepper, 6.4ms\n",
            "image 82/376 /content/food-1/test/images/DSC00063_JPG_jpg.rf.093fd5be739934fafc7af285906fa5ea.jpg: 640x640 1 bell_pepper, 1 egg, 2 onions, 1 potato, 6.4ms\n",
            "image 83/376 /content/food-1/test/images/DSC00065_JPG_jpg.rf.9706cbdfe140df3a25454c7c16b37f8f.jpg: 640x640 1 bell_pepper, 1 egg, 6 onions, 6.4ms\n",
            "image 84/376 /content/food-1/test/images/DSC00067_JPG_jpg.rf.c1d57c76637589a39b38808048e45bf0.jpg: 640x640 1 bell_pepper, 2 onions, 6.4ms\n",
            "image 85/376 /content/food-1/test/images/DSC00068_JPG_jpg.rf.c96d1fd822d0261562d1308d79737d8c.jpg: 640x640 (no detections), 6.4ms\n",
            "image 86/376 /content/food-1/test/images/DSC00075_JPG_jpg.rf.248a12f2c5d71575e2154f183df9a928.jpg: 640x640 2 bell_peppers, 2 cabbages, 2 eggs, 2 onions, 6.4ms\n",
            "image 87/376 /content/food-1/test/images/DSC00092_JPG_jpg.rf.2dda9cc8edd9d23c180b81828eccaa5d.jpg: 640x640 3 bell_peppers, 2 eggs, 2 onions, 6.4ms\n",
            "image 88/376 /content/food-1/test/images/DSC00125_JPG_jpg.rf.ca50779a10a8cf9ab89037ae9162f4bd.jpg: 640x640 3 bell_peppers, 3 eggs, 1 onion, 6.4ms\n",
            "image 89/376 /content/food-1/test/images/DSCN4157-jpg_0_5351_jpg.rf.9cb15b49c46890f8a5cb549ed0d15f79.jpg: 640x640 1 bell_pepper, 2 cabbages, 1 onion, 1 tomato, 10.9ms\n",
            "image 90/376 /content/food-1/test/images/IMG_0435_JPG_jpg.rf.5151d0a95219457987ef5f2ad3a1925e.jpg: 640x640 7 beets, 2 carrots, 3 onions, 1 potato, 6.7ms\n",
            "image 91/376 /content/food-1/test/images/IMG_0556_JPG_jpg.rf.0af231b5639fbc4cd5716293e79976c0.jpg: 640x640 3 carrots, 6.4ms\n",
            "image 92/376 /content/food-1/test/images/IMG_0556_JPG_jpg.rf.c04a8b6358ac53fd3bb1ab9cd6b0e169.jpg: 640x640 1 cabbage, 2 carrots, 4 cucumbers, 7.1ms\n",
            "image 93/376 /content/food-1/test/images/IMG_0562_JPG_jpg.rf.5dbc23d1e9ad433280ec5f661b2cf4ec.jpg: 640x640 2 carrots, 6.4ms\n",
            "image 94/376 /content/food-1/test/images/IMG_0594_JPG_jpg.rf.e879ae811230f28e549ba95c621b9271.jpg: 640x640 1 cabbage, 1 carrot, 1 onion, 6.4ms\n",
            "image 95/376 /content/food-1/test/images/IMG_0602_JPG_jpg.rf.bd4e01e21da09fd7d32baffb4cbc8398.jpg: 640x640 5 beets, 3 cucumbers, 6.4ms\n",
            "image 96/376 /content/food-1/test/images/IMG_0603_JPG_jpg.rf.12a7254b5eb163ea80052816bd406fa6.jpg: 640x640 4 beets, 2 cabbages, 3 cucumbers, 6.4ms\n",
            "image 97/376 /content/food-1/test/images/IMG_0608_JPG_jpg.rf.ab5e4ce4c44de667516789ece49101c6.jpg: 640x640 10 beets, 1 carrot, 2 cucumbers, 6.4ms\n",
            "image 98/376 /content/food-1/test/images/IMG_0614_JPG_jpg.rf.05fa0c136d53721c0de769bdd6fc2b53.jpg: 640x640 1 cabbage, 8.3ms\n",
            "image 99/376 /content/food-1/test/images/IMG_0617_JPG_jpg.rf.66a6257ffedfd67aab30be9a1cd9a4bd.jpg: 640x640 1 cabbage, 1 eggplant, 1 zucchini, 8.7ms\n",
            "image 100/376 /content/food-1/test/images/IMG_0624_JPG_jpg.rf.6062fe0077c4421a6b5f70e1e770421b.jpg: 640x640 3 cabbages, 1 carrot, 1 eggplant, 1 onion, 10 tomatos, 1 zucchini, 8.7ms\n",
            "image 101/376 /content/food-1/test/images/IMG_0629_JPG_jpg.rf.5ac94d8e40ae6bd68ad13cd1aa52d9df.jpg: 640x640 1 bell_pepper, 1 cabbage, 2 eggs, 8 tomatos, 1 zucchini, 8.1ms\n",
            "image 102/376 /content/food-1/test/images/IMG_0682_JPG_jpg.rf.08aaa16ffb7366cf7fc509f8a25f7616.jpg: 640x640 4 cabbages, 3 carrots, 2 eggplants, 3 onions, 8.1ms\n",
            "image 103/376 /content/food-1/test/images/IMG_0682_JPG_jpg.rf.41871dfe98acbc6e0f239d4a5e41da4a.jpg: 640x640 1 cabbage, 3 carrots, 1 egg, 1 onion, 4 tomatos, 2 zucchinis, 8.6ms\n",
            "image 104/376 /content/food-1/test/images/IMG_0757_JPG_jpg.rf.74f7455cbfd01d5928262bb573cefb12.jpg: 640x640 1 cabbage, 8.4ms\n",
            "image 105/376 /content/food-1/test/images/IMG_0763_JPG_jpg.rf.ab2afa4f84ec7cde8012cc2a8e0454af.jpg: 640x640 2 cabbages, 6 carrots, 9.3ms\n",
            "image 106/376 /content/food-1/test/images/IMG_0806_JPG_jpg.rf.554a56bd99b9f35640779ad80ec7a1e6.jpg: 640x640 2 cabbages, 2 carrots, 1 eggplant, 1 onion, 8.6ms\n",
            "image 107/376 /content/food-1/test/images/IMG_0807_JPG_jpg.rf.741cf0fe83958f7aae3ea3da472bfb3b.jpg: 640x640 1 cabbage, 2 carrots, 1 eggplant, 2 onions, 8.5ms\n",
            "image 108/376 /content/food-1/test/images/IMG_0811_JPG_jpg.rf.f41fc0e31865cd2465e2a88b00957ca8.jpg: 640x640 2 cabbages, 3 carrots, 1 eggplant, 2 onions, 7.8ms\n",
            "image 109/376 /content/food-1/test/images/IMG_0812_JPG_jpg.rf.a60b6aecd549b4f792908db20b59cd86.jpg: 640x640 4 cabbages, 4 carrots, 2 eggplants, 4 onions, 7.0ms\n",
            "image 110/376 /content/food-1/test/images/IMG_0818_JPG_jpg.rf.c8c06c1287da5ba8978ec524ca93fdc0.jpg: 640x640 1 cabbage, 1 carrot, 1 eggplant, 2 onions, 6.4ms\n",
            "image 111/376 /content/food-1/test/images/IMG_0825_JPG_jpg.rf.b3470048c893f2d81bc876973f3812f3.jpg: 640x640 3 cabbages, 5 carrots, 1 eggplant, 2 onions, 7.2ms\n",
            "image 112/376 /content/food-1/test/images/IMG_0831_JPG_jpg.rf.44c4ae1c90bb1d5365065196fcc61b42.jpg: 640x640 2 cabbages, 3 carrots, 1 eggplant, 4 onions, 6.8ms\n",
            "image 113/376 /content/food-1/test/images/IMG_0834_JPG_jpg.rf.7598811c96cd532ff3474ac5baa393c3.jpg: 640x640 1 cabbage, 2 carrots, 1 egg, 2 eggplants, 3 onions, 7.0ms\n",
            "image 114/376 /content/food-1/test/images/IMG_0835_JPG_jpg.rf.5093290bb5934c301570f73d03014f19.jpg: 640x640 3 cabbages, 1 egg, 1 onion, 6.5ms\n",
            "image 115/376 /content/food-1/test/images/IMG_0835_JPG_jpg.rf.d0b612acfd091135aff8ff5959f60be9.jpg: 640x640 1 cabbage, 3 carrots, 1 egg, 2 eggplants, 3 onions, 6.4ms\n",
            "image 116/376 /content/food-1/test/images/IMG_0837_JPG_jpg.rf.a29de3b4a95898ed5882fc4db6da8a3b.jpg: 640x640 2 cabbages, 1 carrot, 1 egg, 1 eggplant, 1 garlic, 4 onions, 7.2ms\n",
            "image 117/376 /content/food-1/test/images/IMG_0839_JPG_jpg.rf.18da8edcaecde27f2584c02d706a3af5.jpg: 640x640 2 cabbages, 1 carrot, 1 onion, 6.8ms\n",
            "image 118/376 /content/food-1/test/images/IMG_0841_JPG_jpg.rf.1bf94db3c77949c1f7576cda3dd7dcac.jpg: 640x640 2 cabbages, 1 carrot, 1 eggplant, 1 onion, 7.1ms\n",
            "image 119/376 /content/food-1/test/images/IMG_0842_JPG_jpg.rf.dbf0b116f3a44b0665fee9ca1a5a6d65.jpg: 640x640 2 cabbages, 3 carrots, 1 eggplant, 1 onion, 6.4ms\n",
            "image 120/376 /content/food-1/test/images/IMG_20230909_125452_jpg.rf.ef5fca786ddbff4064808de8f25676c4.jpg: 640x640 2 cabbages, 2 eggs, 6.5ms\n",
            "image 121/376 /content/food-1/test/images/IMG_20230909_125500_jpg.rf.768dbf51e6939f1fb12c59352c235db9.jpg: 640x640 1 egg, 7.9ms\n",
            "image 122/376 /content/food-1/test/images/IMG_20230909_125520_jpg.rf.727a3ec34eed517c778af7238b925fc2.jpg: 640x640 1 egg, 6.5ms\n",
            "image 123/376 /content/food-1/test/images/IMG_20230909_201040__01_jpg.rf.14ceff76acd0e6c3cf4fa0f2a9f9efc8.jpg: 640x640 1 cabbage, 1 egg, 8 tomatos, 1 zucchini, 6.5ms\n",
            "image 124/376 /content/food-1/test/images/IMG_20230909_201040__01_jpg.rf.54bbeb6e483a81c837cd9982db8f4bc3.jpg: 640x640 2 cabbages, 1 carrot, 2 eggs, 2 eggplants, 6.5ms\n",
            "image 125/376 /content/food-1/test/images/IMG_3649_JPEG_jpg.rf.6cf774c5ec0612bbdc887883504257f5.jpg: 640x640 1 cabbage, 1 carrot, 2 eggplants, 2 onions, 6.5ms\n",
            "image 126/376 /content/food-1/test/images/IMG_3650_JPEG_jpg.rf.e985870ba15d106e1583764fe44a767c.jpg: 640x640 1 cabbage, 1 carrot, 3 eggplants, 2 onions, 7.4ms\n",
            "image 127/376 /content/food-1/test/images/IMG_3655_JPEG_jpg.rf.db17a6e89ad0a29b386d03d6395952c1.jpg: 640x640 1 cabbage, 2 carrots, 1 egg, 2 eggplants, 1 onion, 7.3ms\n",
            "image 128/376 /content/food-1/test/images/IMG_3665_JPEG_jpg.rf.c8c30a83cb0680a207bc369dcf3986db.jpg: 640x640 2 cabbages, 1 carrot, 2 eggs, 1 eggplant, 3 onions, 6.6ms\n",
            "image 129/376 /content/food-1/test/images/IMG_3666_JPEG_jpg.rf.f032dda192870d7186efd6a64cac85fe.jpg: 640x640 2 bell_peppers, 2 onions, 1 potato, 1 tomato, 7.1ms\n",
            "image 130/376 /content/food-1/test/images/IMG_3679_jpg.rf.d52f594e6222d350f8f36341e1ca7625.jpg: 640x640 1 cabbage, 2 carrots, 3 eggplants, 1 onion, 6.5ms\n",
            "image 131/376 /content/food-1/test/images/IMG_3687_jpg.rf.45ccc20044a59ae51d598cba61cf7d2e.jpg: 640x640 1 cabbage, 2 carrots, 5 eggplants, 1 onion, 6.5ms\n",
            "image 132/376 /content/food-1/test/images/IMG_3693_jpg.rf.018af9002872f2763c786bcfb2249d6e.jpg: 640x640 1 cabbage, 2 carrots, 2 eggplants, 1 onion, 3 potatos, 6.5ms\n",
            "image 133/376 /content/food-1/test/images/IMG_7543_jpg.rf.feeea0e1d49ad4d000d43f3555640af5.jpg: 640x640 1 bell_pepper, 3 carrots, 5 tomatos, 1 zucchini, 6.5ms\n",
            "image 134/376 /content/food-1/test/images/IMG_7594_jpg.rf.b1a29a87c700edf2fa7b4b249593684a.jpg: 640x640 1 bell_pepper, 1 tomato, 7.3ms\n",
            "image 135/376 /content/food-1/test/images/IMG_7620_jpg.rf.5885023f26a220a6b70264d0b664a148.jpg: 640x640 2 bell_peppers, 2 eggs, 5 eggplants, 1 zucchini, 6.5ms\n",
            "image 136/376 /content/food-1/test/images/IMG_8409-1-_JPG_jpg.rf.343cc7a348c444b193175d8c1992936d.jpg: 640x640 1 cabbage, 1 zucchini, 10.4ms\n",
            "image 137/376 /content/food-1/test/images/IMG_8431-1-_JPG_jpg.rf.331e2729f8c834ab699b96027817152c.jpg: 640x640 3 bell_peppers, 2 carrots, 1 cucumber, 2 potatos, 1 tomato, 6.6ms\n",
            "image 138/376 /content/food-1/test/images/IMG_8490-1-_JPG_jpg.rf.98df2d2567356b2db11ced8d3aadbf5f.jpg: 640x640 4 bell_peppers, 1 cabbage, 2 carrots, 1 cucumber, 2 onions, 6.5ms\n",
            "image 139/376 /content/food-1/test/images/IMG_8505-1-_JPG_jpg.rf.fcd75e00d4b58dae31596cf966f5dd8f.jpg: 640x640 1 bell_pepper, 1 tomato, 6.5ms\n",
            "image 140/376 /content/food-1/test/images/IMG_8538-1-_JPG_jpg.rf.5a1ab15af55bed203dfdca319a715dde.jpg: 640x640 1 bell_pepper, 2 carrots, 1 zucchini, 6.5ms\n",
            "image 141/376 /content/food-1/test/images/Image_13_JPG_jpg.rf.c30a98503cf15c52c100bdad68447455.jpg: 640x640 2 bell_peppers, 4 cucumbers, 6 eggs, 3 onions, 1 tomato, 9.7ms\n",
            "image 142/376 /content/food-1/test/images/Image_13_jpg.rf.8730cee75e7d48897d672c37b3b60a37.jpg: 640x640 5 beets, 11.2ms\n",
            "image 143/376 /content/food-1/test/images/Image_15_jpg.rf.b8d79beb22efaade382bb0eb47941e36.jpg: 640x640 4 cucumbers, 6.6ms\n",
            "image 144/376 /content/food-1/test/images/Image_16_jpg.rf.ca05ad4e5b59c161990dcd125e2f1dbe.jpg: 640x640 2 carrots, 2 cucumbers, 6.6ms\n",
            "image 145/376 /content/food-1/test/images/Image_17_jpg.rf.3a15356f15e99cce820e82ca71b30af4.jpg: 640x640 2 beets, 2 bell_peppers, 8 cucumbers, 2 eggplants, 2 tomatos, 6.6ms\n",
            "image 146/376 /content/food-1/test/images/Image_17_jpg.rf.66de4b373a74c66cc5eb5a50650e3a2e.jpg: 640x640 3 beets, 6.6ms\n",
            "image 147/376 /content/food-1/test/images/Image_19_jpg.rf.c928cd76b43dd53216858e64dfe88789.jpg: 640x640 7 cucumbers, 1 onion, 6.6ms\n",
            "image 148/376 /content/food-1/test/images/Image_20_jpg.rf.822a7ddffc04a44fb2d49639c135b388.jpg: 640x640 1 beet, 1 bell_pepper, 1 egg, 1 potato, 1 tomato, 7.6ms\n",
            "image 149/376 /content/food-1/test/images/Image_22_jpg.rf.812dd3a8645337b86a9731636c9ed9ba.jpg: 640x640 4 beets, 7 cucumbers, 2 onions, 8.1ms\n",
            "image 150/376 /content/food-1/test/images/Image_23_jpg.rf.67e903b98dbbf8baaa268963d48140c1.jpg: 640x640 10 beets, 8.2ms\n",
            "image 151/376 /content/food-1/test/images/Image_26_jpg.rf.034ecb17ecbc29ea9e7fe09a068fa10b.jpg: 640x640 5 beets, 8.0ms\n",
            "image 152/376 /content/food-1/test/images/Image_2_jpg.rf.311c713672bfc006d45a471a42aac415.jpg: 640x640 6 beets, 1 cabbage, 4 onions, 8.5ms\n",
            "image 153/376 /content/food-1/test/images/Image_34_jpg.rf.c1f1351905bc7f1b2bf2e315126df991.jpg: 640x640 4 beets, 8.6ms\n",
            "image 154/376 /content/food-1/test/images/Image_36_jpeg_jpg.rf.26e140450a995b86651cc853f06f3874.jpg: 640x640 9 cucumbers, 8.9ms\n",
            "image 155/376 /content/food-1/test/images/Image_36_jpg.rf.f5fee2df3d6825aac9bd274bcecb463e.jpg: 640x640 2 cabbages, 1 onion, 8.6ms\n",
            "image 156/376 /content/food-1/test/images/Image_37_jpg.rf.fb8b5412e8a10509966bde9343264377.jpg: 640x640 2 beets, 3 cucumbers, 1 zucchini, 8.0ms\n",
            "image 157/376 /content/food-1/test/images/Image_3_jpg.rf.8ad4efc9f2f20dc42d6b061549a09b0a.jpg: 640x640 1 beet, 1 cabbage, 1 carrot, 10 cucumbers, 9.2ms\n",
            "image 158/376 /content/food-1/test/images/Image_40_jpg.rf.0ad864df6e3fd879f891e3c6181cf7a0.jpg: 640x640 1 cabbage, 6 cucumbers, 1 zucchini, 7.0ms\n",
            "image 159/376 /content/food-1/test/images/Image_41_jpg.rf.cfa45ce9882af3a55d5cd29eff2102cd.jpg: 640x640 1 beet, 6 cucumbers, 6.8ms\n",
            "image 160/376 /content/food-1/test/images/Image_47_jpg.rf.1a79560d354674e25ba7126a086307ee.jpg: 640x640 6 cucumbers, 6.7ms\n",
            "image 161/376 /content/food-1/test/images/Image_49_jpg.rf.5d32c00be1f114ec8589c7c6330cea7a.jpg: 640x640 1 beet, 9 cucumbers, 6.7ms\n",
            "image 162/376 /content/food-1/test/images/Image_4_jpg.rf.35de0c11f08f28c4e47bfee5117518e3.jpg: 640x640 10 cucumbers, 8.4ms\n",
            "image 163/376 /content/food-1/test/images/Image_54_png_jpg.rf.7c3f8f5ae4a487b37fe6cf6dee9ce3f6.jpg: 640x640 3 cucumbers, 6.7ms\n",
            "image 164/376 /content/food-1/test/images/Image_56_jpg.rf.7e93ec4c12a3b688cbba5483836b38a0.jpg: 640x640 8 cucumbers, 6.7ms\n",
            "image 165/376 /content/food-1/test/images/Image_69_jpg.rf.74135f28fbcb018ec5faf23e8126fc9b.jpg: 640x640 4 beets, 2 cucumbers, 6.7ms\n",
            "image 166/376 /content/food-1/test/images/Image_72_jpg.rf.59c1a90adf4c8fa69f57c1cd423599e1.jpg: 640x640 21 cucumbers, 6.7ms\n",
            "image 167/376 /content/food-1/test/images/Image_78_jpg.rf.98b6386a0168d9bad771739acb240cfe.jpg: 640x640 3 cucumbers, 7.5ms\n",
            "image 168/376 /content/food-1/test/images/Image_7_jpg.rf.24c3ac0728b732d56e7f94f1fd6cdd3b.jpg: 640x640 4 beets, 1 cabbage, 2 cucumbers, 6.7ms\n",
            "image 169/376 /content/food-1/test/images/Image_80_jpeg_jpg.rf.5099ccac368418f1a93c1186833d6545.jpg: 640x640 8 cucumbers, 6.7ms\n",
            "image 170/376 /content/food-1/test/images/Image_87_jpg.rf.5b534674d19c2e05632bbfe1007a5fbb.jpg: 640x640 17 cucumbers, 7.6ms\n",
            "image 171/376 /content/food-1/test/images/Image_9_jpg.rf.6f3293695b4889a3fa9de028e48eec54.jpg: 640x640 3 beets, 1 bell_pepper, 2 cucumbers, 3 onions, 7.4ms\n",
            "image 172/376 /content/food-1/test/images/WhatsApp-Image-2023-09-10-at-5-23-42-PM_jpeg_jpg.rf.10958bf0095539a935ceb6f355aa0742.jpg: 640x640 1 egg, 1 tomato, 2 zucchinis, 6.7ms\n",
            "image 173/376 /content/food-1/test/images/WhatsApp-Image-2023-09-10-at-5-23-43-PM-2-_jpeg_jpg.rf.bd29c6f14f94c66d9dc52d1f15dfca95.jpg: 640x640 1 egg, 6.8ms\n",
            "image 174/376 /content/food-1/test/images/WhatsApp-Image-2023-09-10-at-5-23-47-PM_jpeg_jpg.rf.ad80bd8d7630e59dedea810f7d905a6d.jpg: 640x640 1 egg, 6.7ms\n",
            "image 175/376 /content/food-1/test/images/WhatsApp-Image-2023-09-10-at-5-23-52-PM-1-_jpeg_jpg.rf.8b224b663d9478adaeedfe09c51b191f.jpg: 640x640 1 cabbage, 1 egg, 2 zucchinis, 6.7ms\n",
            "image 176/376 /content/food-1/test/images/WhatsApp-Image-2023-09-10-at-5-23-53-PM_jpeg_jpg.rf.625e7f929bab2e2566ad284fa69d98cb.jpg: 640x640 1 egg, 6.7ms\n",
            "image 177/376 /content/food-1/test/images/WhatsApp-Image-2023-09-10-at-5-23-54-PM_jpeg_jpg.rf.35504efc775c4742b3ffcc7b9203fec1.jpg: 640x640 1 egg, 6.7ms\n",
            "image 178/376 /content/food-1/test/images/Zucchini_100_jpg.rf.d5f558c76f9f1491dfa606ae85b5118b.jpg: 640x640 9 zucchinis, 6.7ms\n",
            "image 179/376 /content/food-1/test/images/Zucchini_109_jpg.rf.96a252e86164a46e3ba06310843e0ef0.jpg: 640x640 1 zucchini, 6.7ms\n",
            "image 180/376 /content/food-1/test/images/Zucchini_109_jpg.rf.c594bb690664337912a096361e30d5e7.jpg: 640x640 1 zucchini, 7.8ms\n",
            "image 181/376 /content/food-1/test/images/Zucchini_10_jpg.rf.7ef26823e84f22021ffd57cf5533bc13.jpg: 640x640 1 cabbage, 1 egg, 1 eggplant, 3 potatos, 3 zucchinis, 6.7ms\n",
            "image 182/376 /content/food-1/test/images/Zucchini_118_jpg.rf.033764dc705bb678e38308af471c7882.jpg: 640x640 1 bell_pepper, 7 zucchinis, 6.3ms\n",
            "image 183/376 /content/food-1/test/images/Zucchini_118_jpg.rf.9f83bf1cb4450b02b710f3d0d8343ccd.jpg: 640x640 1 bell_pepper, 7 zucchinis, 6.2ms\n",
            "image 184/376 /content/food-1/test/images/Zucchini_119_jpg.rf.cb0e70bc0ed197ea915aec8012e9b881.jpg: 640x640 1 egg, 4 zucchinis, 11.6ms\n",
            "image 185/376 /content/food-1/test/images/Zucchini_120_jpg.rf.3aec83ce16a2f4554a13ddcc90fe01bd.jpg: 640x640 1 cabbage, 1 egg, 3 zucchinis, 6.6ms\n",
            "image 186/376 /content/food-1/test/images/Zucchini_123_jpg.rf.0eb9a47acbe62d0c821d4518c8f747d4.jpg: 640x640 1 zucchini, 6.2ms\n",
            "image 187/376 /content/food-1/test/images/Zucchini_124_jpg.rf.e3321e634565b0915a46dd289546f847.jpg: 640x640 3 cucumbers, 1 onion, 6 zucchinis, 6.2ms\n",
            "image 188/376 /content/food-1/test/images/Zucchini_12_jpg.rf.28ebc6163c4ddde0cfc47e2053ea1606.jpg: 640x640 2 beets, 1 cabbage, 1 carrot, 1 onion, 5 zucchinis, 6.3ms\n",
            "image 189/376 /content/food-1/test/images/Zucchini_131_jpg.rf.db07b77ab8930aa3c90fbd4025fdc207.jpg: 640x640 3 onions, 3 tomatos, 4 zucchinis, 6.2ms\n",
            "image 190/376 /content/food-1/test/images/Zucchini_132_jpg.rf.4975934c84971fd734e5b178311d3d0f.jpg: 640x640 1 zucchini, 6.2ms\n",
            "image 191/376 /content/food-1/test/images/Zucchini_139_jpg.rf.394ce56cdd3ad77de12b8ddf85cd3ad1.jpg: 640x640 1 cabbage, 1 egg, 3 zucchinis, 6.2ms\n",
            "image 192/376 /content/food-1/test/images/Zucchini_150_jpg.rf.499a20497991a4935232f77a253d0d27.jpg: 640x640 1 tomato, 1 zucchini, 6.3ms\n",
            "image 193/376 /content/food-1/test/images/Zucchini_155_jpg.rf.0d42d9fea19a7eeebf73f7c3959fc39b.jpg: 640x640 1 cabbage, 1 onion, 3 zucchinis, 8.8ms\n",
            "image 194/376 /content/food-1/test/images/Zucchini_15_jpg.rf.f2ad96f92fe85de96bd845f6e57d1e7e.jpg: 640x640 1 bell_pepper, 1 cabbage, 1 egg, 1 garlic, 1 tomato, 1 zucchini, 6.3ms\n",
            "image 195/376 /content/food-1/test/images/Zucchini_174_jpg.rf.7b8e8d4323c7b63eed80406706863007.jpg: 640x640 3 zucchinis, 10.6ms\n",
            "image 196/376 /content/food-1/test/images/Zucchini_175_jpg.rf.6669ca2e599c55cdbf363b223057f30d.jpg: 640x640 3 eggs, 5 zucchinis, 6.4ms\n",
            "image 197/376 /content/food-1/test/images/Zucchini_179_jpg.rf.800189881594b84d422d4b7258a9238b.jpg: 640x640 (no detections), 6.7ms\n",
            "image 198/376 /content/food-1/test/images/Zucchini_189_jpg.rf.287d00c0ba4aae24ee7a91cae1801d7c.jpg: 640x640 1 zucchini, 6.3ms\n",
            "image 199/376 /content/food-1/test/images/Zucchini_37_jpg.rf.3704847c815bb270f6a47191b8ae05a8.jpg: 640x640 1 carrot, 1 potato, 1 tomato, 3 zucchinis, 6.9ms\n",
            "image 200/376 /content/food-1/test/images/Zucchini_38_jpg.rf.09a4e0a5782bbafb45a01ad3da614e32.jpg: 640x640 1 cabbage, 2 cucumbers, 5 zucchinis, 8.5ms\n",
            "image 201/376 /content/food-1/test/images/Zucchini_55_jpg.rf.606ea4209cd27f4f8307b1866fed79ff.jpg: 640x640 1 potato, 3 zucchinis, 10.2ms\n",
            "image 202/376 /content/food-1/test/images/_SAM4894_jpg.rf.11f4a3a57b810e2ca821e2d9193f0e55.jpg: 640x640 1 cabbage, 8.7ms\n",
            "image 203/376 /content/food-1/test/images/b-1312-_jpg.rf.019de6e8e0bce96b078b5cb5a17ac2e0.jpg: 640x640 1 annona, 2 apples, 2 bananas, 1 pitaya, 8.1ms\n",
            "image 204/376 /content/food-1/test/images/b-1332-_jpg.rf.b34d2d103a6045877f67420e3ec185e1.jpg: 640x640 1 annona, 2 apples, 2 bananas, 1 pitaya, 8.2ms\n",
            "image 205/376 /content/food-1/test/images/b-1340-_jpg.rf.1d336efd9f43ff992c99fdbd24735d7d.jpg: 640x640 1 annona, 2 apples, 2 bananas, 1 pitaya, 8.3ms\n",
            "image 206/376 /content/food-1/test/images/b-1341-_jpg.rf.d5eebbe3bf503a70333737df5d81faba.jpg: 640x640 1 annona, 2 apples, 2 bananas, 1 pitaya, 8.0ms\n",
            "image 207/376 /content/food-1/test/images/b-1364-_jpg.rf.560d3a55a2a191c1ecdabb5b02ca6ad1.jpg: 640x640 1 annona, 2 apples, 2 bananas, 1 pitaya, 8.4ms\n",
            "image 208/376 /content/food-1/test/images/b-1368-_jpg.rf.d31bd0a9df7ce3135e6774eef03b4426.jpg: 640x640 1 annona, 2 apples, 2 bananas, 1 pitaya, 11.1ms\n",
            "image 209/376 /content/food-1/test/images/b-1372-_jpg.rf.257fff1647ad6d1644f77b781b3659cb.jpg: 640x640 1 annona, 2 apples, 2 bananas, 1 pitaya, 8.4ms\n",
            "image 210/376 /content/food-1/test/images/b-1375-_jpg.rf.7afdc59ddc8d08a86f4b1b8e7a2a60ac.jpg: 640x640 1 annona, 2 apples, 2 bananas, 1 pitaya, 8.6ms\n",
            "image 211/376 /content/food-1/test/images/b-1377-_jpg.rf.3c474e4031c4ad53951f34459a804b97.jpg: 640x640 1 annona, 2 apples, 2 bananas, 1 pitaya, 8.2ms\n",
            "image 212/376 /content/food-1/test/images/b-1387-_jpg.rf.9acf3730e1ac93b7443836adf5989eec.jpg: 640x640 1 annona, 2 apples, 2 bananas, 1 pitaya, 8.3ms\n",
            "image 213/376 /content/food-1/test/images/b-1388-_jpg.rf.85209f016037e681b911ddff3df92fa9.jpg: 640x640 1 annona, 2 apples, 2 bananas, 1 pitaya, 6.4ms\n",
            "image 214/376 /content/food-1/test/images/b-1396-_jpg.rf.c7525e361946ee87ea97ebd7b8eca6a4.jpg: 640x640 1 annona, 2 apples, 2 bananas, 1 pitaya, 6.2ms\n",
            "image 215/376 /content/food-1/test/images/b-1401-_jpg.rf.32f8b0b47998b7f9a3bc7f3180e6f9e1.jpg: 640x640 1 annona, 2 apples, 2 bananas, 1 pitaya, 6.3ms\n",
            "image 216/376 /content/food-1/test/images/b-1434-_jpg.rf.c3dba84353c177385a82c55bf88c588d.jpg: 640x640 1 annona, 2 apples, 2 bananas, 1 pitaya, 6.3ms\n",
            "image 217/376 /content/food-1/test/images/b-1443-_jpg.rf.f4dd6721fb67fc55d4795a1a0a24ef19.jpg: 640x640 1 annona, 2 apples, 2 bananas, 1 pitaya, 7.3ms\n",
            "image 218/376 /content/food-1/test/images/b-1453-_jpg.rf.9199e3ff674fc058844b37bfd7efc7c8.jpg: 640x640 1 annona, 2 apples, 2 bananas, 1 pitaya, 6.3ms\n",
            "image 219/376 /content/food-1/test/images/b-1470-_jpg.rf.e6a858b491d0594fef1037dcf679adf7.jpg: 640x640 1 annona, 2 apples, 2 bananas, 1 pitaya, 6.3ms\n",
            "image 220/376 /content/food-1/test/images/b-1492-_jpg.rf.e978328ebabfd49ddddbe19dcde19781.jpg: 640x640 1 annona, 2 apples, 2 bananas, 1 pitaya, 6.2ms\n",
            "image 221/376 /content/food-1/test/images/b-1496-_jpg.rf.f6f74e160b155c83daa6227413c5b5b5.jpg: 640x640 1 annona, 2 apples, 2 bananas, 1 pitaya, 7.7ms\n",
            "image 222/376 /content/food-1/test/images/b-1503-_jpg.rf.901d90cb4ee6362355302f0f99143c8d.jpg: 640x640 1 annona, 1 apple, 2 bananas, 1 orange, 6.3ms\n",
            "image 223/376 /content/food-1/test/images/b-1505-_jpg.rf.a3a85f7c1a6b7e4fe3c473b4b11edbc4.jpg: 640x640 1 annona, 1 apple, 2 bananas, 1 orange, 6.2ms\n",
            "image 224/376 /content/food-1/test/images/b-1508-_jpg.rf.6b06a8867ff7aea895728fa49b1d3ee3.jpg: 640x640 1 annona, 1 apple, 2 bananas, 1 orange, 8.2ms\n",
            "image 225/376 /content/food-1/test/images/b-1512-_jpg.rf.1830500065f5396eabfa295895753b00.jpg: 640x640 1 annona, 1 apple, 2 bananas, 1 orange, 6.3ms\n",
            "image 226/376 /content/food-1/test/images/b-1526-_jpg.rf.1a5e8a24a39a88fa7d7eb3815ab2b1b6.jpg: 640x640 1 annona, 1 apple, 2 bananas, 1 orange, 7.8ms\n",
            "image 227/376 /content/food-1/test/images/b-1533-_jpg.rf.33106a4e757d0b741a03624ce54d6248.jpg: 640x640 1 annona, 1 apple, 2 bananas, 1 orange, 6.4ms\n",
            "image 228/376 /content/food-1/test/images/b-1543-_jpg.rf.7efb7dd5e3e4ed92926a408a1e71f583.jpg: 640x640 1 annona, 1 apple, 2 bananas, 1 orange, 6.2ms\n",
            "image 229/376 /content/food-1/test/images/b-1551-_jpg.rf.f3239b93c5006ae1217efdbfc4286cd5.jpg: 640x640 1 annona, 1 apple, 2 bananas, 1 orange, 6.3ms\n",
            "image 230/376 /content/food-1/test/images/b-1558-_jpg.rf.5a0fde4a8eb114331a2f405f67c4ba2a.jpg: 640x640 1 annona, 1 apple, 2 bananas, 1 orange, 7.5ms\n",
            "image 231/376 /content/food-1/test/images/b-1586-_jpg.rf.d736ee03c27e55cb347a031608000ef1.jpg: 640x640 1 annona, 1 apple, 2 bananas, 1 orange, 6.3ms\n",
            "image 232/376 /content/food-1/test/images/b-1587-_jpg.rf.09424c50749284a8a10ac21cc3fd3039.jpg: 640x640 1 annona, 1 apple, 2 bananas, 1 orange, 17.7ms\n",
            "image 233/376 /content/food-1/test/images/b-1624-_jpg.rf.f3a20c7b55f2e22e427c3a16719850ba.jpg: 640x640 1 annona, 1 apple, 2 bananas, 1 orange, 1 pear, 7.4ms\n",
            "image 234/376 /content/food-1/test/images/b-1632-_jpg.rf.284a84b22582e941b57105019a832022.jpg: 640x640 1 annona, 1 apple, 2 bananas, 1 orange, 6.2ms\n",
            "image 235/376 /content/food-1/test/images/b-1637-_jpg.rf.98b2286271e567a7102be3c61f6a75b2.jpg: 640x640 1 annona, 1 apple, 2 bananas, 1 pear, 6.3ms\n",
            "image 236/376 /content/food-1/test/images/b-1641-_jpg.rf.7a4e558df16443770b124663c1415c44.jpg: 640x640 1 annona, 1 apple, 2 bananas, 1 pear, 6.2ms\n",
            "image 237/376 /content/food-1/test/images/b-1652-_jpg.rf.4ae7dbaa0e1a32a8744c4197d19b4e55.jpg: 640x640 1 annona, 1 apple, 2 bananas, 2 oranges, 1 pear, 1 pineapple, 6.3ms\n",
            "image 238/376 /content/food-1/test/images/b-1662-_jpg.rf.4cf360d28d29c4853798f45d2a825caf.jpg: 640x640 1 annona, 2 bananas, 2 oranges, 6.7ms\n",
            "image 239/376 /content/food-1/test/images/b-1671-_jpg.rf.3bb8ab54dce7e4cae512c70a5cfdd866.jpg: 640x640 1 annona, 1 apple, 2 bananas, 1 orange, 7.8ms\n",
            "image 240/376 /content/food-1/test/images/b-1680-_jpg.rf.45d4fdcf60cd1fc4567663835b0fb285.jpg: 640x640 1 annona, 1 apple, 2 bananas, 1 orange, 6.3ms\n",
            "image 241/376 /content/food-1/test/images/b-1689-_jpg.rf.b0f07dcc211e248ee8fde39dc97b0555.jpg: 640x640 1 annona, 1 apple, 2 bananas, 1 orange, 6.3ms\n",
            "image 242/376 /content/food-1/test/images/b-1696-_jpg.rf.28773bd448969d55319c8b762df8918f.jpg: 640x640 1 annona, 1 apple, 2 bananas, 1 orange, 6.3ms\n",
            "image 243/376 /content/food-1/test/images/b-1710-_jpg.rf.03c6c3a85b2db83b45c6d65ca0e94931.jpg: 640x640 1 annona, 1 apple, 2 bananas, 1 orange, 7.5ms\n",
            "image 244/376 /content/food-1/test/images/b-1716-_jpg.rf.3b22c794bcdcd3dc277136011b507a94.jpg: 640x640 1 annona, 1 apple, 2 bananas, 1 orange, 11.5ms\n",
            "image 245/376 /content/food-1/test/images/b-1727-_jpg.rf.dc2e158fcb65743bfc3d76240a1d6705.jpg: 640x640 1 annona, 1 apple, 2 bananas, 1 orange, 6.3ms\n",
            "image 246/376 /content/food-1/test/images/b-1733-_jpg.rf.b45b214c870710e079c0e180a032a530.jpg: 640x640 1 annona, 1 apple, 2 bananas, 1 carrot, 1 orange, 6.3ms\n",
            "image 247/376 /content/food-1/test/images/b-1736-_jpg.rf.26f6154cf47a61b6fefcf1c053ef0680.jpg: 640x640 1 annona, 1 apple, 2 bananas, 2 carrots, 1 orange, 6.2ms\n",
            "image 248/376 /content/food-1/test/images/b-1746-_jpg.rf.2417e48ec1c1d52b364dd1cab1683bdc.jpg: 640x640 1 annona, 1 apple, 2 bananas, 1 orange, 8.7ms\n",
            "image 249/376 /content/food-1/test/images/b-1747-_jpg.rf.09709ffae0d0e61625adaa8334fb5cc3.jpg: 640x640 1 annona, 1 apple, 2 bananas, 1 orange, 11.1ms\n",
            "image 250/376 /content/food-1/test/images/b-1752-_jpg.rf.4752bc5854016bc6309b9171b94746f0.jpg: 640x640 1 annona, 1 apple, 2 bananas, 1 orange, 6.4ms\n",
            "image 251/376 /content/food-1/test/images/b-1754-_jpg.rf.37d12f63760bd5c1e9650a3d1d3c2121.jpg: 640x640 1 annona, 1 apple, 2 bananas, 1 orange, 6.3ms\n",
            "image 252/376 /content/food-1/test/images/b-1761-_jpg.rf.3e7d50ab9127d4046d8d9867d50b28fe.jpg: 640x640 1 annona, 1 apple, 2 bananas, 1 orange, 8.7ms\n",
            "image 253/376 /content/food-1/test/images/b-1786-_jpg.rf.8aa6e1147a4d1cb9b2cd6fecae72d194.jpg: 640x640 1 annona, 1 apple, 2 bananas, 1 orange, 8.7ms\n",
            "image 254/376 /content/food-1/test/images/b-1793-_jpg.rf.00a5627973241caddcf66694945fab54.jpg: 640x640 1 annona, 1 apple, 2 bananas, 1 orange, 8.9ms\n",
            "image 255/376 /content/food-1/test/images/b-1801-_jpg.rf.fa3fd0a7d9fab2a8b4a162c45765323e.jpg: 640x640 1 annona, 2 bananas, 1 pear, 8.8ms\n",
            "image 256/376 /content/food-1/test/images/b-1812-_jpg.rf.d677877c885ac93b8fa9e0ccb3a8a7ad.jpg: 640x640 1 annona, 2 bananas, 1 pear, 8.7ms\n",
            "image 257/376 /content/food-1/test/images/b-1813-_jpg.rf.d82ba5e8afb32596408006778bac8f55.jpg: 640x640 1 annona, 2 bananas, 1 pear, 11.5ms\n",
            "image 258/376 /content/food-1/test/images/b-1824-_jpg.rf.c3b2076ae6b63de559e3a428a465c11d.jpg: 640x640 1 annona, 2 bananas, 1 pear, 8.7ms\n",
            "image 259/376 /content/food-1/test/images/b-1837-_jpg.rf.7b7566dfbacdca4a02a87e8615ccf0ba.jpg: 640x640 1 annona, 2 bananas, 1 pear, 9.5ms\n",
            "image 260/376 /content/food-1/test/images/b-1857-_jpg.rf.cc5bcffa2d223dcfa4cc302a0c71e092.jpg: 640x640 1 annona, 2 bananas, 1 orange, 8.7ms\n",
            "image 261/376 /content/food-1/test/images/b-1862-_jpg.rf.ab49253baac32e1fc567e62e60074698.jpg: 640x640 1 annona, 2 bananas, 1 orange, 8.3ms\n",
            "image 262/376 /content/food-1/test/images/b-1880-_jpg.rf.2ff5c9ff35b7f342e9acce2703ae20ec.jpg: 640x640 1 annona, 2 bananas, 1 orange, 1 pear, 9.2ms\n",
            "image 263/376 /content/food-1/test/images/b-1885-_jpg.rf.078b7fab6f7dcb93409223047580483b.jpg: 640x640 1 banana, 1 orange, 1 pear, 1 pineapple, 1 pitaya, 6.2ms\n",
            "image 264/376 /content/food-1/test/images/b-1896-_jpg.rf.4c009d13796948157173fef5d2ec5ea0.jpg: 640x640 1 banana, 1 pear, 1 pineapple, 1 pitaya, 6.3ms\n",
            "image 265/376 /content/food-1/test/images/b-1914-_jpg.rf.90549c2fcee97566766e757f171fe521.jpg: 640x640 1 banana, 1 pear, 1 pineapple, 1 pitaya, 6.4ms\n",
            "image 266/376 /content/food-1/test/images/b-1923-_jpg.rf.fd764e61a772fab64518d2ba5df146ef.jpg: 640x640 1 banana, 1 pear, 1 pineapple, 1 pitaya, 6.8ms\n",
            "image 267/376 /content/food-1/test/images/b-1937-_jpg.rf.dc153527ef20a3fd2c455324b2022acd.jpg: 640x640 1 banana, 1 pear, 1 pineapple, 1 pitaya, 6.3ms\n",
            "image 268/376 /content/food-1/test/images/b-1953-_jpg.rf.af592df61c7a15bf308678845e292e3e.jpg: 640x640 1 banana, 1 pear, 1 pineapple, 1 pitaya, 8.2ms\n",
            "image 269/376 /content/food-1/test/images/b-1964-_jpg.rf.d3182dc8b50fc8b4bbaddc007357a780.jpg: 640x640 1 banana, 1 pear, 1 pineapple, 1 pitaya, 6.3ms\n",
            "image 270/376 /content/food-1/test/images/b-1972-_jpg.rf.2e60702de44f72106296375d965b2b91.jpg: 640x640 1 banana, 1 pear, 1 pineapple, 1 pitaya, 6.3ms\n",
            "image 271/376 /content/food-1/test/images/b-2004-_jpg.rf.46678ce6fdc344b3fee0b4f043469751.jpg: 640x640 1 banana, 1 pear, 1 pineapple, 1 pitaya, 6.2ms\n",
            "image 272/376 /content/food-1/test/images/bell-pepper-turning-red_137_jpg.rf.ad191dcf6c0d2a1f3b78104b04a162ab.jpg: 640x640 5 bell_peppers, 2 cabbages, 3 zucchinis, 8.9ms\n",
            "image 273/376 /content/food-1/test/images/bell-pepper-turning-red_219_jpg.rf.4989464207302fcb13de89829ff4661c.jpg: 640x640 1 bell_pepper, 10.0ms\n",
            "image 274/376 /content/food-1/test/images/bell-pepper-turning-red_262_jpg.rf.e08104a978f2aab71a5df49dca38dd60.jpg: 640x640 1 bell_pepper, 2 eggs, 3 tomatos, 9.5ms\n",
            "image 275/376 /content/food-1/test/images/bell-pepper-turning-red_391_jpg.rf.1679d7f1018ef2136bf7f487e98ad0f7.jpg: 640x640 2 bell_peppers, 8.9ms\n",
            "image 276/376 /content/food-1/test/images/bell-pepper-turning-red_6_jpg.rf.a8b0e465d65a1dee99a1405bcbc9e21f.jpg: 640x640 5 bell_peppers, 1 cabbage, 3 eggs, 2 onions, 15.5ms\n",
            "image 277/376 /content/food-1/test/images/bell-pepper-turning-red_78_jpg.rf.6ccb14787421c7afdd2e0706409203a9.jpg: 640x640 7 bell_peppers, 4 eggs, 11.5ms\n",
            "image 278/376 /content/food-1/test/images/c-104-_jpg.rf.a9778234cb93cbe5b05f16ba7ee59925.jpg: 640x640 1 banana, 1 orange, 1 pear, 1 pineapple, 1 pitaya, 9.3ms\n",
            "image 279/376 /content/food-1/test/images/c-111-_jpg.rf.b5892346faf596c4c0983c83889dd1bc.jpg: 640x640 1 banana, 1 orange, 1 pear, 1 pineapple, 1 pitaya, 9.9ms\n",
            "image 280/376 /content/food-1/test/images/c-119-_jpg.rf.ce1672615ea433ca3b173a197138697a.jpg: 640x640 1 banana, 1 orange, 1 pear, 1 pineapple, 1 pitaya, 10.1ms\n",
            "image 281/376 /content/food-1/test/images/c-12-_jpg.rf.f4fd6f42af92a0a23e67aa221b5d865f.jpg: 640x640 1 banana, 1 orange, 1 pear, 1 pineapple, 1 pitaya, 8.4ms\n",
            "image 282/376 /content/food-1/test/images/c-129-_jpg.rf.ad1340cc5b027fb016535d493fab185c.jpg: 640x640 1 annona, 1 banana, 1 pear, 1 pineapple, 1 pitaya, 7.7ms\n",
            "image 283/376 /content/food-1/test/images/c-154-_jpg.rf.fe91824be9ae03041b23863cdb3ab148.jpg: 640x640 1 annona, 1 banana, 1 pear, 1 pineapple, 1 pitaya, 7.7ms\n",
            "image 284/376 /content/food-1/test/images/c-170-_jpg.rf.104d97eaef5e2d59682bdb401be8b78d.jpg: 640x640 1 banana, 1 pear, 1 pineapple, 1 pitaya, 7.8ms\n",
            "image 285/376 /content/food-1/test/images/c-171-_jpg.rf.2bd7d03c1727ee15b2d0e4ea17f34395.jpg: 640x640 1 banana, 1 pear, 1 pineapple, 1 pitaya, 7.9ms\n",
            "image 286/376 /content/food-1/test/images/c-18-_jpg.rf.ca83e3e0c5a634dcf03174a3fe1db8ee.jpg: 640x640 1 banana, 1 orange, 1 pear, 1 pineapple, 1 pitaya, 7.9ms\n",
            "image 287/376 /content/food-1/test/images/c-187-_jpg.rf.9b704cebc9d8c59690af892848eac753.jpg: 640x640 1 annona, 1 banana, 1 orange, 1 pear, 1 pineapple, 1 pitaya, 7.9ms\n",
            "image 288/376 /content/food-1/test/images/c-192-_jpg.rf.f1610f5962fa43fa3e58a43275727984.jpg: 640x640 1 annona, 1 banana, 1 orange, 1 pear, 1 pineapple, 1 pitaya, 7.8ms\n",
            "image 289/376 /content/food-1/test/images/c-196-_jpg.rf.0281dc65b55db027393add31d0d534f7.jpg: 640x640 1 annona, 1 banana, 1 pear, 1 pineapple, 1 pitaya, 8.1ms\n",
            "image 290/376 /content/food-1/test/images/c-197-_jpg.rf.b97aac3964a83a18a0eb5dc55c05b7da.jpg: 640x640 1 annona, 1 banana, 1 pear, 1 pineapple, 1 pitaya, 9.9ms\n",
            "image 291/376 /content/food-1/test/images/c-218-_jpg.rf.dbc9961ce2c73d8af5f7041f76767bf0.jpg: 640x640 1 annona, 1 banana, 1 pear, 1 pineapple, 1 pitaya, 7.8ms\n",
            "image 292/376 /content/food-1/test/images/c-235-_jpg.rf.0ef68b8aad9202323cecc86e03933eb1.jpg: 640x640 1 annona, 1 banana, 1 orange, 1 pineapple, 1 pitaya, 7.9ms\n",
            "image 293/376 /content/food-1/test/images/c-239-_jpg.rf.26d9674d807618cc9176475b0c839ed3.jpg: 640x640 1 annona, 1 banana, 1 orange, 1 pineapple, 1 pitaya, 7.8ms\n",
            "image 294/376 /content/food-1/test/images/c-259-_jpg.rf.0f6b7c70653b543b938836bafb41b58e.jpg: 640x640 1 annona, 1 banana, 1 guava, 1 pear, 1 pineapple, 1 pitaya, 12.1ms\n",
            "image 295/376 /content/food-1/test/images/c-275-_jpg.rf.02f05c9fe79dc5408489a942cf231541.jpg: 640x640 1 annona, 1 banana, 1 pear, 1 pineapple, 1 pitaya, 10.8ms\n",
            "image 296/376 /content/food-1/test/images/c-293-_jpg.rf.670d2beb9b3e4570604b927c111bbc3c.jpg: 640x640 1 banana, 2 pears, 1 pineapple, 1 pitaya, 9.6ms\n",
            "image 297/376 /content/food-1/test/images/c-299-_jpg.rf.3e9888c421974c2eb79f580ced920d00.jpg: 640x640 1 banana, 2 pears, 1 pineapple, 1 pitaya, 10.4ms\n",
            "image 298/376 /content/food-1/test/images/c-30-_jpg.rf.88f31a160050bc6d23cde528f4113864.jpg: 640x640 1 banana, 1 orange, 1 pear, 1 pineapple, 1 pitaya, 9.1ms\n",
            "image 299/376 /content/food-1/test/images/c-31-_jpg.rf.7d1b899e46707f77dd1d3af07d7587f0.jpg: 640x640 1 banana, 1 orange, 1 pear, 1 pineapple, 1 pitaya, 9.5ms\n",
            "image 300/376 /content/food-1/test/images/c-319-_jpg.rf.f4fdff2f11e388da1173c1ae6923d77d.jpg: 640x640 1 banana, 2 pears, 1 pineapple, 1 pitaya, 12.5ms\n",
            "image 301/376 /content/food-1/test/images/c-327-_jpg.rf.756e71998ae074d05663d1f8f76ab9c9.jpg: 640x640 1 banana, 2 pears, 1 pineapple, 1 pitaya, 9.2ms\n",
            "image 302/376 /content/food-1/test/images/c-333-_jpg.rf.ee846ff6467c2d12c597f81cb0c7f125.jpg: 640x640 1 banana, 2 pears, 1 pineapple, 1 pitaya, 7.5ms\n",
            "image 303/376 /content/food-1/test/images/c-334-_jpg.rf.2836defea19534b6002ae31644048aa6.jpg: 640x640 1 banana, 2 pears, 1 pineapple, 1 pitaya, 7.2ms\n",
            "image 304/376 /content/food-1/test/images/c-34-_jpg.rf.6eed43c605a61fb49d0993e3dbee5374.jpg: 640x640 1 banana, 1 orange, 1 pear, 1 pineapple, 1 pitaya, 7.3ms\n",
            "image 305/376 /content/food-1/test/images/c-340-_jpg.rf.7c9e5e194bd248628e39bbd2d90384db.jpg: 640x640 1 banana, 2 pears, 1 pineapple, 1 pitaya, 9.9ms\n",
            "image 306/376 /content/food-1/test/images/c-352-_jpg.rf.966a6a4272060bb6323e56f197895b72.jpg: 640x640 1 banana, 2 pears, 1 pineapple, 1 pitaya, 7.4ms\n",
            "image 307/376 /content/food-1/test/images/c-362-_jpg.rf.d8c484642829eb15ab40f6d17e0d92f3.jpg: 640x640 1 carrot, 1 guava, 2 pears, 1 pineapple, 1 potato, 1 tomato, 8.1ms\n",
            "image 308/376 /content/food-1/test/images/c-382-_jpg.rf.fc71385cb5846405bfd571829305812d.jpg: 640x640 1 guava, 2 pears, 1 pineapple, 7.3ms\n",
            "image 309/376 /content/food-1/test/images/c-41-_jpg.rf.877652dfa6a4be8d5be564a0adb7735f.jpg: 640x640 1 banana, 1 orange, 1 pear, 1 pineapple, 1 pitaya, 10.1ms\n",
            "image 310/376 /content/food-1/test/images/c-410-_jpg.rf.2586540640416a82f39fea9b3e829440.jpg: 640x640 1 apple, 1 banana, 1 onion, 1 tomato, 7.9ms\n",
            "image 311/376 /content/food-1/test/images/c-42-_jpg.rf.0e2b05f6d7f8deea437b7adc6da5847c.jpg: 640x640 1 banana, 1 orange, 1 pear, 1 pineapple, 1 pitaya, 13.0ms\n",
            "image 312/376 /content/food-1/test/images/c-420-_jpg.rf.30241feea96a07086b9fb6684cb00bc6.jpg: 640x640 1 annona, 1 apple, 1 banana, 1 onion, 9.1ms\n",
            "image 313/376 /content/food-1/test/images/c-423-_jpg.rf.a1369b5ddec1e102bb41ef581caf0887.jpg: 640x640 1 annona, 1 banana, 1 carrot, 13.1ms\n",
            "image 314/376 /content/food-1/test/images/c-459-_jpg.rf.f99b9fb05ae7cddadd0870054a37ba01.jpg: 640x640 1 egg, 1 onion, 1 pitaya, 12.7ms\n",
            "image 315/376 /content/food-1/test/images/c-460-_jpg.rf.61f88f980a4a8e698c93209af2fdb42d.jpg: 640x640 1 apple, 1 carrot, 1 pitaya, 10.8ms\n",
            "image 316/376 /content/food-1/test/images/c-47-_jpg.rf.f9dcd51a233b6637eec7ce6d16c2927d.jpg: 640x640 1 banana, 1 orange, 1 pear, 1 pineapple, 1 pitaya, 12.1ms\n",
            "image 317/376 /content/food-1/test/images/c-494-_jpg.rf.a84fcc839cfbc48ac65222e626dc13b4.jpg: 640x640 2 eggs, 1 pitaya, 8.7ms\n",
            "image 318/376 /content/food-1/test/images/c-497-_jpg.rf.4e6f1e51bde1f3645a056b8268ac5b9f.jpg: 640x640 1 carrot, 2 onions, 1 pitaya, 12.1ms\n",
            "image 319/376 /content/food-1/test/images/c-542-_jpg.rf.e9b7baf47a40efed133e4fc42ec3c52d.jpg: 640x640 2 eggs, 1 onion, 1 pitaya, 12.0ms\n",
            "image 320/376 /content/food-1/test/images/c-550-_jpg.rf.984c586f36b03e9fda01e204e67f6a74.jpg: 640x640 1 egg, 1 onion, 1 pitaya, 11.6ms\n",
            "image 321/376 /content/food-1/test/images/c-64-_jpg.rf.86341e29c9e737e041868de64a0449ea.jpg: 640x640 1 banana, 2 guavas, 1 pear, 1 pineapple, 1 pitaya, 8.0ms\n",
            "image 322/376 /content/food-1/test/images/c-71-_jpg.rf.42bbd86302b6d3f61afec32e81053a04.jpg: 640x640 1 banana, 2 guavas, 1 pear, 1 pineapple, 1 pitaya, 11.2ms\n",
            "image 323/376 /content/food-1/test/images/c-86-_jpg.rf.1cc9725bc0e9a6e1893623271a47808e.jpg: 640x640 1 banana, 1 orange, 1 pear, 1 pineapple, 1 pitaya, 8.4ms\n",
            "image 324/376 /content/food-1/test/images/cabbage-20-344-_jpg.rf.7f5e0ac10986b53404c974dceefed33b.jpg: 640x640 2 bell_peppers, 2 cabbages, 4 eggs, 1 onion, 7.8ms\n",
            "image 325/376 /content/food-1/test/images/cabbage-20-344-_jpg.rf.acaa6bd1359d3eb99d3364a8e577d20a.jpg: 640x640 1 cabbage, 11.0ms\n",
            "image 326/376 /content/food-1/test/images/cabbage-5_jpg.rf.553778c4acfbc14a17b647e200a6b251.jpg: 640x640 1 cabbage, 10.6ms\n",
            "image 327/376 /content/food-1/test/images/cabbageasdk129g_jpg.rf.5875e0e55083594700c2745ef44c5a45.jpg: 640x640 2 cabbages, 10.3ms\n",
            "image 328/376 /content/food-1/test/images/cabbagehalf3dmodel005_jpg.rf.fbf48b46ad8d36964b40c5c0cfde66f6.jpg: 640x640 2 bell_peppers, 4 cabbages, 3 eggs, 7.7ms\n",
            "image 329/376 /content/food-1/test/images/cabbagehalf_a0001_jpg.rf.c5999f8b3fe083e11c198a87504d1634.jpg: 640x640 3 bell_peppers, 5 cabbages, 7.7ms\n",
            "image 330/376 /content/food-1/test/images/cabbagehalf_b0014_jpg.rf.5f96ec74c4bff950c9dff53befa61439.jpg: 640x640 1 cabbage, 9.2ms\n",
            "image 331/376 /content/food-1/test/images/cabbageslice-8_jpg.rf.dd6c957f17bf6f59e40f64a393276542.jpg: 640x640 7 bell_peppers, 1 cabbage, 7.5ms\n",
            "image 332/376 /content/food-1/test/images/d-10-_jpg.rf.68a02c12396ee6c1467317fcefa81a35.jpg: 640x640 2 pears, 1 pineapple, 9.8ms\n",
            "image 333/376 /content/food-1/test/images/d-17-_jpg.rf.b4009a01418128d046b630aa273cb23c.jpg: 640x640 2 pears, 1 pineapple, 7.6ms\n",
            "image 334/376 /content/food-1/test/images/d-19-_jpg.rf.107e0f26ff193a6266376d32e223b255.jpg: 640x640 2 pears, 1 pineapple, 9.1ms\n",
            "image 335/376 /content/food-1/test/images/d-24-_jpg.rf.829e16c1e1247bb220cc973c458bfc90.jpg: 640x640 2 pears, 1 pineapple, 9.1ms\n",
            "image 336/376 /content/food-1/test/images/d-25-_jpg.rf.3f8ff97d70be34df805803a74928f4f7.jpg: 640x640 2 pears, 1 pineapple, 15.9ms\n",
            "image 337/376 /content/food-1/test/images/d-33-_jpg.rf.1d98dcdd375f91771008a68ec13e5ee3.jpg: 640x640 2 pears, 1 pineapple, 15.5ms\n",
            "image 338/376 /content/food-1/test/images/d-37-_jpg.rf.fd6440c24f4ce7256287b139f0c6f255.jpg: 640x640 1 pear, 1 pineapple, 13.2ms\n",
            "image 339/376 /content/food-1/test/images/d-67-_jpg.rf.35527bfdb8e5b780ab87415eb0ebe913.jpg: 640x640 2 pears, 1 pineapple, 9.4ms\n",
            "image 340/376 /content/food-1/test/images/d-70-_jpg.rf.b5c638bbd155f454fa4789b79edfba8c.jpg: 640x640 2 pears, 1 pineapple, 9.2ms\n",
            "image 341/376 /content/food-1/test/images/d-72-_jpg.rf.0845603e97ca85978d295a0bdb4c1086.jpg: 640x640 2 pears, 1 pineapple, 9.1ms\n",
            "image 342/376 /content/food-1/test/images/d-85-_jpg.rf.ae860a12306980f7d965f8b5e5dd2b81.jpg: 640x640 2 pears, 1 pineapple, 9.2ms\n",
            "image 343/376 /content/food-1/test/images/d046a34c85f4b6b6edc723b4da4ff191-0-824_jpg.rf.82e181867ca2cf32f574db159bedfc82.jpg: 640x640 2 bell_peppers, 1 carrot, 2 onions, 9.6ms\n",
            "image 344/376 /content/food-1/test/images/deformity-bell-pepper_212_jpg.rf.46fb30473a34cff5a006c0ea50082ae1.jpg: 640x640 4 bell_peppers, 1 cabbage, 10.2ms\n",
            "image 345/376 /content/food-1/test/images/deformity-bell-pepper_2_jpg.rf.d66181cb996ad65df068c8163098b3b7.jpg: 640x640 2 bell_peppers, 7.7ms\n",
            "image 346/376 /content/food-1/test/images/deformity-bell-pepper_76_jpg.rf.a2e50fd6feab5dc031020bad3ad81b2e.jpg: 640x640 7 bell_peppers, 1 eggplant, 7.8ms\n",
            "image 347/376 /content/food-1/test/images/e033231e6c0eec666e7dbfe4c915206b_jpg.rf.a68d17f74062e4cacd31ea4f29a533ae.jpg: 640x640 7 potatos, 10.0ms\n",
            "image 348/376 /content/food-1/test/images/good-127-_jpg.rf.3f180f22630cc92f76f7b493e6d04af9.jpg: 640x640 1 tomato, 8.4ms\n",
            "image 349/376 /content/food-1/test/images/good-127-_jpg.rf.9f2605482faaf97d10f5a74da46a3f95.jpg: 640x640 1 onion, 1 tomato, 7.8ms\n",
            "image 350/376 /content/food-1/test/images/good-127-_jpg.rf.b94678e0700c3ab3da6e9d2664164a0e.jpg: 640x640 2 bell_peppers, 2 eggs, 1 onion, 1 tomato, 7.8ms\n",
            "image 351/376 /content/food-1/test/images/good-127-_jpg.rf.d0e72c5c96512043d672d367632fc4b6.jpg: 640x640 4 bell_peppers, 2 eggs, 1 onion, 5 tomatos, 7.7ms\n",
            "image 352/376 /content/food-1/test/images/greek_salad3__jpg.rf.e7d48362be33d90d8c44d5db255427ba.jpg: 640x640 1 cabbage, 2 cucumbers, 1 onion, 1 potato, 2 tomatos, 10.1ms\n",
            "image 353/376 /content/food-1/test/images/half-onion003_jpg.rf.6ea44d306cc753e94cbcac1bae9011e2.jpg: 640x640 3 onions, 8.7ms\n",
            "image 354/376 /content/food-1/test/images/half-onion022_jpg.rf.1ccce78ab171290ceba6e74db8eafdd5.jpg: 640x640 1 onion, 8.0ms\n",
            "image 355/376 /content/food-1/test/images/half-onion030_jpg.rf.7b3b7ea0da6002e34ccfe2d19cf1d615.jpg: 640x640 1 onion, 7.4ms\n",
            "image 356/376 /content/food-1/test/images/half-onion044_jpg.rf.c3f759121af6d8e9d9996ef9ec46b0ed.jpg: 640x640 2 onions, 7.4ms\n",
            "image 357/376 /content/food-1/test/images/half-onion083_jpg.rf.78b3a67e0317e826fbb75e77e1065017.jpg: 640x640 2 onions, 7.6ms\n",
            "image 358/376 /content/food-1/test/images/half-onion089_jpg.rf.cd966fa026100e8ecbf81e5f4d4c486f.jpg: 640x640 3 cabbages, 3 onions, 7.4ms\n",
            "image 359/376 /content/food-1/test/images/half-onion091_jpg.rf.3bf5bd6ee9bf9b243ce53adf5d77bf3c.jpg: 640x640 2 bell_peppers, 5 eggs, 2 onions, 7.4ms\n",
            "image 360/376 /content/food-1/test/images/half-onion091_jpg.rf.42cccd8e01f139a8da73d3b941048029.jpg: 640x640 2 bell_peppers, 1 cabbage, 1 egg, 5 onions, 10.9ms\n",
            "image 361/376 /content/food-1/test/images/kisspng-broccoli-cabbage-vegetable-cauliflower-clip-art-broccoli-5ac6215fcfbbf3-9867297415229341118509_png_jpg.rf.c495d846484d49f949dd8bfb4d8790b8.jpg: 640x640 (no detections), 7.6ms\n",
            "image 362/376 /content/food-1/test/images/mix-vegetable_jpg.rf.ff8e08d53d3954c9912ff7fd40f88eaf.jpg: 640x640 1 bell_pepper, 1 cabbage, 1 tomato, 4 zucchinis, 7.5ms\n",
            "image 363/376 /content/food-1/test/images/onion-3d-model-low-poly-obj-fbx_jpg.rf.b8e3e4f5eed14179f1da88800db5268e.jpg: 640x640 2 onions, 7.4ms\n",
            "image 364/376 /content/food-1/test/images/onion-3d-model-obj-mtl-3ds-3dm-dwg_jpg.rf.5b8ea0f72f5c2a3f7495d38558521f90.jpg: 640x640 2 onions, 7.4ms\n",
            "image 365/376 /content/food-1/test/images/onion005_jpg.rf.4f0a7228abf05bee207972cadd43670a.jpg: 640x640 3 cabbages, 2 cucumbers, 1 onion, 7.4ms\n",
            "image 366/376 /content/food-1/test/images/onion010_jpg.rf.fa82e8919bfa67d3caa381798648976c.jpg: 640x640 1 beet, 2 bell_peppers, 1 carrot, 5 onions, 1 potato, 7 tomatos, 7.4ms\n",
            "image 367/376 /content/food-1/test/images/onion017_jpg.rf.f4968973fcf8f4ef1199e047909b11bb.jpg: 640x640 1 bell_pepper, 2 carrots, 2 eggplants, 2 garlics, 3 onions, 7.4ms\n",
            "image 368/376 /content/food-1/test/images/onion018_jpg.rf.fb1ef670e4a78a4027c2691e637e88b2.jpg: 640x640 1 egg, 1 onion, 2 zucchinis, 7.4ms\n",
            "image 369/376 /content/food-1/test/images/onion046_jpg.rf.bd596407637413a8ea80e50941dd21ee.jpg: 640x640 1 beet, 1 cabbage, 1 carrot, 2 cucumbers, 1 egg, 3 onions, 2 potatos, 7.4ms\n",
            "image 370/376 /content/food-1/test/images/patlican15_jpg.rf.42ee1edc0d233e4912ee7ac3109cc8dc.jpg: 640x640 7 eggplants, 2 onions, 9.5ms\n",
            "image 371/376 /content/food-1/test/images/patlican18_jpg.rf.73b13de9c6f4bf6c296f031d44fe8279.jpg: 640x640 1 cabbage, 3 eggplants, 1 onion, 3 tomatos, 1 zucchini, 7.4ms\n",
            "image 372/376 /content/food-1/test/images/patlican20_jpg.rf.46da555543332e7b0184adb5918e2401.jpg: 640x640 5 bell_peppers, 2 carrots, 2 eggplants, 1 garlic, 7.4ms\n",
            "image 373/376 /content/food-1/test/images/patlican32_jpg.rf.5596fd80733188e22006b6ca78d543fc.jpg: 640x640 1 eggplant, 10.7ms\n",
            "image 374/376 /content/food-1/test/images/patlican36_jpg.rf.88616de03f6b74ad7f799962021d64b5.jpg: 640x640 1 bell_pepper, 2 carrots, 1 cucumber, 9 eggplants, 2 zucchinis, 13.4ms\n",
            "image 375/376 /content/food-1/test/images/patlican48_jpg.rf.b351ae9d2695f9ab0ddff39091919483.jpg: 640x640 4 bell_peppers, 2 cabbages, 1 carrot, 1 cucumber, 2 eggplants, 3 onions, 1 potato, 8 tomatos, 11.6ms\n",
            "image 376/376 /content/food-1/test/images/patlican4_jpg.rf.7ddf4c640fec4f73d37ff26bbed083ce.jpg: 640x640 39 eggplants, 13.6ms\n",
            "Speed: 2.4ms preprocess, 7.9ms inference, 1.4ms postprocess per image at shape (1, 3, 640, 640)\n",
            "Results saved to \u001b[1mruns/detect/predict5\u001b[0m\n"
          ]
        }
      ]
    },
    {
      "cell_type": "code",
      "source": [
        "from ultralytics import YOLO\n",
        "\n",
        "# Load your previously trained model\n",
        "model = YOLO('/content/best (4).pt')  # Path to your trained model's weights\n",
        "\n",
        "# Train (fine-tune) on the same dataset\n",
        "model.train(data='/content/food-1/data.yaml',  # Path to your dataset config file\n",
        "            epochs=50,  # Number of epochs to fine-tune\n",
        "            imgsz=640,  # Image size\n",
        "            batch=16,  # Batch size\n",
        "            lr0=1e-4,  # Initial learning rate for fine-tuning\n",
        "            device=0)  # GPU (0) or CPU (-1)\n"
      ],
      "metadata": {
        "colab": {
          "base_uri": "https://localhost:8080/"
        },
        "id": "YNux57esS74T",
        "outputId": "b0ebf910-3001-4e26-da09-db1a03975118"
      },
      "execution_count": null,
      "outputs": [
        {
          "output_type": "stream",
          "name": "stdout",
          "text": [
            "Ultralytics YOLOv8.2.100 🚀 Python-3.10.12 torch-2.3.1+cu121 CUDA:0 (Tesla T4, 15102MiB)\n",
            "\u001b[34m\u001b[1mengine/trainer: \u001b[0mtask=detect, mode=train, model=/content/best (4).pt, data=/content/food-1/data.yaml, epochs=50, time=None, patience=100, batch=16, imgsz=640, save=True, save_period=-1, cache=False, device=0, workers=8, project=None, name=train2, exist_ok=False, pretrained=True, optimizer=auto, verbose=True, seed=0, deterministic=True, single_cls=False, rect=False, cos_lr=False, close_mosaic=10, resume=False, amp=True, fraction=1.0, profile=False, freeze=None, multi_scale=False, overlap_mask=True, mask_ratio=4, dropout=0.0, val=True, split=val, save_json=False, save_hybrid=False, conf=None, iou=0.7, max_det=300, half=False, dnn=False, plots=True, source=None, vid_stride=1, stream_buffer=False, visualize=False, augment=False, agnostic_nms=False, classes=None, retina_masks=False, embed=None, show=False, save_frames=False, save_txt=False, save_conf=False, save_crop=False, show_labels=True, show_conf=True, show_boxes=True, line_width=None, format=torchscript, keras=False, optimize=False, int8=False, dynamic=False, simplify=True, opset=None, workspace=4, nms=False, lr0=0.0001, lrf=0.01, momentum=0.937, weight_decay=0.0005, warmup_epochs=3.0, warmup_momentum=0.8, warmup_bias_lr=0.1, box=7.5, cls=0.5, dfl=1.5, pose=12.0, kobj=1.0, label_smoothing=0.0, nbs=64, hsv_h=0.015, hsv_s=0.7, hsv_v=0.4, degrees=0.0, translate=0.1, scale=0.5, shear=0.0, perspective=0.0, flipud=0.0, fliplr=0.5, bgr=0.0, mosaic=1.0, mixup=0.0, copy_paste=0.0, auto_augment=randaugment, erasing=0.4, crop_fraction=1.0, cfg=None, tracker=botsort.yaml, save_dir=runs/detect/train2\n",
            "Downloading https://ultralytics.com/assets/Arial.ttf to '/root/.config/Ultralytics/Arial.ttf'...\n"
          ]
        },
        {
          "output_type": "stream",
          "name": "stderr",
          "text": [
            "100%|██████████| 755k/755k [00:00<00:00, 19.3MB/s]\n"
          ]
        },
        {
          "output_type": "stream",
          "name": "stdout",
          "text": [
            "\n",
            "                   from  n    params  module                                       arguments                     \n",
            "  0                  -1  1       464  ultralytics.nn.modules.conv.Conv             [3, 16, 3, 2]                 \n",
            "  1                  -1  1      4672  ultralytics.nn.modules.conv.Conv             [16, 32, 3, 2]                \n",
            "  2                  -1  1      7360  ultralytics.nn.modules.block.C2f             [32, 32, 1, True]             \n",
            "  3                  -1  1     18560  ultralytics.nn.modules.conv.Conv             [32, 64, 3, 2]                \n",
            "  4                  -1  2     49664  ultralytics.nn.modules.block.C2f             [64, 64, 2, True]             \n",
            "  5                  -1  1     73984  ultralytics.nn.modules.conv.Conv             [64, 128, 3, 2]               \n",
            "  6                  -1  2    197632  ultralytics.nn.modules.block.C2f             [128, 128, 2, True]           \n",
            "  7                  -1  1    295424  ultralytics.nn.modules.conv.Conv             [128, 256, 3, 2]              \n",
            "  8                  -1  1    460288  ultralytics.nn.modules.block.C2f             [256, 256, 1, True]           \n",
            "  9                  -1  1    164608  ultralytics.nn.modules.block.SPPF            [256, 256, 5]                 \n",
            " 10                  -1  1         0  torch.nn.modules.upsampling.Upsample         [None, 2, 'nearest']          \n",
            " 11             [-1, 6]  1         0  ultralytics.nn.modules.conv.Concat           [1]                           \n",
            " 12                  -1  1    148224  ultralytics.nn.modules.block.C2f             [384, 128, 1]                 \n",
            " 13                  -1  1         0  torch.nn.modules.upsampling.Upsample         [None, 2, 'nearest']          \n",
            " 14             [-1, 4]  1         0  ultralytics.nn.modules.conv.Concat           [1]                           \n",
            " 15                  -1  1     37248  ultralytics.nn.modules.block.C2f             [192, 64, 1]                  \n",
            " 16                  -1  1     36992  ultralytics.nn.modules.conv.Conv             [64, 64, 3, 2]                \n",
            " 17            [-1, 12]  1         0  ultralytics.nn.modules.conv.Concat           [1]                           \n",
            " 18                  -1  1    123648  ultralytics.nn.modules.block.C2f             [192, 128, 1]                 \n",
            " 19                  -1  1    147712  ultralytics.nn.modules.conv.Conv             [128, 128, 3, 2]              \n",
            " 20             [-1, 9]  1         0  ultralytics.nn.modules.conv.Concat           [1]                           \n",
            " 21                  -1  1    493056  ultralytics.nn.modules.block.C2f             [384, 256, 1]                 \n",
            " 22        [15, 18, 21]  1    755212  ultralytics.nn.modules.head.Detect           [20, [64, 128, 256]]          \n",
            "Model summary: 225 layers, 3,014,748 parameters, 3,014,732 gradients, 8.2 GFLOPs\n",
            "\n",
            "Transferred 355/355 items from pretrained weights\n",
            "\u001b[34m\u001b[1mTensorBoard: \u001b[0mStart with 'tensorboard --logdir runs/detect/train2', view at http://localhost:6006/\n",
            "Freezing layer 'model.22.dfl.conv.weight'\n",
            "\u001b[34m\u001b[1mAMP: \u001b[0mrunning Automatic Mixed Precision (AMP) checks with YOLOv8n...\n",
            "Downloading https://github.com/ultralytics/assets/releases/download/v8.2.0/yolov8n.pt to 'yolov8n.pt'...\n"
          ]
        },
        {
          "output_type": "stream",
          "name": "stderr",
          "text": [
            "100%|██████████| 6.25M/6.25M [00:00<00:00, 99.3MB/s]\n"
          ]
        },
        {
          "output_type": "stream",
          "name": "stdout",
          "text": [
            "\u001b[34m\u001b[1mAMP: \u001b[0mchecks passed ✅\n"
          ]
        },
        {
          "output_type": "stream",
          "name": "stderr",
          "text": [
            "\u001b[34m\u001b[1mtrain: \u001b[0mScanning /content/food-1/train/labels... 2220 images, 28 backgrounds, 0 corrupt: 100%|██████████| 2220/2220 [00:01<00:00, 1918.98it/s]"
          ]
        },
        {
          "output_type": "stream",
          "name": "stdout",
          "text": [
            "\u001b[34m\u001b[1mtrain: \u001b[0mNew cache created: /content/food-1/train/labels.cache\n",
            "WARNING ⚠️ Box and segment counts should be equal, but got len(segments) = 229, len(boxes) = 12625. To resolve this only boxes will be used and all segments will be removed. To avoid this please supply either a detect or segment dataset, not a detect-segment mixed dataset.\n"
          ]
        },
        {
          "output_type": "stream",
          "name": "stderr",
          "text": [
            "\n"
          ]
        },
        {
          "output_type": "stream",
          "name": "stdout",
          "text": [
            "\u001b[34m\u001b[1malbumentations: \u001b[0mBlur(p=0.01, blur_limit=(3, 7)), MedianBlur(p=0.01, blur_limit=(3, 7)), ToGray(p=0.01), CLAHE(p=0.01, clip_limit=(1, 4.0), tile_grid_size=(8, 8))\n"
          ]
        },
        {
          "output_type": "stream",
          "name": "stderr",
          "text": [
            "os.fork() was called. os.fork() is incompatible with multithreaded code, and JAX is multithreaded, so this will likely lead to a deadlock.\n",
            "\u001b[34m\u001b[1mval: \u001b[0mScanning /content/food-1/valid/labels... 734 images, 7 backgrounds, 0 corrupt: 100%|██████████| 734/734 [00:01<00:00, 704.91it/s]\n"
          ]
        },
        {
          "output_type": "stream",
          "name": "stdout",
          "text": [
            "\u001b[34m\u001b[1mval: \u001b[0mNew cache created: /content/food-1/valid/labels.cache\n",
            "WARNING ⚠️ Box and segment counts should be equal, but got len(segments) = 83, len(boxes) = 3938. To resolve this only boxes will be used and all segments will be removed. To avoid this please supply either a detect or segment dataset, not a detect-segment mixed dataset.\n",
            "Plotting labels to runs/detect/train2/labels.jpg... \n",
            "\u001b[34m\u001b[1moptimizer:\u001b[0m 'optimizer=auto' found, ignoring 'lr0=0.0001' and 'momentum=0.937' and determining best 'optimizer', 'lr0' and 'momentum' automatically... \n",
            "\u001b[34m\u001b[1moptimizer:\u001b[0m AdamW(lr=0.000417, momentum=0.9) with parameter groups 57 weight(decay=0.0), 64 weight(decay=0.0005), 63 bias(decay=0.0)\n",
            "\u001b[34m\u001b[1mTensorBoard: \u001b[0mmodel graph visualization added ✅\n",
            "Image sizes 640 train, 640 val\n",
            "Using 2 dataloader workers\n",
            "Logging results to \u001b[1mruns/detect/train2\u001b[0m\n",
            "Starting training for 50 epochs...\n",
            "\n",
            "      Epoch    GPU_mem   box_loss   cls_loss   dfl_loss  Instances       Size\n"
          ]
        },
        {
          "output_type": "stream",
          "name": "stderr",
          "text": [
            "       1/50      2.64G     0.7869     0.8476      1.082        150        640: 100%|██████████| 139/139 [01:02<00:00,  2.23it/s]\n",
            "                 Class     Images  Instances      Box(P          R      mAP50  mAP50-95): 100%|██████████| 23/23 [00:13<00:00,  1.72it/s]"
          ]
        },
        {
          "output_type": "stream",
          "name": "stdout",
          "text": [
            "                   all        734       3938       0.79      0.799      0.837       0.66\n"
          ]
        },
        {
          "output_type": "stream",
          "name": "stderr",
          "text": [
            "\n"
          ]
        },
        {
          "output_type": "stream",
          "name": "stdout",
          "text": [
            "\n",
            "      Epoch    GPU_mem   box_loss   cls_loss   dfl_loss  Instances       Size\n"
          ]
        },
        {
          "output_type": "stream",
          "name": "stderr",
          "text": [
            "       2/50      2.31G     0.8069      0.854      1.089        123        640: 100%|██████████| 139/139 [00:51<00:00,  2.69it/s]\n",
            "                 Class     Images  Instances      Box(P          R      mAP50  mAP50-95): 100%|██████████| 23/23 [00:10<00:00,  2.23it/s]"
          ]
        },
        {
          "output_type": "stream",
          "name": "stdout",
          "text": [
            "                   all        734       3938        0.8      0.774       0.81       0.63\n"
          ]
        },
        {
          "output_type": "stream",
          "name": "stderr",
          "text": [
            "\n"
          ]
        },
        {
          "output_type": "stream",
          "name": "stdout",
          "text": [
            "\n",
            "      Epoch    GPU_mem   box_loss   cls_loss   dfl_loss  Instances       Size\n"
          ]
        },
        {
          "output_type": "stream",
          "name": "stderr",
          "text": [
            "       3/50      2.34G     0.8366     0.8958      1.107        139        640: 100%|██████████| 139/139 [00:51<00:00,  2.68it/s]\n",
            "                 Class     Images  Instances      Box(P          R      mAP50  mAP50-95): 100%|██████████| 23/23 [00:07<00:00,  3.04it/s]"
          ]
        },
        {
          "output_type": "stream",
          "name": "stdout",
          "text": [
            "                   all        734       3938      0.753        0.8      0.807      0.624\n"
          ]
        },
        {
          "output_type": "stream",
          "name": "stderr",
          "text": [
            "\n"
          ]
        },
        {
          "output_type": "stream",
          "name": "stdout",
          "text": [
            "\n",
            "      Epoch    GPU_mem   box_loss   cls_loss   dfl_loss  Instances       Size\n"
          ]
        },
        {
          "output_type": "stream",
          "name": "stderr",
          "text": [
            "       4/50      2.29G     0.8424     0.9074      1.105        121        640: 100%|██████████| 139/139 [00:50<00:00,  2.75it/s]\n",
            "                 Class     Images  Instances      Box(P          R      mAP50  mAP50-95): 100%|██████████| 23/23 [00:11<00:00,  2.01it/s]\n"
          ]
        },
        {
          "output_type": "stream",
          "name": "stdout",
          "text": [
            "                   all        734       3938      0.725      0.757      0.795      0.613\n",
            "\n",
            "      Epoch    GPU_mem   box_loss   cls_loss   dfl_loss  Instances       Size\n"
          ]
        },
        {
          "output_type": "stream",
          "name": "stderr",
          "text": [
            "       5/50      2.35G     0.8459      0.906      1.108         85        640: 100%|██████████| 139/139 [00:48<00:00,  2.84it/s]\n",
            "                 Class     Images  Instances      Box(P          R      mAP50  mAP50-95): 100%|██████████| 23/23 [00:11<00:00,  2.02it/s]"
          ]
        },
        {
          "output_type": "stream",
          "name": "stdout",
          "text": [
            "                   all        734       3938      0.781      0.795      0.834      0.644\n"
          ]
        },
        {
          "output_type": "stream",
          "name": "stderr",
          "text": [
            "\n"
          ]
        },
        {
          "output_type": "stream",
          "name": "stdout",
          "text": [
            "\n",
            "      Epoch    GPU_mem   box_loss   cls_loss   dfl_loss  Instances       Size\n"
          ]
        },
        {
          "output_type": "stream",
          "name": "stderr",
          "text": [
            "       6/50      2.22G     0.8351     0.8905       1.11        111        640: 100%|██████████| 139/139 [00:51<00:00,  2.69it/s]\n",
            "                 Class     Images  Instances      Box(P          R      mAP50  mAP50-95): 100%|██████████| 23/23 [00:08<00:00,  2.63it/s]"
          ]
        },
        {
          "output_type": "stream",
          "name": "stdout",
          "text": [
            "                   all        734       3938      0.791      0.756      0.798      0.617\n"
          ]
        },
        {
          "output_type": "stream",
          "name": "stderr",
          "text": [
            "\n"
          ]
        },
        {
          "output_type": "stream",
          "name": "stdout",
          "text": [
            "\n",
            "      Epoch    GPU_mem   box_loss   cls_loss   dfl_loss  Instances       Size\n"
          ]
        },
        {
          "output_type": "stream",
          "name": "stderr",
          "text": [
            "       7/50       2.2G     0.8302     0.8682      1.103        105        640: 100%|██████████| 139/139 [00:57<00:00,  2.41it/s]\n",
            "                 Class     Images  Instances      Box(P          R      mAP50  mAP50-95): 100%|██████████| 23/23 [00:11<00:00,  2.07it/s]"
          ]
        },
        {
          "output_type": "stream",
          "name": "stdout",
          "text": [
            "                   all        734       3938      0.799       0.76      0.824       0.64\n"
          ]
        },
        {
          "output_type": "stream",
          "name": "stderr",
          "text": [
            "\n"
          ]
        },
        {
          "output_type": "stream",
          "name": "stdout",
          "text": [
            "\n",
            "      Epoch    GPU_mem   box_loss   cls_loss   dfl_loss  Instances       Size\n"
          ]
        },
        {
          "output_type": "stream",
          "name": "stderr",
          "text": [
            "       8/50      2.33G     0.8255     0.8548      1.099         99        640: 100%|██████████| 139/139 [00:50<00:00,  2.76it/s]\n",
            "                 Class     Images  Instances      Box(P          R      mAP50  mAP50-95): 100%|██████████| 23/23 [00:10<00:00,  2.15it/s]\n"
          ]
        },
        {
          "output_type": "stream",
          "name": "stdout",
          "text": [
            "                   all        734       3938      0.808      0.759      0.831      0.647\n",
            "\n",
            "      Epoch    GPU_mem   box_loss   cls_loss   dfl_loss  Instances       Size\n"
          ]
        },
        {
          "output_type": "stream",
          "name": "stderr",
          "text": [
            "       9/50       2.3G     0.8232     0.8404      1.099         78        640: 100%|██████████| 139/139 [00:52<00:00,  2.63it/s]\n",
            "                 Class     Images  Instances      Box(P          R      mAP50  mAP50-95): 100%|██████████| 23/23 [00:07<00:00,  3.01it/s]"
          ]
        },
        {
          "output_type": "stream",
          "name": "stdout",
          "text": [
            "                   all        734       3938      0.811      0.759      0.827      0.645\n"
          ]
        },
        {
          "output_type": "stream",
          "name": "stderr",
          "text": [
            "\n"
          ]
        },
        {
          "output_type": "stream",
          "name": "stdout",
          "text": [
            "\n",
            "      Epoch    GPU_mem   box_loss   cls_loss   dfl_loss  Instances       Size\n"
          ]
        },
        {
          "output_type": "stream",
          "name": "stderr",
          "text": [
            "      10/50       2.2G     0.8155     0.8228      1.097        146        640: 100%|██████████| 139/139 [00:52<00:00,  2.64it/s]\n",
            "                 Class     Images  Instances      Box(P          R      mAP50  mAP50-95): 100%|██████████| 23/23 [00:09<00:00,  2.36it/s]\n"
          ]
        },
        {
          "output_type": "stream",
          "name": "stdout",
          "text": [
            "                   all        734       3938      0.813      0.762      0.824      0.642\n",
            "\n",
            "      Epoch    GPU_mem   box_loss   cls_loss   dfl_loss  Instances       Size\n"
          ]
        },
        {
          "output_type": "stream",
          "name": "stderr",
          "text": [
            "      11/50      2.18G     0.8147     0.8176      1.101        103        640: 100%|██████████| 139/139 [00:49<00:00,  2.82it/s]\n",
            "                 Class     Images  Instances      Box(P          R      mAP50  mAP50-95): 100%|██████████| 23/23 [00:11<00:00,  2.04it/s]"
          ]
        },
        {
          "output_type": "stream",
          "name": "stdout",
          "text": [
            "                   all        734       3938      0.812      0.786      0.836      0.648\n"
          ]
        },
        {
          "output_type": "stream",
          "name": "stderr",
          "text": [
            "\n"
          ]
        },
        {
          "output_type": "stream",
          "name": "stdout",
          "text": [
            "\n",
            "      Epoch    GPU_mem   box_loss   cls_loss   dfl_loss  Instances       Size\n"
          ]
        },
        {
          "output_type": "stream",
          "name": "stderr",
          "text": [
            "      12/50      2.35G     0.7982     0.7949      1.081        117        640: 100%|██████████| 139/139 [00:52<00:00,  2.67it/s]\n",
            "                 Class     Images  Instances      Box(P          R      mAP50  mAP50-95): 100%|██████████| 23/23 [00:08<00:00,  2.78it/s]"
          ]
        },
        {
          "output_type": "stream",
          "name": "stdout",
          "text": [
            "                   all        734       3938      0.761       0.81      0.821      0.639\n"
          ]
        },
        {
          "output_type": "stream",
          "name": "stderr",
          "text": [
            "\n"
          ]
        },
        {
          "output_type": "stream",
          "name": "stdout",
          "text": [
            "\n",
            "      Epoch    GPU_mem   box_loss   cls_loss   dfl_loss  Instances       Size\n"
          ]
        },
        {
          "output_type": "stream",
          "name": "stderr",
          "text": [
            "      13/50       2.2G     0.8038      0.796      1.089        115        640: 100%|██████████| 139/139 [00:56<00:00,  2.45it/s]\n",
            "                 Class     Images  Instances      Box(P          R      mAP50  mAP50-95): 100%|██████████| 23/23 [00:11<00:00,  2.05it/s]"
          ]
        },
        {
          "output_type": "stream",
          "name": "stdout",
          "text": [
            "                   all        734       3938      0.786      0.751      0.818      0.637\n"
          ]
        },
        {
          "output_type": "stream",
          "name": "stderr",
          "text": [
            "\n"
          ]
        },
        {
          "output_type": "stream",
          "name": "stdout",
          "text": [
            "\n",
            "      Epoch    GPU_mem   box_loss   cls_loss   dfl_loss  Instances       Size\n"
          ]
        },
        {
          "output_type": "stream",
          "name": "stderr",
          "text": [
            "      14/50      2.34G     0.8013     0.7773      1.083        107        640: 100%|██████████| 139/139 [00:50<00:00,  2.75it/s]\n",
            "                 Class     Images  Instances      Box(P          R      mAP50  mAP50-95): 100%|██████████| 23/23 [00:10<00:00,  2.12it/s]"
          ]
        },
        {
          "output_type": "stream",
          "name": "stdout",
          "text": [
            "                   all        734       3938      0.766      0.796       0.83      0.651\n"
          ]
        },
        {
          "output_type": "stream",
          "name": "stderr",
          "text": [
            "\n"
          ]
        },
        {
          "output_type": "stream",
          "name": "stdout",
          "text": [
            "\n",
            "      Epoch    GPU_mem   box_loss   cls_loss   dfl_loss  Instances       Size\n"
          ]
        },
        {
          "output_type": "stream",
          "name": "stderr",
          "text": [
            "      15/50      2.33G     0.7905     0.7569      1.073        187        640:  90%|████████▉ | 125/139 [00:45<00:05,  2.59it/s]"
          ]
        }
      ]
    }
  ]
}